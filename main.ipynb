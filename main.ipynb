{
 "cells": [
  {
   "cell_type": "code",
   "execution_count": null,
   "id": "0746b7f1-e66a-41d9-bbce-d60c2551cf3c",
   "metadata": {
    "tags": []
   },
   "outputs": [],
   "source": [
    "\n",
    "!git clone https://github.com/MaastrichtU-IDS/LMKBC-2023.git"
   ]
  },
  {
   "cell_type": "code",
   "execution_count": null,
   "id": "5d05e67e-39f7-470c-8c1e-19775707b2db",
   "metadata": {
    "tags": []
   },
   "outputs": [],
   "source": [
    "!git reset --hard\n",
    "!git pull -f https://github.com/MaastrichtU-IDS/LMKBC-2023.git"
   ]
  },
  {
   "cell_type": "code",
   "execution_count": null,
   "id": "3ef8c3b6-c9dc-495e-b844-fc353dadbaf3",
   "metadata": {
    "tags": []
   },
   "outputs": [],
   "source": [
    "import os\n",
    "os.chdir('LMKBC-2023/')"
   ]
  },
  {
   "cell_type": "code",
   "execution_count": null,
   "id": "d5a2ecd7-70ce-45b1-9250-8b3375b928f6",
   "metadata": {
    "tags": []
   },
   "outputs": [],
   "source": [
    "!pip install accelerate -U\n",
    "#!pip install transformers"
   ]
  },
  {
   "cell_type": "code",
   "execution_count": null,
   "id": "b789a5e4-ab2b-4301-8b79-a9cb11eb659c",
   "metadata": {
    "scrolled": true,
    "tags": []
   },
   "outputs": [
    {
     "name": "stdout",
     "output_type": "stream",
     "text": [
      "\n",
      "   python src/tr_model.py    --train_batch_size 128 --gpu 0   --train_epoch 30 --learning_rate 3e-5  --model_load_dir prajjwal1/bert-tiny --model_save_dir /workspace/persistent/LMKBC-2023/bin/train_full/token_redefine/prajjwal1/bert-tiny --model_best_dir  /workspace/persistent/LMKBC-2023/bin/train_full/token_redefine/prajjwal1/bert-tiny/best_ckpt\n",
      "    \n",
      "    \n",
      "True\n",
      "max_sentence_length 40\n",
      "train dataset size: 6925\n",
      "/usr/local/lib/python3.8/dist-packages/transformers/optimization.py:411: FutureWarning: This implementation of AdamW is deprecated and will be removed in a future version. Use the PyTorch implementation torch.optim.AdamW instead, or set `no_deprecation_warning=True` to disable this warning\n",
      "  warnings.warn(\n",
      "  0%|                                                  | 0/1650 [00:00<?, ?it/s]You're using a BertTokenizerFast tokenizer. Please note that with a fast tokenizer, using the `__call__` method is faster than using a method to encode the text followed by a call to the `pad` method to get a padded encoding.\n",
      "{'loss': 8.9767, 'learning_rate': 9.636363636363638e-06, 'epoch': 1.0}          \n",
      "{'loss': 4.564, 'learning_rate': 1.963636363636364e-05, 'epoch': 2.0}           \n",
      "{'loss': 2.0668, 'learning_rate': 2.9636363636363638e-05, 'epoch': 3.0}         \n",
      "{'loss': 1.2883, 'learning_rate': 2.892929292929293e-05, 'epoch': 4.0}          \n",
      "{'loss': 1.0501, 'learning_rate': 2.7818181818181818e-05, 'epoch': 5.0}         \n",
      "{'loss': 0.9624, 'learning_rate': 2.670707070707071e-05, 'epoch': 6.0}          \n",
      "{'loss': 0.9162, 'learning_rate': 2.5595959595959596e-05, 'epoch': 7.0}         \n",
      "{'loss': 0.8887, 'learning_rate': 2.4484848484848487e-05, 'epoch': 8.0}         \n",
      "{'loss': 0.8712, 'learning_rate': 2.3373737373737375e-05, 'epoch': 9.0}         \n",
      "{'loss': 0.8598, 'learning_rate': 2.2262626262626266e-05, 'epoch': 10.0}        \n",
      "{'loss': 0.8526, 'learning_rate': 2.1151515151515153e-05, 'epoch': 11.0}        \n",
      "{'loss': 0.8435, 'learning_rate': 2.0040404040404044e-05, 'epoch': 12.0}        \n",
      "{'loss': 0.8387, 'learning_rate': 1.8929292929292928e-05, 'epoch': 13.0}        \n",
      "{'loss': 0.8326, 'learning_rate': 1.781818181818182e-05, 'epoch': 14.0}         \n",
      "{'loss': 0.8296, 'learning_rate': 1.6707070707070706e-05, 'epoch': 15.0}        \n",
      "{'loss': 0.8272, 'learning_rate': 1.5595959595959597e-05, 'epoch': 16.0}        \n",
      "{'loss': 0.824, 'learning_rate': 1.4484848484848485e-05, 'epoch': 17.0}         \n",
      "{'loss': 0.8185, 'learning_rate': 1.3373737373737374e-05, 'epoch': 18.0}        \n",
      "{'loss': 0.8175, 'learning_rate': 1.2262626262626263e-05, 'epoch': 19.0}        \n",
      "{'loss': 0.816, 'learning_rate': 1.1151515151515152e-05, 'epoch': 20.0}         \n",
      "{'loss': 0.8141, 'learning_rate': 1.0040404040404041e-05, 'epoch': 21.0}        \n",
      "{'loss': 0.8137, 'learning_rate': 8.92929292929293e-06, 'epoch': 22.0}          \n",
      "{'loss': 0.8116, 'learning_rate': 7.818181818181818e-06, 'epoch': 23.0}         \n",
      "{'loss': 0.809, 'learning_rate': 6.707070707070707e-06, 'epoch': 24.0}          \n",
      "{'loss': 0.8095, 'learning_rate': 5.5959595959595955e-06, 'epoch': 25.0}        \n",
      "{'loss': 0.8067, 'learning_rate': 4.484848484848485e-06, 'epoch': 26.0}         \n",
      "{'loss': 0.8058, 'learning_rate': 3.3737373737373734e-06, 'epoch': 27.0}        \n",
      "{'loss': 0.8043, 'learning_rate': 2.2626262626262626e-06, 'epoch': 28.0}        \n",
      "{'loss': 0.8054, 'learning_rate': 1.1515151515151514e-06, 'epoch': 29.0}        \n",
      "{'loss': 0.8046, 'learning_rate': 4.040404040404041e-08, 'epoch': 30.0}         \n",
      "{'train_runtime': 76.9479, 'train_samples_per_second': 2699.88, 'train_steps_per_second': 21.443, 'train_loss': 1.2943044419722123, 'epoch': 30.0}\n",
      "100%|███████████████████████████████████████| 1650/1650 [01:16<00:00, 21.44it/s]\n",
      "\n",
      "    \n",
      "   python src/pre_model.py   --train_fn /workspace/persistent/LMKBC-2023/res/additional_corpus/fm_pretrain_2.txt  --train_batch_size 16 --gpu 0   --train_epoch 40 --learning_rate 3e-5   --model_load_dir /workspace/persistent/LMKBC-2023/bin/train_full/token_redefine/prajjwal1/bert-tiny/best_ckpt --model_save_dir /workspace/persistent/LMKBC-2023/bin/train_full/pretrain_fill_mask/prajjwal1/bert-tiny --model_best_dir  /workspace/persistent/LMKBC-2023/bin/train_full/pretrain_fill_mask/prajjwal1/bert-tiny/best_ckpt\n",
      "    \n",
      "    \n",
      "True\n",
      "exists ['Faro', 'Kiribati', 'New Zealand', 'South Africa', 'Mauritania', 'Solomon Islands', 'Ivory Coast', 'Surin', 'Cro', 'Faroe Islands', 'Saint Lucia', 'Dominican Republic', 'United Kingdom', 'Barbuda', 'Togo', 'Czech Republic', 'South Korea', 'Om', 'Republic of the Congo', 'Eritrea', 'Saint Vincent and the Grenadines', 'Palau', 'San Marino', 'Suriname', 'Antigua and Barbuda', 'Tuvalu', 'Dominica', 'Saint Kitts and Nevis', 'Marshall Islands', 'Grenada', 'Costa Rica', 'Nauru']\n",
      "input_tokens ['[CLS]', 'Part', '##ici', '##pation', 'in', 'the', 'I', '##WC', 'is', 'not', 'limited', 'to', 'states', 'involved', 'in', 'w', '##haling', '.', 'Membership', 'in', 'the', 'I', '##WC', 'has', 'doubled', 'since', '2001', 'with', 'an', 'average', 'of', 'almost', 'six', 'states', 'per', 'year', 'joining', 'the', 'I', '##WC', 'from', '2002', 'to', '2008', '.', 'As', 'of', 'July', '2019', 'there', 'were', '88', 'members', '.', 'Current', '2019', 'members', 'are', ':', 'Antigua and Barbuda', ',', 'Argentina', ',', 'Australia', ',', 'Austria', ',', 'Belgium', ',', 'Belize', ',', 'Benin', ',', 'Brazil', ',', 'Bulgaria', ',', 'Cambodia', ',', 'Cameroon', ',', 'Chile', ',', 'China', ',', 'Colombia', ',', 'Republic of the Congo', ',', 'Costa Rica', ',', 'Ivory Coast', ',', 'Cro', 'at', '##ia', ',', 'Cyprus', ',', 'Czech Republic', ',', 'Denmark', 'which', 'also', 'acts', 'as', 'the', 'Kingdom', 'with', 'the', 'Faroe Islands', 'and', 'Greenland', ',', 'Dominica', ',', 'Dominican Republic', ',', 'Ecuador', ',', 'Eritrea', ',', 'Estonia', ',', 'Finland', ',', 'France', ',', 'Gabon', ',', 'the', 'G', '##am', '##bia', ',', 'Germany', ',', 'Grenada', ',', 'Guatemala', ',', 'Republic', 'of', 'Guinea', ',', 'Guinea', '##B', '##issa', '##u', ',', 'Hungary', ',', 'Iceland', ',', 'India', ',', 'Ireland', ',', 'Israel', ',', 'Italy', ',', 'Kenya', ',', 'South Korea', ',', 'Kiribati', ',', 'Laos', ',', 'Lithuania', ',', 'Luxembourg', ',', 'Mali', ',', 'Republic', 'of', 'the', 'Marshall Islands', ',', 'Mauritania', ',', 'Mexico', ',', 'Monaco', ',', 'Mongolia', ',', 'Morocco', ',', 'Nauru', ',', 'Netherlands', ',', 'New Zealand', ',', 'Nicaragua', ',', 'Norway', ',', 'Om', 'an', ',', 'Palau', ',', 'Panama', ',', 'Peru', ',', 'Poland', ',', 'Portugal', ',', 'Romania', ',', 'Russia', ',', 'Saint Kitts and Nevis', ',', 'Saint Lucia', ',', 'Saint Vincent and the Grenadines', ',', 'San Marino', ',', 'Senegal', ',', 'Slovakia', ',', 'Slovenia', ',', 'Solomon Islands', ',', 'South Africa', ',', 'Spain', ',', 'Suriname', ',', 'Sweden', ',', 'Switzerland', ',', 'Tanzania', ',', 'Togo', ',', 'Tuvalu', ',', 'United Kingdom', ',', 'United', 'States', ',', 'and', 'Uruguay', '[SEP]']\n",
      "row {'exists': ['Faro', 'Kiribati', 'New Zealand', 'South Africa', 'Mauritania', 'Solomon Islands', 'Ivory Coast', 'Surin', 'Cro', 'Faroe Islands', 'Saint Lucia', 'Dominican Republic', 'United Kingdom', 'Barbuda', 'Togo', 'Czech Republic', 'South Korea', 'Om', 'Republic of the Congo', 'Eritrea', 'Saint Vincent and the Grenadines', 'Palau', 'San Marino', 'Suriname', 'Antigua and Barbuda', 'Tuvalu', 'Dominica', 'Saint Kitts and Nevis', 'Marshall Islands', 'Grenada', 'Costa Rica', 'Nauru'], 'tokens': ['Part', '##ici', '##pation', 'in', 'the', 'I', '##WC', 'is', 'not', 'limited', 'to', 'states', 'involved', 'in', 'w', '##haling', '.', 'Membership', 'in', 'the', 'I', '##WC', 'has', 'doubled', 'since', '2001', 'with', 'an', 'average', 'of', 'almost', 'six', 'states', 'per', 'year', 'joining', 'the', 'I', '##WC', 'from', '2002', 'to', '2008', '.', 'As', 'of', 'July', '2019', 'there', 'were', '88', 'members', '.', 'Current', '2019', 'members', 'are', ':', 'Antigua and Barbuda', ',', 'Argentina', ',', 'Australia', ',', 'Austria', ',', 'Belgium', ',', 'Belize', ',', 'Benin', ',', 'Brazil', ',', 'Bulgaria', ',', 'Cambodia', ',', 'Cameroon', ',', 'Chile', ',', 'China', ',', 'Colombia', ',', 'Republic of the Congo', ',', 'Costa Rica', ',', 'Ivory Coast', ',', 'Cro', 'at', '##ia', ',', 'Cyprus', ',', 'Czech Republic', ',', 'Denmark', 'which', 'also', 'acts', 'as', 'the', 'Kingdom', 'with', 'the', 'Faroe Islands', 'and', 'Greenland', ',', 'Dominica', ',', 'Dominican Republic', ',', 'Ecuador', ',', 'Eritrea', ',', 'Estonia', ',', 'Finland', ',', 'France', ',', 'Gabon', ',', 'the', 'G', '##am', '##bia', ',', 'Germany', ',', 'Grenada', ',', 'Guatemala', ',', 'Republic', 'of', 'Guinea', ',', 'Guinea', '##B', '##issa', '##u', ',', 'Hungary', ',', 'Iceland', ',', 'India', ',', 'Ireland', ',', 'Israel', ',', 'Italy', ',', 'Kenya', ',', 'South Korea', ',', 'Kiribati', ',', 'Laos', ',', 'Lithuania', ',', 'Luxembourg', ',', 'Mali', ',', 'Republic', 'of', 'the', 'Marshall Islands', ',', 'Mauritania', ',', 'Mexico', ',', 'Monaco', ',', 'Mongolia', ',', 'Morocco', ',', 'Nauru', ',', 'Netherlands', ',', 'New Zealand', ',', 'Nicaragua', ',', 'Norway', ',', 'Om', 'an', ',', 'Palau', ',', 'Panama', ',', 'Peru', ',', 'Poland', ',', 'Portugal', ',', 'Romania', ',', 'Russia', ',', 'Saint Kitts and Nevis', ',', 'Saint Lucia', ',', 'Saint Vincent and the Grenadines', ',', 'San Marino', ',', 'Senegal', ',', 'Slovakia', ',', 'Slovenia', ',', 'Solomon Islands', ',', 'South Africa', ',', 'Spain', ',', 'Suriname', ',', 'Sweden', ',', 'Switzerland', ',', 'Tanzania', ',', 'Togo', ',', 'Tuvalu', ',', 'United Kingdom', ',', 'United', 'States', ',', 'and', 'Uruguay']}\n",
      "item {'input_ids': [101, 4539, 27989, 22578, 1107, 1103, 146, 16697, 1110, 1136, 2609, 1106, 2231, 2017, 1107, 192, 16036, 119, 25280, 1107, 1103, 146, 16697, 1144, 11590, 1290, 1630, 1114, 1126, 1903, 1104, 1593, 1565, 2231, 1679, 1214, 4577, 1103, 146, 16697, 1121, 1617, 1106, 1369, 119, 1249, 1104, 1351, 10351, 1175, 1127, 5385, 1484, 119, 9493, 10351, 1484, 1132, 131, 34207, 117, 4904, 117, 1754, 117, 4318, 117, 4990, 117, 20449, 117, 23552, 117, 3524, 117, 7599, 117, 13101, 117, 14292, 117, 6504, 117, 1975, 117, 6855, 117, 34779, 117, 33316, 117, 34043, 117, 33520, 1120, 1465, 117, 9460, 117, 34443, 117, 5140, 1134, 1145, 4096, 1112, 1103, 2325, 1114, 1103, 34386, 1105, 17098, 117, 30220, 117, 32579, 117, 10244, 117, 34920, 117, 10579, 117, 5776, 117, 1699, 117, 25806, 117, 1103, 144, 2312, 10242, 117, 1860, 117, 34209, 117, 11835, 117, 2250, 1104, 6793, 117, 6793, 2064, 14916, 1358, 117, 5169, 117, 10271, 117, 1726, 117, 2270, 117, 3103, 117, 2413, 117, 7469, 117, 33383, 117, 30451, 117, 16765, 117, 9602, 117, 10665, 117, 17168, 117, 2250, 1104, 1103, 33932, 117, 32661, 117, 2470, 117, 15422, 117, 14388, 117, 9614, 117, 32308, 117, 3706, 117, 31827, 117, 16284, 117, 4323, 117, 33017, 1126, 117, 33275, 117, 8392, 117, 7022, 117, 2870, 117, 5288, 117, 5726, 117, 2733, 117, 30062, 117, 30987, 117, 32520, 117, 33530, 117, 17419, 117, 10958, 117, 10163, 117, 35605, 117, 35850, 117, 2722, 117, 34357, 117, 3865, 117, 4507, 117, 12037, 117, 30670, 117, 32236, 117, 34777, 117, 1244, 1311, 117, 1105, 11752, 102], 'labels': [-100, -100, -100, -100, -100, -100, -100, -100, -100, -100, -100, -100, -100, -100, -100, -100, -100, -100, -100, -100, -100, -100, -100, -100, -100, -100, -100, -100, -100, -100, -100, -100, -100, -100, -100, -100, -100, -100, -100, -100, -100, -100, -100, -100, -100, -100, -100, -100, -100, -100, -100, -100, -100, -100, -100, -100, -100, -100, -100, -100, -100, -100, -100, -100, -100, -100, -100, -100, -100, -100, -100, -100, -100, -100, -100, -100, -100, -100, -100, -100, -100, -100, -100, -100, -100, -100, -100, -100, -100, -100, -100, -100, -100, -100, -100, -100, -100, -100, -100, -100, -100, -100, -100, -100, -100, -100, -100, -100, -100, -100, -100, -100, -100, -100, -100, -100, -100, -100, -100, -100, -100, -100, -100, -100, -100, -100, -100, -100, -100, -100, -100, -100, -100, -100, -100, -100, -100, -100, -100, -100, -100, -100, -100, -100, -100, -100, -100, -100, -100, -100, -100, -100, -100, -100, -100, -100, -100, -100, -100, -100, -100, -100, -100, -100, -100, -100, -100, -100, -100, -100, -100, -100, -100, -100, -100, -100, -100, -100, -100, -100, -100, -100, -100, -100, -100, -100, -100, -100, -100, -100, -100, -100, -100, -100, -100, -100, -100, -100, -100, -100, -100, -100, -100, -100, -100, -100, -100, -100, -100, -100, -100, -100, -100, -100, -100, -100, -100, -100, -100, -100, -100, -100, -100, -100, -100, -100, -100, -100, -100, -100, -100, -100, -100, -100, -100, -100, -100, -100, -100, -100, -100, -100, -100, -100, -100, -100, -100, -100, -100, -100, -100, -100, -100, -100, -100, -100, -100, -100], 'attention_mask': [1, 1, 1, 1, 1, 1, 1, 1, 1, 1, 1, 1, 1, 1, 1, 1, 1, 1, 1, 1, 1, 1, 1, 1, 1, 1, 1, 1, 1, 1, 1, 1, 1, 1, 1, 1, 1, 1, 1, 1, 1, 1, 1, 1, 1, 1, 1, 1, 1, 1, 1, 1, 1, 1, 1, 1, 1, 1, 1, 1, 1, 1, 1, 1, 1, 1, 1, 1, 1, 1, 1, 1, 1, 1, 1, 1, 1, 1, 1, 1, 1, 1, 1, 1, 1, 1, 1, 1, 1, 1, 1, 1, 1, 1, 1, 1, 1, 1, 1, 1, 1, 1, 1, 1, 1, 1, 1, 1, 1, 1, 1, 1, 1, 1, 1, 1, 1, 1, 1, 1, 1, 1, 1, 1, 1, 1, 1, 1, 1, 1, 1, 1, 1, 1, 1, 1, 1, 1, 1, 1, 1, 1, 1, 1, 1, 1, 1, 1, 1, 1, 1, 1, 1, 1, 1, 1, 1, 1, 1, 1, 1, 1, 1, 1, 1, 1, 1, 1, 1, 1, 1, 1, 1, 1, 1, 1, 1, 1, 1, 1, 1, 1, 1, 1, 1, 1, 1, 1, 1, 1, 1, 1, 1, 1, 1, 1, 1, 1, 1, 1, 1, 1, 1, 1, 1, 1, 1, 1, 1, 1, 1, 1, 1, 1, 1, 1, 1, 1, 1, 1, 1, 1, 1, 1, 1, 1, 1, 1, 1, 1, 1, 1, 1, 1, 1, 1, 1, 1, 1, 1, 1, 1, 1, 1, 1, 1, 1, 1, 1, 1, 1, 1, 1, 1, 1, 1, 1, 1]}\n",
      "row {'exists': ['Faro', 'Maldives', 'Mauritania', 'North Macedonia', 'United Arab Emirates', 'Saudi Arabia', 'Kyrgyz', 'Surin', 'Cro', 'Faroe Islands', 'Dominican Republic', 'Turkmen', 'Bosnia and Herzegovina', 'Saint Pierre and Miquelon', 'Federated States of Micronesia', 'United Kingdom', 'Czech Republic', 'South Korea', 'Om', 'Eritrea', 'Kazakh', 'Suriname', 'North Korea', 'Dominica', 'Marshall Islands', 'Turkmenistan', 'Uzbek'], 'tokens': ['Afghanistan', ';', 'Albania', ';', 'Algeria', ';', 'Argentina', ';', 'Armenia', ';', 'Austria', ';', 'Azerbaijan', ';', 'Bahrain', ';', 'Bangladesh', ';', 'Belarus', ';', 'Belgium', ';', 'Bolivia', ';', 'Bosnia and Herzegovina', ';', 'Brazil', ';', 'Bulgaria', ';', 'Canada', ';', 'C', '##ayman', 'Islands', ';', 'Chile', ';', 'China', ';', 'Colombia', ';', 'Cro', 'at', '##ia', ';', 'Cuba', ';', 'Cyprus', ';', 'Czech Republic', ';', 'Denmark', ';', 'Dominican Republic', ';', 'Ecuador', ';', 'Egypt', ';', 'Eritrea', ';', 'Estonia', ';', 'Ethiopia', ';', 'F', '##alk', '##land', 'Islands', '##F', '##alk', '##land', 'Islands', 'Mal', '##vina', '##s', ';', 'Faroe Islands', ';', 'Federated States of Micronesia', ';', 'Finland', ';', 'France', ';', 'French', 'Guiana', ';', 'Georgia', 'country', '##G', '##eor', '##gia', ';', 'Germany', ';', 'Greece', ';', 'Guam', ';', 'Guatemala', ';', 'Guinea', ';', 'Guyana', ';', 'Haiti', ';', 'Hungary', ';', 'Iceland', ';', 'India', ';', 'Iran', ',', 'Iraq', ';', 'Ireland', ';', 'Israel', ';', 'Italy', ';', 'Japan', ';', 'Jordan', ';', 'Kazakh', 's', '##tan', ';', 'Korea', 'North Korea', ',', 'South Korea', ';', 'Kuwait', ';', 'Kyrgyz', 's', '##tan', ';', 'Laos', ';', 'Latvia', ';', 'Lebanon', ';', 'Libya', ';', 'Lithuania', ';', 'Luxembourg', ';', 'Maldives', ';', 'Mali', ';', 'Malta', ';', 'Marshall Islands', ';', 'Mauritania', ';', 'Mexico', ';', 'Moldova', ';', 'Mongolia', ';', 'Montenegro', ';', 'Morocco', ';', 'Myanmar', ';', 'Nepal', ';', 'Netherlands', ';', 'North Macedonia', ';', 'Northern', 'Mariana', 'Islands', ';', 'Norway', ';', 'Om', 'an', ';', 'Pakistan', ';', 'Palestinian', 'territories', ';', 'Paraguay', ';', 'Peru', ';', 'Poland', ';', 'Portugal', ';', 'Puerto', 'Rico', ';', 'Romania', ';', 'Russian', 'Federation', ';', 'Saint Pierre and Miquelon', ';', 'Saudi Arabia', ';', 'Senegal', ';', 'Serbia', ';', 'Slovakia', ';', 'Slovenia', ';', 'South', 'Georgia', 'and', 'the', 'South', 'Sand', '##wich', 'Islands', ';', 'Spain', ';', 'Sudan', ';', 'Suriname', ';', 'Sweden', ';', 'Switzerland', ';', 'Syria', ';', 'Taiwan', ';', 'Tajikistan', ';', 'Tunisia', ';', 'Turkey', ';', 'Turkmenistan', ';', 'Ukraine', ';', 'United Arab Emirates', ';', 'United Kingdom', ';', 'United', 'States', 'Present', 'In', 'All', '50', 'States', ';', 'Uruguay', ';', 'Uzbek', 'is', '##tan', ';', 'Venezuela', ';', 'Vietnam', ';', 'British', 'Virgin', 'Islands', ';', 'Yemen', 'l', '##t', ';', 'br', '##gt', ';']}\n",
      "row {'exists': ['Carrie Underwood', 'Paul McCartney', 'David Lee Roth', 'Blake Shelton', 'Steve Miller Band', 'Ed Sheeran', 'Stevie Nicks', 'Britney Spears', 'Cheap Trick', 'Miranda Lambert', 'Janet Jackson', 'The Weeknd', 'Dari'], 'tokens': ['Artists', 'that', 'have', 'performed', 'at', 'the', 'arena', 'over', 'the', 'past', '20', 'years', 'include', ':', 'James', 'Brown', ',', 'The', 'Eagles', 'in', '03', ',', 'Ch', '##er', ',', 'Billy', 'Joel', 'in', '03', 'and', '07', ',', 'Elton', 'John', '4', '##x', 'in', '03', ',', '05', ',', '19', ',', 'and', '22', '.', 'Bruce', 'Springs', '##teen', 'am', '##p', ';', 'The', 'E', 'Street', 'Band', 'who', 'played', 'the', 'first', 'ever', 'show', 'at', 'the', 'Arena', ',', 'on', 'December', '9', ',', 'Note', ':', 'James', 'Brown', 'actually', 'played', 'first', 'for', 'boost', '##ers', 'on', 'opening', 'night', 'November', '2002', ',', 'Prince', 'musician', '##P', '##rin', '##ce', 'am', '##p', ';', 'The', 'New', 'Power', 'Generation', 'twice', 'in', '2004', 'and', 'in', '2011', ',', 'Olivia', 'Newton', '##J', '##oh', '##n', 'in', '03', ',', 'Aero', '##smith', 'in', '2004', ',', 'Jimmy', 'B', '##uff', '##ett', '4', '##x', 'in', '04', ',', '10', ',', 'James', 'Taylor', 'in', '2015', ',', '19', ',', 'and', '22', ';', 'Paul McCartney', 'in', '15', ',', 'De', '##f', 'Le', '##ppard', 'with', 'Foreign', '##er', 'band', '##F', '##ore', '##ign', '##er', 'in', '15', ',', 'Journey', 'band', '##J', '##our', '##ney', 'with', 'Steve Miller Band', 'in', '15', ',', 'Stevie Nicks', 'with', 'The', 'Pre', '##tend', '##ers', 'in', '16', ',', 'K', '##IS', '##S', 'band', '##K', '##IS', '##S', 'with', 'David Lee Roth', 'in', '20', ',', 'Cheap Trick', 'in', '04', ',', 'Mt', '##ley', 'C', '##re', 'in', '06', ',', 'Van', 'Z', '##ant', 'band', '##V', '##an', 'Z', '##ant', '.', 'Britney Spears', 'in', '2004', 'with', 'Ke', '##lis', ',', 'John', 'Mayer', 'in', '2007', ',', 'Mile', '##y', 'Cyrus', 'with', 'Metro', 'Station', 'band', '##M', '##et', '##ro', 'Station', 'in', '2009', ',', 'Taylor', 'Swift', '4', '##x', 'with', 'Ra', '##sca', '##l', 'Flat', '##ts', 'in', '08', ',', '2010', ',', 'with', 'SC', '##s', 'Need', '##to', '##bre', '##ath', '##e', 'in', '2011', ',', 'with', 'Ed Sheeran', 'in', '2013', ',', 'Justin', 'B', '##ie', '##ber', 'in', '2013', ',', 'Bruno', 'Mars', 'in', '2014', ',', 'Mar', '##oon', '5', 'in', '07', 'and', '2016', 'w', 'To', '##ve', 'Lo', ',', 'Aria', '##na', 'Grande', 'in', '2019', ',', 'Pink', 'singer', '##P', '##ink', 'in', '2019', ';', 'Shan', '##ia', 'T', '##wain', 'in', '04', ',', 'Thomas', 'R', '##he', '##tt', ',', 'Florida', 'Georgia', 'Line', ',', 'Craig', 'Morgan', 'singer', '##C', '##rai', '##g', 'Morgan', ',', 'Blake Shelton', 'with', 'Luke', 'Bryan', 'in', '2010', ',', 'Carrie Underwood', 'a', 'few', 'times', 'in', '06', 'and', '2013', ',', 'Kenny', 'Ch', '##es', '##ney', 'in', '04', ',', '2011', ',', '2015', ',', 'Z', '##ac', 'Brown', 'Band', 'in', '2012', ',', 'Eric', 'Church', 'in', '2012', ',', 'Die', '##rks', 'Bentley', 'with', 'Miranda Lambert', 'and', 'Lee', 'B', '##rice', 'in', '2013', ';', 'Jason', 'Al', '##dea', '##n', 'in', '2014', 'and', '20', ',', 'Charleston', '##s', 'Dari', 'us', 'R', '##uck', '##er', '3', '##x', 'in', '2014', ',', '2017', ',', 'and', '22', ',', 'Morgan', 'Wall', '##en', 'in', '22', '.', 'R', '.', 'Kelly', '4', '##x', ',', 'Us', '##her', 'entertain', '##er', '##U', '##sher', 'in', '2011', 'with', 'A', '##kon', ',', 'Chris', 'Brown', 'in', '2014', ',', 'The Weeknd', 'w', 'G', '##ucci', 'Man', '##e', 'in', '2017', ',', 'B', '##2', '##K', ',', 'Lil', 'Jon', ',', 'Soul', '##ja', 'Boy', ',', 'Jamie', 'Fox', '##x', ',', 'Trey', 'Song', '##z', ',', 'Janet Jackson', 'in', '17', ',', 'Mary', 'J', '.']}\n",
      "row {'exists': ['Tegucigalpa', 'St. Louis', 'Ronald Reagan', 'El Paso', 'Om', 'Costa Rica', 'El Salvador'], 'tokens': ['Mine', '##ta', 'San', 'Jose', 'International', 'Airport', '##S', '##an', 'Jose', 'CA', ',', 'Juan', 'Santa', '##mara', 'International', 'Airport', '##S', '##an', 'Jo', '##s', 'de', 'Costa Rica', 'Juan', 'Santa', '##mara', ',', 'Los', 'C', '##ab', '##os', 'International', 'Airport', '##S', '##an', 'Jo', '##s', 'del', 'C', '##ab', '##o', ',', 'Luis', 'Mu', '##oz', 'Mar', '##n', 'International', 'Airport', '##S', '##an', 'Juan', ',', 'San', 'Luis', 'Po', '##tos', 'International', 'Airport', '##S', '##an', 'Luis', 'Po', '##tos', ',', 'Ram', '##n', 'Ville', '##da', 'Morales', 'International', 'Airport', '##S', '##an', 'Pedro', 'Sul', '##a', ',', 'El Salvador', 'International', 'Airport', '##S', '##an', 'Salvador', ',', 'Arturo', 'Me', '##rino', 'Ben', '##te', '##z', 'International', 'Airport', '##S', '##anti', '##ago', 'de', 'Chile', ',', 'So', 'Paulo', '##G', '##ua', '##ru', '##l', '##hos', 'International', 'Airport', '##S', '##o', 'Paulo', '##G', '##ua', '##ru', '##l', '##hos', ',', 'Seattle', '##T', '##aco', '##ma', 'International', 'Airport', '##S', '##eat', '##tle', '##T', '##aco', '##ma', ',', 'St. Louis', 'Lambert', 'International', 'Airport', 'St. Louis', ',', 'Tampa', 'International', 'Airport', '##T', '##amp', '##a', ',', 'Co', '##ma', '##ya', '##gua', 'International', 'Airport', 'Tegucigalpa', 'Co', '##ma', '##ya', '##gua', ',', 'Na', '##rita', 'International', 'Airport', '##T', '##ok', '##yo', '##N', '##ari', '##ta', ',', 'Toronto', 'Pearson', 'International', 'Airport', '##T', '##oro', '##nto', '##P', '##ear', '##son', ',', 'Washington', 'Du', '##lles', 'International', 'Airport', '##W', '##ashi', '##ng', '##ton', '##D', '##ull', '##es', ',', 'Ronald Reagan', 'Washington', 'National', 'Airport', '##W', '##ashi', '##ng', '##ton', '##N', '##ational', ',', 'Palm', 'Beach', 'International', 'Airport', '##W', '##est', 'Palm', 'Beach', 'l', '##t', ';', 'br', 'g', '##t', ';', 'Season', '##al', ':', 'Albuquerque', 'International', 'Sun', '##port', '##A', '##l', '##bu', '##quer', '##que', ',', 'Ted', 'Stevens', 'An', '##chor', '##age', 'International', 'Airport', '##A', '##nch', '##orage', ',', 'Bo', '##ze', '##man', 'Yellow', '##stone', 'International', 'Airport', '##B', '##oz', '##eman', ',', 'Charleston', 'International', 'Airport', '##C', '##har', '##les', '##ton', 'SC', ',', 'Charlotte', 'Douglas', 'International', 'Airport', '##C', '##har', '##lot', '##te', ',', 'John', 'Glenn', 'Columbus', 'International', 'Airport', '##C', '##ol', '##um', '##bus', '##G', '##len', '##n', ',', 'Des', 'Moines', 'International', 'Airport', '##D', '##es', 'Moines', ',', 'Eagle', 'County', 'Regional', 'Airport', '##E', '##ag', '##le', '##V', '##ail', ',', 'El Paso', 'International', 'Airport', 'El Paso', 'resume', '##s', 'May', '5', ',', '202', '##3', ',', 'Jo', '##s', 'Mart', 'International', 'Airport', '##H', '##avan', '##a', ',', 'Ya', '##mp', '##a', 'Valley', 'Airport', '##H', '##ay', '##den', '##S', '##te', '##am', '##boat', 'Springs', ',', 'Indianapolis', 'International', 'Airport', '##I', '##ndi', '##ana', '##polis', ',', 'Jackson', 'Hole', 'Airport', '##J', '##ack', '##son', 'Hole', ',', 'Minneapolis', '##S', '##ain', '##t', 'Paul', 'International', 'Airport', '##M', '##inn', '##ea', '##polis', '##S', '##t', '.', 'Paul', ',', 'Monte', '##rrey', 'International', 'Airport', '##M', '##onte', '##rrey', ',', 'Norfolk', 'International', 'Airport', '##N', '##orf', '##ol', '##k', ',', 'Will', 'Rogers', 'World', 'Airport', '##O', '##kla', '##hom', '##a', 'City', ',', 'E', '##pp', '##ley', 'Airfield', 'Om', 'ah', '##a', ',', 'Ontario', 'International', 'Airport', '##O', '##nta', '##rio', ',', 'Palm', 'Springs', 'International', 'Airport', '##P', '##al', '##m', 'Springs', ',', 'Pittsburgh', 'International', 'Airport', '##P', '##itt', '##sburg', '##h', ',', 'Pro', '##vide', '##ncia', '##les', 'International', 'Airport', '##P', '##rov', '##iden', '##cial', '##es', ',', 'Reno', '##T', '##ah', '##oe', 'International', 'Airport', '##R', '##eno', '##T', '##ah', '##oe', ',', 'Cyril', 'E', '.', 'King', 'Airport', '##S', '##t', '.', 'Thomas', ',', 'Sydney', 'Airport', '##S', '##yd', '##ney', ',', 'l', '##t', ';', 're', '##f', '##gt', ';']}\n",
      "row {'exists': ['Dominican Republic', 'Costa Rica', 'El Salvador', 'Antigua and Barbuda', 'Dominica'], 'tokens': ['Ang', '##uil', '##la', '##A', '##ng', '##uil', '##la', 'am', '##p', ';', 'n', '##bs', '##p', ';', 'Antigua and Barbuda', 'Antigua and Barbuda', 'am', '##p', ';', 'n', '##bs', '##p', ';', 'A', '##ruba', '##A', '##ruba', 'am', '##p', ';', 'n', '##bs', '##p', ';', 'l', '##t', ';', 'span', 'style', '##q', '##uo', '##t', ';', 'color', ':', 'red', '##q', '##uo', '##t', ';', 'g', '##t', ';', 'Bahamas', '##B', '##ah', '##ama', '##s', 'l', '##t', ';', 'span', '##gt', ';', 'am', '##p', ';', 'n', '##bs', '##p', ';', 'l', '##t', ';', 'span', 'style', '##q', '##uo', '##t', ';', 'color', ':', 'red', '##q', '##uo', '##t', ';', 'g', '##t', ';', 'Barbados', '##B', '##ar', '##bad', '##os', 'l', '##t', ';', 'span', '##gt', ';', 'am', '##p', ';', 'n', '##bs', '##p', ';', 'l', '##t', ';', 'span', 'style', '##q', '##uo', '##t', ';', 'color', ':', 'red', '##q', '##uo', '##t', ';', 'g', '##t', ';', 'Belize', '##B', '##eli', '##ze', 'l', '##t', ';', 'span', '##gt', ';', 'am', '##p', ';', 'n', '##bs', '##p', ';', 'l', '##t', ';', 'span', 'style', '##q', '##uo', '##t', ';', 'color', ':', 'red', '##q', '##uo', '##t', ';', 'g', '##t', ';', 'Bermuda', '##B', '##er', '##mu', '##da', 'l', '##t', ';', 'span', '##gt', ';', 'am', '##p', ';', 'n', '##bs', '##p', ';', 'l', '##t', ';', 'span', 'style', '##q', '##uo', '##t', ';', 'color', ':', 'red', '##q', '##uo', '##t', ';', 'g', '##t', ';', 'Bon', '##aire', '##B', '##ona', '##ire', 'l', '##t', ';', 'span', '##gt', ';', 'am', '##p', ';', 'n', '##bs', '##p', ';', 'l', '##t', ';', 'span', 'style', '##q', '##uo', '##t', ';', 'color', ':', 'red', '##q', '##uo', '##t', ';', 'g', '##t', ';', 'British', 'Virgin', 'Islands', '##B', '##rit', '##ish', 'Virgin', 'Islands', 'l', '##t', ';', 'span', '##gt', ';', 'am', '##p', ';', 'n', '##bs', '##p', ';', 'Canada', '##C', '##ana', '##da', 'am', '##p', ';', 'n', '##bs', '##p', ';', 'l', '##t', ';', 'span', 'style', '##q', '##uo', '##t', ';', 'color', ':', 'red', '##q', '##uo', '##t', ';', 'g', '##t', ';', 'C', '##ayman', 'Islands', '##C', '##ayman', 'Islands', 'l', '##t', ';', 'span', '##gt', ';', 'am', '##p', ';', 'n', '##bs', '##p', ';', 'Costa Rica', 'Costa Rica', 'am', '##p', ';', 'n', '##bs', '##p', ';', 'l', '##t', ';', 'span', 'style', '##q', '##uo', '##t', ';', 'color', ':', 'red', '##q', '##uo', '##t', ';', 'g', '##t', ';', 'Cuba', '##C', '##uba', 'l', '##t', ';', 'span', '##gt', ';', 'am', '##p', ';', 'n', '##bs', '##p', ';', 'C', '##ura', '##ao', '##C', '##ura', '##ao', 'l', '##t', ';', 'now', '##iki', '##gt', ';', 'l', '##t', ';', 'now', '##iki', '##gt', ';', 'l', '##t', ';', 'span', 'style', '##q', '##uo', '##t', ';', 'color', ':', 'red', '##q', '##uo', '##t', ';', 'g', '##t', ';', 'Dominica', 'Dominica', 'l', '##t', ';', 'span', '##gt', ';', 'am', '##p', ';', 'n', '##bs', '##p', ';', 'l', '##t', ';', 'span', 'style', '##q', '##uo', '##t', ';', 'color', ':', 'red', '##q', '##uo', '##t', ';', 'g', '##t', ';', 'Dominican Republic', 'Dominican Republic', 'l', '##t', ';', 'span', '##gt', ';', 'am', '##p', ';', 'n', '##bs', '##p', ';', 'l', '##t', ';', 'span', 'style', '##q', '##uo', '##t', ';', 'color', ':', 'red', '##q', '##uo', '##t', ';', 'g', '##t', ';', 'El Salvador', 'El Salvador', 'l', '##t', ';', 'span', '##gt', ';', 'am', '##p', ';', 'n', '##bs', '##p', ';', 'l', '##t', ';', 'span', 'style', '##q', '##uo', '##t', ';', 'color', ':', 'red', '##q', '##uo', '##t', ';', 'g', '##t', ';', 'French', 'Guiana', '##F', '##rench', 'Guiana', 'l', '##t', ';']}\n",
      "max_length 502\n",
      "train dataset size: 37086\n",
      "/usr/local/lib/python3.8/dist-packages/transformers/optimization.py:411: FutureWarning: This implementation of AdamW is deprecated and will be removed in a future version. Use the PyTorch implementation torch.optim.AdamW instead, or set `no_deprecation_warning=True` to disable this warning\n",
      "  warnings.warn(\n",
      "  0%|                                                 | 0/92720 [00:00<?, ?it/s]You're using a BertTokenizerFast tokenizer. Please note that with a fast tokenizer, using the `__call__` method is faster than using a method to encode the text followed by a call to the `pad` method to get a padded encoding.\n",
      "{'loss': 0.0, 'learning_rate': 7.5e-06, 'epoch': 1.0}                           \n",
      "  4%|█▎                                    | 3277/92720 [01:40<42:24, 35.15it/s]"
     ]
    }
   ],
   "source": [
    "!python src/run.py\n"
   ]
  },
  {
   "cell_type": "code",
   "execution_count": null,
   "id": "6f414398-b041-4bfc-8769-eafe32f05aba",
   "metadata": {
    "tags": []
   },
   "outputs": [],
   "source": [
    "import torch\n",
    "\n",
    "print(torch.cuda.is_available())"
   ]
  },
  {
   "cell_type": "code",
   "execution_count": null,
   "id": "11db8616-7f1c-46aa-8fad-8aaf98a3c643",
   "metadata": {
    "tags": []
   },
   "outputs": [],
   "source": []
  },
  {
   "cell_type": "code",
   "execution_count": null,
   "id": "37ddf76e-10a3-439a-91a8-a941c44250e2",
   "metadata": {},
   "outputs": [],
   "source": []
  }
 ],
 "metadata": {
  "kernelspec": {
   "display_name": "Python 3 (ipykernel)",
   "language": "python",
   "name": "python3"
  },
  "language_info": {
   "codemirror_mode": {
    "name": "ipython",
    "version": 3
   },
   "file_extension": ".py",
   "mimetype": "text/x-python",
   "name": "python",
   "nbconvert_exporter": "python",
   "pygments_lexer": "ipython3",
   "version": "3.8.10"
  }
 },
 "nbformat": 4,
 "nbformat_minor": 5
}
