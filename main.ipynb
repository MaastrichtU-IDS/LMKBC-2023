{
 "cells": [
  {
   "cell_type": "code",
   "execution_count": null,
   "id": "0746b7f1-e66a-41d9-bbce-d60c2551cf3c",
   "metadata": {
    "tags": []
   },
   "outputs": [],
   "source": [
    "\n",
    "!git clone https://github.com/MaastrichtU-IDS/LMKBC-2023.git"
   ]
  },
  {
   "cell_type": "code",
   "execution_count": 17,
   "id": "5d05e67e-39f7-470c-8c1e-19775707b2db",
   "metadata": {
    "tags": []
   },
   "outputs": [
    {
     "name": "stdout",
     "output_type": "stream",
     "text": [
      "HEAD is now at add7cc1 adaptive threshold\n",
      "Updating add7cc1..c6affbf\n",
      "Fast-forward\n",
      " .gitignore                                 |      3 \u001b[32m+\u001b[m\u001b[31m-\u001b[m\n",
      " output/filled-mask-valid.jsonl             |   3880 \u001b[32m+\u001b[m\u001b[31m-\u001b[m\n",
      " output/filled-mask/filled-mask-valid.jsonl |   3880 \u001b[32m+\u001b[m\u001b[31m-\u001b[m\n",
      " res/results.jsonl                          |      2 \u001b[32m+\u001b[m\u001b[31m-\u001b[m\n",
      " res/token_mapping.json                     |  33119 \u001b[32m+++++\u001b[m\n",
      " res/tokenizer/bert/added_tokens.json       |  19154 \u001b[32m++\u001b[m\u001b[31m-\u001b[m\n",
      " res/tokenizer/bert/tokenizer.json          |  61586 \u001b[32m++++++++\u001b[m\u001b[31m-\u001b[m\n",
      " res/wikidata/origin/dataset_dict.json      |      1 \u001b[32m+\u001b[m\n",
      " res/wikidata/shrink/dataset_dict.json      |      1 \u001b[32m+\u001b[m\n",
      " res/wikidata/shrink_0/dataset_dict.json    |      1 \u001b[32m+\u001b[m\n",
      " res/wikidata/shrink_1/dataset_dict.json    |      1 \u001b[32m+\u001b[m\n",
      " res/word_frequency.json                    | 177436 \u001b[32m++++++++++++++++++++++++++\u001b[m\n",
      " src/config.py                              |      1 \u001b[32m+\u001b[m\n",
      " src/fm_model.py                            |    328 \u001b[32m+\u001b[m\u001b[31m-\u001b[m\n",
      " src/fm_run.py                              |      6 \u001b[32m+\u001b[m\u001b[31m-\u001b[m\n",
      " src/pre_model.py                           |     99 \u001b[32m+\u001b[m\u001b[31m-\u001b[m\n",
      " src/pre_run.py                             |      5 \u001b[32m+\u001b[m\u001b[31m-\u001b[m\n",
      " src/run.py                                 |      4 \u001b[32m+\u001b[m\u001b[31m-\u001b[m\n",
      " src/script/additional_corpus.py            |    264 \u001b[32m+\u001b[m\u001b[31m-\u001b[m\n",
      " src/script/additional_data.py              |    501 \u001b[32m+\u001b[m\u001b[31m-\u001b[m\n",
      " src/script/corpus.sh                       |     12 \u001b[32m+\u001b[m\u001b[31m-\u001b[m\n",
      " src/tr_model.py                            |     19 \u001b[32m+\u001b[m\u001b[31m-\u001b[m\n",
      " src/util.py                                |      5 \u001b[32m+\u001b[m\n",
      " test/test_pipeline.py                      |      8 \u001b[32m+\u001b[m\n",
      " test/test_topk.py                          |     21 \u001b[32m+\u001b[m\u001b[31m-\u001b[m\n",
      " 25 files changed, 282513 insertions(+), 17824 deletions(-)\n",
      " create mode 100644 res/token_mapping.json\n",
      " create mode 100644 res/wikidata/origin/dataset_dict.json\n",
      " create mode 100644 res/wikidata/shrink/dataset_dict.json\n",
      " create mode 100644 res/wikidata/shrink_0/dataset_dict.json\n",
      " create mode 100644 res/wikidata/shrink_1/dataset_dict.json\n",
      " create mode 100644 res/word_frequency.json\n",
      " create mode 100644 test/test_pipeline.py\n"
     ]
    }
   ],
   "source": [
    "!git reset --hard\n",
    "!git pull "
   ]
  },
  {
   "cell_type": "code",
   "execution_count": 16,
   "id": "af57b4b5-23dc-4a1d-ae8b-0905652f2b37",
   "metadata": {
    "tags": []
   },
   "outputs": [
    {
     "name": "stdout",
     "output_type": "stream",
     "text": [
      "remote: Enumerating objects: 42, done.\u001b[K\n",
      "remote: Counting objects: 100% (42/42), done.\u001b[K\n",
      "remote: Compressing objects: 100% (18/18), done.\u001b[K\n",
      "remote: Total 42 (delta 21), reused 42 (delta 21), pack-reused 0\u001b[K\n",
      "Unpacking objects: 100% (42/42), 1.86 MiB | 1.38 MiB/s, done.\n",
      "From https://github.com/MaastrichtU-IDS/LMKBC-2023\n",
      "   add7cc1..c6affbf  main       -> origin/main\n",
      "Updating add7cc1..c6affbf\n",
      "error: Your local changes to the following files would be overwritten by merge:\n",
      "\toutput/filled-mask-valid.jsonl\n",
      "\tres/results.jsonl\n",
      "\tsrc/fm_model.py\n",
      "\tsrc/run.py\n",
      "Please commit your changes or stash them before you merge.\n",
      "Aborting\n"
     ]
    }
   ],
   "source": [
    "!git pull"
   ]
  },
  {
   "cell_type": "code",
   "execution_count": null,
   "id": "3ef8c3b6-c9dc-495e-b844-fc353dadbaf3",
   "metadata": {
    "tags": []
   },
   "outputs": [],
   "source": [
    "import os\n",
    "os.chdir('LMKBC-2023/')"
   ]
  },
  {
   "cell_type": "code",
   "execution_count": 2,
   "id": "d5a2ecd7-70ce-45b1-9250-8b3375b928f6",
   "metadata": {
    "tags": []
   },
   "outputs": [
    {
     "name": "stdout",
     "output_type": "stream",
     "text": [
      "Looking in indexes: https://pypi.org/simple, https://pypi.ngc.nvidia.com\n",
      "Collecting accelerate\n",
      "  Downloading accelerate-0.21.0-py3-none-any.whl (244 kB)\n",
      "\u001b[2K     \u001b[90m━━━━━━━━━━━━━━━━━━━━━━━━━━━━━━━━━━━━━━\u001b[0m \u001b[32m244.2/244.2 kB\u001b[0m \u001b[31m15.9 MB/s\u001b[0m eta \u001b[36m0:00:00\u001b[0m\n",
      "\u001b[?25hRequirement already satisfied: packaging>=20.0 in /usr/local/lib/python3.8/dist-packages (from accelerate) (23.0)\n",
      "Requirement already satisfied: psutil in /usr/local/lib/python3.8/dist-packages (from accelerate) (5.9.4)\n",
      "Requirement already satisfied: torch>=1.10.0 in /usr/local/lib/python3.8/dist-packages (from accelerate) (2.0.0a0+1767026)\n",
      "Requirement already satisfied: pyyaml in /usr/local/lib/python3.8/dist-packages (from accelerate) (6.0)\n",
      "Requirement already satisfied: numpy>=1.17 in /usr/local/lib/python3.8/dist-packages (from accelerate) (1.22.2)\n",
      "Requirement already satisfied: filelock in /usr/local/lib/python3.8/dist-packages (from torch>=1.10.0->accelerate) (3.10.0)\n",
      "Requirement already satisfied: typing_extensions in /usr/local/lib/python3.8/dist-packages (from torch>=1.10.0->accelerate) (4.5.0)\n",
      "Requirement already satisfied: sympy in /usr/local/lib/python3.8/dist-packages (from torch>=1.10.0->accelerate) (1.11.1)\n",
      "Requirement already satisfied: networkx in /usr/local/lib/python3.8/dist-packages (from torch>=1.10.0->accelerate) (2.6.3)\n",
      "Requirement already satisfied: mpmath>=0.19 in /usr/local/lib/python3.8/dist-packages (from sympy->torch>=1.10.0->accelerate) (1.3.0)\n",
      "Installing collected packages: accelerate\n",
      "Successfully installed accelerate-0.21.0\n",
      "\u001b[33mWARNING: Running pip as the 'root' user can result in broken permissions and conflicting behaviour with the system package manager. It is recommended to use a virtual environment instead: https://pip.pypa.io/warnings/venv\u001b[0m\u001b[33m\n",
      "\u001b[0m\n",
      "\u001b[1m[\u001b[0m\u001b[34;49mnotice\u001b[0m\u001b[1;39;49m]\u001b[0m\u001b[39;49m A new release of pip is available: \u001b[0m\u001b[31;49m23.0.1\u001b[0m\u001b[39;49m -> \u001b[0m\u001b[32;49m23.2.1\u001b[0m\n",
      "\u001b[1m[\u001b[0m\u001b[34;49mnotice\u001b[0m\u001b[1;39;49m]\u001b[0m\u001b[39;49m To update, run: \u001b[0m\u001b[32;49mpython -m pip install --upgrade pip\u001b[0m\n",
      "Looking in indexes: https://pypi.org/simple, https://pypi.ngc.nvidia.com\n",
      "Collecting transformers\n",
      "  Downloading transformers-4.31.0-py3-none-any.whl (7.4 MB)\n",
      "\u001b[2K     \u001b[90m━━━━━━━━━━━━━━━━━━━━━━━━━━━━━━━━━━━━━━━━\u001b[0m \u001b[32m7.4/7.4 MB\u001b[0m \u001b[31m99.3 MB/s\u001b[0m eta \u001b[36m0:00:00\u001b[0ma \u001b[36m0:00:01\u001b[0m\n",
      "\u001b[?25hCollecting tokenizers!=0.11.3,<0.14,>=0.11.1\n",
      "  Downloading tokenizers-0.13.3-cp38-cp38-manylinux_2_17_x86_64.manylinux2014_x86_64.whl (7.8 MB)\n",
      "\u001b[2K     \u001b[90m━━━━━━━━━━━━━━━━━━━━━━━━━━━━━━━━━━━━━━━━\u001b[0m \u001b[32m7.8/7.8 MB\u001b[0m \u001b[31m124.5 MB/s\u001b[0m eta \u001b[36m0:00:00\u001b[0ma \u001b[36m0:00:01\u001b[0m\n",
      "\u001b[?25hRequirement already satisfied: filelock in /usr/local/lib/python3.8/dist-packages (from transformers) (3.10.0)\n",
      "Collecting safetensors>=0.3.1\n",
      "  Downloading safetensors-0.3.1-cp38-cp38-manylinux_2_17_x86_64.manylinux2014_x86_64.whl (1.3 MB)\n",
      "\u001b[2K     \u001b[90m━━━━━━━━━━━━━━━━━━━━━━━━━━━━━━━━━━━━━━━━\u001b[0m \u001b[32m1.3/1.3 MB\u001b[0m \u001b[31m183.3 MB/s\u001b[0m eta \u001b[36m0:00:00\u001b[0m\n",
      "\u001b[?25hRequirement already satisfied: pyyaml>=5.1 in /usr/local/lib/python3.8/dist-packages (from transformers) (6.0)\n",
      "Requirement already satisfied: numpy>=1.17 in /usr/local/lib/python3.8/dist-packages (from transformers) (1.22.2)\n",
      "Requirement already satisfied: packaging>=20.0 in /usr/local/lib/python3.8/dist-packages (from transformers) (23.0)\n",
      "Requirement already satisfied: regex!=2019.12.17 in /usr/local/lib/python3.8/dist-packages (from transformers) (2022.10.31)\n",
      "Collecting huggingface-hub<1.0,>=0.14.1\n",
      "  Downloading huggingface_hub-0.16.4-py3-none-any.whl (268 kB)\n",
      "\u001b[2K     \u001b[90m━━━━━━━━━━━━━━━━━━━━━━━━━━━━━━━━━━━━━\u001b[0m \u001b[32m268.8/268.8 kB\u001b[0m \u001b[31m246.8 MB/s\u001b[0m eta \u001b[36m0:00:00\u001b[0m\n",
      "\u001b[?25hRequirement already satisfied: tqdm>=4.27 in /usr/local/lib/python3.8/dist-packages (from transformers) (4.65.0)\n",
      "Requirement already satisfied: requests in /usr/local/lib/python3.8/dist-packages (from transformers) (2.28.2)\n",
      "Requirement already satisfied: fsspec in /usr/local/lib/python3.8/dist-packages (from huggingface-hub<1.0,>=0.14.1->transformers) (2023.1.0)\n",
      "Requirement already satisfied: typing-extensions>=3.7.4.3 in /usr/local/lib/python3.8/dist-packages (from huggingface-hub<1.0,>=0.14.1->transformers) (4.5.0)\n",
      "Requirement already satisfied: certifi>=2017.4.17 in /usr/local/lib/python3.8/dist-packages (from requests->transformers) (2022.12.7)\n",
      "Requirement already satisfied: idna<4,>=2.5 in /usr/local/lib/python3.8/dist-packages (from requests->transformers) (3.4)\n",
      "Requirement already satisfied: urllib3<1.27,>=1.21.1 in /usr/local/lib/python3.8/dist-packages (from requests->transformers) (1.26.14)\n",
      "Requirement already satisfied: charset-normalizer<4,>=2 in /usr/local/lib/python3.8/dist-packages (from requests->transformers) (3.1.0)\n",
      "Installing collected packages: tokenizers, safetensors, huggingface-hub, transformers\n",
      "Successfully installed huggingface-hub-0.16.4 safetensors-0.3.1 tokenizers-0.13.3 transformers-4.31.0\n",
      "\u001b[33mWARNING: Running pip as the 'root' user can result in broken permissions and conflicting behaviour with the system package manager. It is recommended to use a virtual environment instead: https://pip.pypa.io/warnings/venv\u001b[0m\u001b[33m\n",
      "\u001b[0m\n",
      "\u001b[1m[\u001b[0m\u001b[34;49mnotice\u001b[0m\u001b[1;39;49m]\u001b[0m\u001b[39;49m A new release of pip is available: \u001b[0m\u001b[31;49m23.0.1\u001b[0m\u001b[39;49m -> \u001b[0m\u001b[32;49m23.2.1\u001b[0m\n",
      "\u001b[1m[\u001b[0m\u001b[34;49mnotice\u001b[0m\u001b[1;39;49m]\u001b[0m\u001b[39;49m To update, run: \u001b[0m\u001b[32;49mpython -m pip install --upgrade pip\u001b[0m\n"
     ]
    }
   ],
   "source": [
    "!pip install accelerate -U\n",
    "!pip install transformers"
   ]
  },
  {
   "cell_type": "code",
   "execution_count": 1,
   "id": "b789a5e4-ab2b-4301-8b79-a9cb11eb659c",
   "metadata": {
    "scrolled": true,
    "tags": []
   },
   "outputs": [
    {
     "name": "stdout",
     "output_type": "stream",
     "text": [
      "\n",
      "    \n",
      "   python /workspace/persistent/LMKBC-2023/src/fm_model.py  --test_fn /workspace/persistent/LMKBC-2023/data/val.jsonl --template_fn res/prompts0.csv  --output_fn /workspace/persistent/LMKBC-2023/output/filled-mask-valid.jsonl --train_fn /workspace/persistent/LMKBC-2023/data/train.jsonl --train_batch_size 256 --gpu 0  --top_k 30 --threshold 0.1  --dev_fn  /workspace/persistent/LMKBC-2023/data/train_tiny.jsonl --mode \"train test\" --train_epoch 50 --learning_rate 5e-5 --model_load_dir bert-large-cased --model_save_dir /workspace/persistent/LMKBC-2023/bin/train_full/fill_mask/bert-large-cased --model_best_dir  /workspace/persistent/LMKBC-2023/bin/train_full/fill_mask/bert-large-cased/best_ckpt\n",
      "    \n",
      "    \n",
      "Traceback (most recent call last):\n",
      "  File \"/workspace/persistent/LMKBC-2023/src/fm_model.py\", line 11, in <module>\n",
      "    import transformers\n",
      "ModuleNotFoundError: No module named 'transformers'\n"
     ]
    }
   ],
   "source": [
    "!python src/run.py --mode \"train_fm\"\n",
    "\n"
   ]
  },
  {
   "cell_type": "code",
   "execution_count": null,
   "id": "6f414398-b041-4bfc-8769-eafe32f05aba",
   "metadata": {
    "tags": []
   },
   "outputs": [],
   "source": [
    "import torch\n",
    "print(torch.cuda.is_available())"
   ]
  },
  {
   "cell_type": "code",
   "execution_count": null,
   "id": "11db8616-7f1c-46aa-8fad-8aaf98a3c643",
   "metadata": {
    "tags": []
   },
   "outputs": [],
   "source": []
  },
  {
   "cell_type": "code",
   "execution_count": null,
   "id": "37ddf76e-10a3-439a-91a8-a941c44250e2",
   "metadata": {},
   "outputs": [],
   "source": [
    "!git add . \n",
    "!git commit -m 'from server' \n"
   ]
  },
  {
   "cell_type": "code",
   "execution_count": 21,
   "id": "a13d1898-9f78-4dc1-9e22-13209c33ec48",
   "metadata": {
    "tags": []
   },
   "outputs": [
    {
     "name": "stdout",
     "output_type": "stream",
     "text": [
      "zsh:1: /workspace/persistent/LMKBC-2023/bin/train_full/fill_mask/bert-large-cased/best_ckpt not found\n",
      "GPU  True\n",
      "07/30/2023 22:47:13 - INFO - __main__ -  Running the model...\n",
      "07/30/2023 22:48:02 - INFO - __main__ -  End the model...\n",
      "100%|████████████████████████████████████| 1940/1940 [00:00<00:00, 57284.71it/s]\n",
      "07/30/2023 22:48:02 - INFO - __main__ -  Saving the results to \"/workspace/persistent/LMKBC-2023/output/filled-mask-valid.jsonl\"...\n",
      "07/30/2023 22:48:02 - INFO - __main__ -  Start Evaluate ...\n",
      "                                  p      r     f1\n",
      "BandHasMember                 0.046  0.291  0.077\n",
      "CityLocatedAtRiver            0.020  0.440  0.037\n",
      "CompanyHasParentOrganisation  0.023  0.678  0.045\n",
      "CompoundHasParts              0.102  0.952  0.183\n",
      "CountryBordersCountry         0.109  0.803  0.187\n",
      "CountryHasOfficialLanguage    0.048  0.909  0.089\n",
      "CountryHasStates              0.198  0.504  0.275\n",
      "FootballerPlaysPosition       0.037  0.990  0.071\n",
      "PersonCauseOfDeath            0.027  0.783  0.052\n",
      "PersonHasAutobiography        0.013  0.352  0.025\n",
      "PersonHasEmployer             0.010  0.172  0.019\n",
      "PersonHasNoblePrize           0.034  0.990  0.065\n",
      "PersonHasNumberOfChildren     0.034  0.990  0.065\n",
      "PersonHasPlaceOfDeath         0.018  0.525  0.034\n",
      "PersonHasProfession           0.031  0.402  0.055\n",
      "PersonHasSpouse               0.002  0.060  0.004\n",
      "PersonPlaysInstrument         0.062  0.949  0.114\n",
      "PersonSpeaksLanguage          0.048  0.880  0.090\n",
      "RiverBasinsCountry            0.037  0.798  0.070\n",
      "SeriesHasNumberOfEpisodes     0.031  0.930  0.060\n",
      "StateBordersState             0.030  0.207  0.051\n",
      "Average                       0.046  0.648  0.079\n",
      "                                  p      r     f1\n",
      "BandHasMember                 0.046  0.291  0.077\n",
      "CityLocatedAtRiver            0.020  0.440  0.037\n",
      "CompanyHasParentOrganisation  0.023  0.678  0.045\n",
      "CompoundHasParts              0.102  0.952  0.183\n",
      "CountryBordersCountry         0.109  0.803  0.187\n",
      "CountryHasOfficialLanguage    0.048  0.909  0.089\n",
      "CountryHasStates              0.198  0.504  0.275\n",
      "FootballerPlaysPosition       0.037  0.990  0.071\n",
      "PersonCauseOfDeath            0.027  0.783  0.052\n",
      "PersonHasAutobiography        0.013  0.352  0.025\n",
      "PersonHasEmployer             0.010  0.172  0.019\n",
      "PersonHasNoblePrize           0.034  0.990  0.065\n",
      "PersonHasNumberOfChildren     0.034  0.990  0.065\n",
      "PersonHasPlaceOfDeath         0.018  0.525  0.034\n",
      "PersonHasProfession           0.031  0.402  0.055\n",
      "PersonHasSpouse               0.002  0.060  0.004\n",
      "PersonPlaysInstrument         0.062  0.949  0.114\n",
      "PersonSpeaksLanguage          0.048  0.880  0.090\n",
      "RiverBasinsCountry            0.037  0.798  0.070\n",
      "SeriesHasNumberOfEpisodes     0.031  0.930  0.060\n",
      "StateBordersState             0.030  0.207  0.051\n",
      "Average                       0.046  0.648  0.079\n",
      "100%|███████████████████████████████████████████| 21/21 [00:00<00:00, 32.87it/s]\n",
      "                                 p     r    f1  best_threshold  best_f1\n",
      "BandHasMember                 0.05  0.29  0.08            0.02     0.17\n",
      "CityLocatedAtRiver            0.02  0.44  0.04            0.08     0.18\n",
      "CompanyHasParentOrganisation  0.02  0.68  0.04            0.11     0.46\n",
      "CompoundHasParts              0.10  0.95  0.18            0.05     0.72\n",
      "CountryBordersCountry         0.11  0.80  0.19            0.03     0.36\n",
      "CountryHasOfficialLanguage    0.05  0.91  0.09            0.07     0.56\n",
      "CountryHasStates              0.20  0.50  0.27            0.01     0.33\n",
      "FootballerPlaysPosition       0.04  0.99  0.07            0.02     0.29\n",
      "PersonCauseOfDeath            0.03  0.78  0.05            0.13     0.65\n",
      "PersonHasAutobiography        0.01  0.35  0.02            0.05     0.16\n",
      "PersonHasEmployer             0.01  0.17  0.02            0.04     0.05\n",
      "PersonHasNoblePrize           0.03  0.99  0.07            0.13     0.56\n",
      "PersonHasNumberOfChildren     0.03  0.99  0.07            0.03     0.32\n",
      "PersonHasPlaceOfDeath         0.02  0.53  0.03            0.18     0.32\n",
      "PersonHasProfession           0.03  0.40  0.05            0.02     0.10\n",
      "PersonHasSpouse               0.00  0.06  0.00            0.07     0.02\n",
      "PersonPlaysInstrument         0.06  0.95  0.11            0.13     0.54\n",
      "PersonSpeaksLanguage          0.05  0.88  0.09            0.14     0.35\n",
      "RiverBasinsCountry            0.04  0.80  0.07            0.09     0.20\n",
      "SeriesHasNumberOfEpisodes     0.03  0.93  0.06            0.14     0.14\n",
      "StateBordersState             0.03  0.21  0.05            0.01     0.07\n",
      "Average                       0.05  0.65  0.08             NaN     0.31\n"
     ]
    }
   ],
   "source": [
    "#!model_load_dir = '/workspace/persistent/LMKBC-2023/bin/pretrain_fill_mask/bert-large-cased/best_ckpt'\n",
    "!model_load_dir ='/workspace/persistent/LMKBC-2023/bin/train_full/fill_mask/bert-large-cased/best_ckpt'\n",
    "\n",
    "!python  /workspace/persistent/LMKBC-2023/src/fm_model.py  --test_fn /workspace/persistent/LMKBC-2023/data/val.jsonl --template_fn res/prompts0.csv   --output_fn /workspace/persistent/LMKBC-2023/output/filled-mask-valid.jsonl --train_fn /workspace/persistent/LMKBC-2023/data/train.jsonl          --train_batch_size 256 --gpu 0  --top_k 30 --threshold 0.1  --dev_fn  /workspace/persistent/LMKBC-2023/data/train_tiny.jsonl         --mode \"tr ain test\"  --train_epoch 50 --learning_rate 5e-5         --model_load_dir   $model_load_dir         --model_save_dir  /workspace/persistent/LMKBC-2023/bin/train_full/fill_mask/bert-large-cased        --model_best_dir  /workspace/persistent/LMKBC-2023/bin/train_full/fill_mask/bert-large-cased/best_ckpt "
   ]
  },
  {
   "cell_type": "code",
   "execution_count": null,
   "id": "e2ea36e8-e98c-42a0-b841-b8a8607508e2",
   "metadata": {},
   "outputs": [],
   "source": [
    "   python {config.SRC_DIR}/fm_model.py  --test_fn {test_fn} --template_fn res/prompts0.csv  --output_fn {OUTPUT_FILE} --train_fn {config.DATA_DIR}/train.jsonl --train_batch_size 64 --gpu {args.gpu}  --top_k 30 --threshold 0.1  --dev_fn  {config.DATA_DIR}/train_tiny.jsonl --mode \"train test\" --train_epoch 50 --learning_rate 5e-5 --model_load_dir {last_best_dir} --model_save_dir {fm_model_save_dir} --model_best_dir  {fm_model_best_dir}"
   ]
  },
  {
   "cell_type": "code",
   "execution_count": 3,
   "id": "cc52855d-3ed9-4bc9-b4f6-0137d6fe5053",
   "metadata": {
    "tags": []
   },
   "outputs": [
    {
     "name": "stdout",
     "output_type": "stream",
     "text": [
      "Tue Aug  1 09:32:04 2023       \n",
      "+-----------------------------------------------------------------------------+\n",
      "| NVIDIA-SMI 525.105.17   Driver Version: 525.105.17   CUDA Version: 12.0     |\n",
      "|-------------------------------+----------------------+----------------------+\n",
      "| GPU  Name        Persistence-M| Bus-Id        Disp.A | Volatile Uncorr. ECC |\n",
      "| Fan  Temp  Perf  Pwr:Usage/Cap|         Memory-Usage | GPU-Util  Compute M. |\n",
      "|                               |                      |               MIG M. |\n",
      "|===============================+======================+======================|\n",
      "|   0  Tesla V100-SXM2...  On   | 00000000:89:00.0 Off |                    0 |\n",
      "| N/A   63C    P0   217W / 300W |  28487MiB / 32768MiB |     85%      Default |\n",
      "|                               |                      |                  N/A |\n",
      "+-------------------------------+----------------------+----------------------+\n",
      "                                                                               \n",
      "+-----------------------------------------------------------------------------+\n",
      "| Processes:                                                                  |\n",
      "|  GPU   GI   CI        PID   Type   Process name                  GPU Memory |\n",
      "|        ID   ID                                                   Usage      |\n",
      "|=============================================================================|\n",
      "+-----------------------------------------------------------------------------+\n"
     ]
    }
   ],
   "source": [
    "!nvidia-smi"
   ]
  },
  {
   "cell_type": "code",
   "execution_count": 6,
   "id": "af17287f-6598-4aa4-9a0f-a83b56b4fc93",
   "metadata": {
    "tags": []
   },
   "outputs": [
    {
     "data": {
      "text/plain": [
       "0"
      ]
     },
     "execution_count": 6,
     "metadata": {},
     "output_type": "execute_result"
    },
    {
     "name": "stdout",
     "output_type": "stream",
     "text": [
      "\n",
      "    \n",
      "   python /workspace/persistent/LMKBC-2023/src/pre_model.py   --train_fn /workspace/persistent/LMKBC-2023/res/wikidata/no_person_serises/filter.json  --train_batch_size 32 --gpu 0   --train_epoch 20 --learning_rate 5e-5   --model_load_dir bert-base-cased --model_save_dir /workspace/persistent/LMKBC-2023/bin/default/pretrain_fill_mask --model_best_dir  /workspace/persistent/LMKBC-2023/bin/default/pretrain_fill_mask/best_ckpt\n",
      "    \n",
      "    \n",
      "True\n"
     ]
    },
    {
     "name": "stderr",
     "output_type": "stream",
     "text": [
      "Some weights of the model checkpoint at bert-base-cased were not used when initializing BertForMaskedLM: ['bert.pooler.dense.bias', 'cls.seq_relationship.bias', 'cls.seq_relationship.weight', 'bert.pooler.dense.weight']\n",
      "- This IS expected if you are initializing BertForMaskedLM from the checkpoint of a model trained on another task or with another architecture (e.g. initializing a BertForSequenceClassification model from a BertForPreTraining model).\n",
      "- This IS NOT expected if you are initializing BertForMaskedLM from the checkpoint of a model that you expect to be exactly identical (initializing a BertForSequenceClassification model from a BertForSequenceClassification model).\n",
      "  1%|▏         | 745/56792 [00:00<00:14, 3797.41it/s]"
     ]
    },
    {
     "name": "stdout",
     "output_type": "stream",
     "text": [
      "exists ['Busia District', 'Kaberamaido District', 'Lira District', 'Ngora District', 'Amuru District', 'Busia', 'Bushenyi District', 'Lwengo District', 'Oyam District', 'Amuria District', 'Kamuli District', 'Mityana District', 'Bukedea District', 'Napak District', 'Moyo District', 'Kiryandongo District', 'Adjumani District', 'Kiboga District', 'Mbale District', 'Budaka District', 'Kisoro District', 'Kumi District', 'Wakiso District', 'Central District', 'Kabale District', 'Kayunga District', 'Luwero District', 'Kabarole District', 'Soroti District', 'Katakwi District', 'Mukono District', 'Mpigi District', 'Kamwenge District', 'Kyegegwa District', 'Sembabule District', 'Kibuku District', 'Kampala', 'Iganga District', 'Kasese District', 'Buyende District', 'Pader District', 'Masaka District', 'Koboko District', 'Lyantonde District', 'Yumbe District', 'Rakai District', 'Kyankwanzi District', 'Kitgum District', 'Masindi District', 'Bundibugyo District', 'Kaliro District', 'Apac District', 'Jinja District', 'Arua District', 'Bugiri District', 'Otuke District', 'Ntungamo District', 'Isingiro District', 'Nakaseke District', 'Namayingo District', 'Moroto District', 'Serere District', 'Dokolo District', 'Kiruhura District', 'Gulu District', 'Namutumba District', 'Buikwe District', 'Kyenjojo District', 'Nebbi District', 'Sironko District', 'Kanungu District', 'Tororo District', 'Mubende District', 'Mbarara District', 'Mayuge District', 'Nwoya District']\n",
      "input_tokens ['[CLS]', 'North East', 'er', '##n', 'region', '-', 'Zone', '1', 'Te', '##so', '&', 'Kara', '##mo', '##ja', 'Sub', 'Region', 'Amuria District', 'Football', 'Association', 'Bukedea District', 'Football', 'Association', 'Kaberamaido District', 'Football', 'Association', 'Katakwi District', 'Football', 'Association', 'Kumi District', 'Football', 'Association', 'Moroto District', 'Football', 'Association', 'Napak District', 'Football', 'Association', 'Ngora District', 'Football', 'Association', 'Serere District', 'Football', 'Association', 'Soroti District', 'Football', 'Association', 'Eastern', 'region', '-', 'Zone', '2', 'Se', '##bei', ',', 'B', '##ug', '##is', '##u', '&', 'B', '##uke', '##dd', '##i', 'Sub', 'Region', 'Budaka District', 'Football', 'Association', 'Busia District', 'Football', 'Association', 'But', '##ale', '##j', '##ja', 'District', 'Football', 'Association', 'Kibuku District', 'Football', 'Association', 'Mbale District', 'Football', 'Association', 'Sironko District', 'Football', 'Association', 'Tororo District', 'Football', 'Association', 'Mid', 'North', 'region', '–', 'Zone', '3', 'A', '##cho', '##li', '&', 'Lang', '##o', 'Sub', 'Region', 'Amuru District', 'Football', 'Association', 'Apac District', 'Football', 'Association', 'Dokolo District', 'Football', 'Association', 'Gulu District', 'Football', 'Association', 'Kitgum District', 'Football', 'Association', 'Lira District', 'Football', 'Association', 'Nwoya District', 'Football', 'Association', 'Otuke District', 'Football', 'Association', 'Oyam District', 'Football', 'Association', 'Pader District', 'Football', 'Association', 'West', 'Nile', 'region', '-', 'Zone', '4', 'West', 'Nile', 'Sub', 'Region', 'Adjumani District', 'Football', 'Association', 'Arua District', 'Football', 'Association', 'Koboko District', 'Football', 'Association', 'Moyo District', 'Football', 'Association', 'Nebbi District', 'Football', 'Association', 'Yumbe District', 'Football', 'Association', 'Kit', '##ara', 'region', '–', 'Zone', '5', 'B', '##un', '##yo', '##ro', 'Sub', 'Region', 'Ho', '##ima', 'District', 'Football', 'Association', 'Kiryandongo District', 'Football', 'Association', 'Masindi District', 'Football', 'Association', 'Western', 'region', '–', 'Zone', '6', 'An', '##ko', '##le', '&', 'Ki', '##ge', '##zi', 'Sub', 'Region', 'Bushenyi District', 'Football', 'Association', 'Isingiro District', 'Football', 'Association', 'Kabale District', 'Football', 'Association', 'Kanungu District', 'Football', 'Association', 'Kiruhura District', 'Football', 'Association', 'Kisoro District', 'Football', 'Association', 'Mbarara District', 'Football', 'Association', 'Ntungamo District', 'Football', 'Association', 'B', '##uga', '##nda', 'region', '–', 'Zone', '7', 'Southern Bug', 'and', '##a', 'Sub', 'Region', 'Lwengo District', 'Football', 'Association', 'Lyantonde District', 'Football', 'Association', 'Masaka District', 'Football', 'Association', 'Rakai District', 'Football', 'Association', 'Sembabule District', 'Football', 'Association', 'B', '##uga', '##nda', 'region', '–', 'Zone', '8', 'Central and Western', 'B', '##uga', '##nda', 'Kiboga District', 'Football', 'Association', 'Kyankwanzi District', 'Football', 'Association', 'Mityana District', 'Football', 'Association', 'Mpigi District', 'Football', 'Association', 'Mubende District', 'Football', 'Association', 'Wakiso District', 'Football', 'Association', 'Ka', '##mp', '##ala', 'region', '-', 'Zone', '9', 'Ka', '##mp', '##ala', 'Ka', '##mp', '##ala', 'Central District', 'Football', 'Association', 'Ka', '##we', '##mp', '##e', 'District', 'Football', 'Association', 'Ma', '##kind', '##ye', 'District', 'Football', 'Association', 'Na', '##kawa', 'District', 'Football', 'Association', 'R', '##uba', '##ga', 'District', 'Football', 'Association', 'Eastern', 'region', '–', 'Zone', '10', 'Bus', '##oga', 'Sub', 'Region', 'Bugiri District', 'Football', 'Association', 'Buyende District', 'Football', 'Association', 'Iganga District', 'Football', 'Association', 'Jinja District', 'Football', 'Association', 'Kaliro District', 'Football', 'Association', 'Kamuli District', 'Football', 'Association', 'Mayuge District', 'Football', 'Association', 'Namayingo District', 'Football', 'Association', 'Namutumba District', 'Football', 'Association', 'Kit', '##ara', 'region', '–', 'Zone', '11', 'Too', '##ro', 'Sub', 'Region', 'Bundibugyo District', 'Football', 'Association', 'Kabarole District', 'Football', 'Association', 'Kamwenge District', 'Football', 'Association', 'Kasese District', 'Football', 'Association', 'Kyegegwa District', 'Football', 'Association', 'Kyenjojo District', 'Football', 'Association', 'B', '##uga', '##nda', 'region', '–', 'Zone', '12', 'Northern', 'B', '##uga', '##nda', 'Sub', 'Region', 'Luwero District', 'Football', 'Association', 'Nakaseke District', 'Football', 'Association', 'B', '##uga', '##nda', 'region', '–', 'Zone', '13', 'Eastern', 'B', '##uga', '##nda', 'Sub', 'Region', 'Buikwe District', 'Football', 'Association', 'Kayunga District', 'Football', 'Association', 'Mukono District', 'Football', 'Association', 'Current', 'administrators', 'and', 'officials', 'Presidency', 'President', '-', 'En', '##g', '[SEP]']\n",
      "item {'input_ids': [101, 30124, 14044, 1179, 1805, 118, 6402, 122, 12008, 7301, 111, 14069, 3702, 3174, 12859, 4171, 36195, 2289, 1791, 30624, 2289, 1791, 103, 2289, 1791, 32241, 2289, 1791, 103, 2289, 1791, 34351, 2289, 1791, 32123, 2289, 1791, 32799, 2289, 1791, 31005, 2289, 1791, 42866, 2289, 1791, 2882, 1805, 118, 6402, 123, 22087, 16791, 117, 139, 9610, 1548, 1358, 111, 139, 16140, 13976, 1182, 12859, 4171, 36608, 2289, 1791, 40346, 2289, 1791, 1252, 7531, 3361, 3174, 1574, 2289, 1791, 41976, 2289, 1791, 103, 2289, 1791, 29907, 2289, 1791, 103, 2289, 1791, 9825, 1456, 1805, 782, 6402, 124, 138, 8401, 2646, 111, 12431, 1186, 12859, 4171, 30544, 2289, 1791, 43631, 2289, 1791, 32006, 2289, 1791, 42267, 2289, 1791, 103, 2289, 1791, 30506, 2289, 1791, 29265, 2289, 1791, 40496, 2289, 1791, 103, 2289, 1791, 33467, 2289, 1791, 1537, 16022, 1805, 118, 6402, 125, 1537, 16022, 12859, 4171, 35031, 2289, 1791, 43329, 2289, 1791, 43306, 2289, 1791, 30263, 2289, 1791, 39191, 2289, 1791, 35615, 2289, 1791, 18284, 4626, 1805, 782, 6402, 126, 139, 3488, 7490, 2180, 12859, 4171, 9800, 8628, 1574, 2289, 1791, 103, 2289, 1791, 43827, 2289, 1791, 2102, 1805, 782, 6402, 127, 1760, 2718, 1513, 111, 14477, 2176, 5303, 12859, 4171, 39715, 2289, 1791, 39913, 2289, 1791, 36855, 2289, 1791, 103, 2289, 1791, 30756, 2289, 1791, 38391, 2289, 1791, 103, 2289, 1791, 29283, 2289, 1791, 139, 15650, 7807, 1805, 782, 6402, 128, 41423, 1105, 1161, 12859, 4171, 103, 2289, 1791, 38951, 2289, 1791, 39151, 2289, 1791, 103, 2289, 1791, 35508, 2289, 1791, 139, 15650, 7807, 1805, 782, 6402, 129, 30744, 139, 15650, 7807, 39082, 2289, 1791, 29987, 2289, 1791, 36754, 2289, 1791, 31263, 2289, 1791, 34555, 2289, 1791, 35308, 2289, 1791, 14812, 8223, 5971, 1805, 118, 6402, 130, 14812, 8223, 5971, 14812, 8223, 5971, 40316, 2289, 1791, 14812, 7921, 8223, 1162, 1574, 2289, 1791, 7085, 17215, 4980, 1574, 2289, 1791, 11896, 11921, 1574, 2289, 1791, 155, 24672, 2571, 1574, 2289, 1791, 2882, 1805, 782, 6402, 1275, 8947, 23282, 12859, 4171, 37622, 2289, 1791, 38709, 2289, 1791, 37965, 2289, 1791, 40302, 2289, 1791, 39526, 2289, 1791, 36054, 2289, 1791, 37005, 2289, 1791, 103, 2289, 1791, 43243, 2289, 1791, 18284, 4626, 1805, 782, 6402, 1429, 6466, 2180, 12859, 4171, 34334, 2289, 1791, 103, 2289, 1791, 39095, 2289, 1791, 103, 2289, 1791, 38771, 2289, 1791, 41566, 2289, 1791, 139, 15650, 7807, 1805, 782, 6402, 1367, 2579, 139, 15650, 7807, 12859, 4171, 42044, 2289, 1791, 43742, 2289, 1791, 139, 15650, 7807, 1805, 782, 6402, 1492, 2882, 139, 15650, 7807, 12859, 4171, 31223, 2289, 1791, 39182, 2289, 1791, 40635, 2289, 1791, 9493, 18083, 1105, 3878, 18037, 1697, 118, 13832, 1403, 102], 'labels': [-100, -100, -100, -100, -100, -100, -100, -100, -100, -100, -100, -100, -100, -100, -100, -100, -100, -100, -100, -100, -100, -100, 30370, -100, -100, -100, -100, -100, 39181, -100, -100, -100, -100, -100, -100, -100, -100, -100, -100, -100, -100, -100, -100, -100, -100, -100, -100, -100, -100, -100, -100, -100, -100, -100, -100, -100, -100, -100, -100, -100, -100, -100, -100, -100, -100, -100, -100, -100, -100, -100, -100, -100, -100, -100, -100, -100, -100, -100, -100, -100, -100, 43477, -100, -100, -100, -100, -100, 32147, -100, -100, -100, -100, -100, -100, -100, -100, -100, -100, -100, -100, -100, -100, -100, -100, -100, -100, -100, -100, -100, -100, -100, -100, -100, -100, -100, -100, 29340, -100, -100, -100, -100, -100, -100, -100, -100, -100, -100, -100, 29397, -100, -100, -100, -100, -100, -100, -100, -100, -100, -100, -100, -100, -100, -100, -100, -100, -100, -100, -100, -100, -100, -100, -100, -100, -100, -100, -100, -100, -100, -100, -100, -100, -100, -100, -100, -100, -100, -100, -100, -100, -100, -100, -100, -100, -100, -100, -100, -100, -100, -100, 41511, -100, -100, -100, -100, -100, -100, -100, -100, -100, -100, -100, -100, -100, -100, -100, -100, -100, -100, -100, -100, -100, -100, -100, -100, -100, -100, -100, -100, 34423, -100, -100, -100, -100, -100, -100, -100, -100, 41044, -100, -100, -100, -100, -100, -100, -100, -100, -100, -100, -100, -100, -100, -100, -100, -100, -100, 39551, -100, -100, -100, -100, -100, -100, -100, -100, 31687, -100, -100, -100, -100, -100, -100, -100, -100, -100, -100, -100, -100, -100, -100, -100, -100, -100, -100, -100, -100, -100, -100, -100, -100, -100, -100, -100, -100, -100, -100, -100, -100, -100, -100, -100, -100, -100, -100, -100, -100, -100, -100, -100, -100, -100, -100, -100, -100, -100, -100, -100, -100, -100, -100, -100, -100, -100, -100, -100, -100, -100, -100, -100, -100, -100, -100, -100, -100, -100, -100, -100, -100, -100, -100, -100, -100, -100, -100, -100, -100, -100, -100, -100, -100, -100, -100, -100, -100, -100, -100, -100, -100, -100, -100, -100, -100, -100, -100, -100, -100, -100, -100, -100, -100, 42728, -100, -100, -100, -100, -100, -100, -100, -100, -100, -100, -100, -100, -100, -100, -100, -100, -100, -100, 44008, -100, -100, -100, -100, -100, 35781, -100, -100, -100, -100, -100, -100, -100, -100, -100, -100, -100, -100, -100, -100, -100, -100, -100, -100, -100, -100, -100, -100, -100, -100, -100, -100, -100, -100, -100, -100, -100, -100, -100, -100, -100, -100, -100, -100, -100, -100, -100, -100, -100, -100, -100, -100, -100, -100, -100, -100, -100, -100, -100, -100, -100, -100, -100, -100, -100], 'attention_mask': [1, 1, 1, 1, 1, 1, 1, 1, 1, 1, 1, 1, 1, 1, 1, 1, 1, 1, 1, 1, 1, 1, 0, 1, 1, 1, 1, 1, 0, 1, 1, 1, 1, 1, 1, 1, 1, 1, 1, 1, 1, 1, 1, 1, 1, 1, 1, 1, 1, 1, 1, 1, 1, 1, 1, 1, 1, 1, 1, 1, 1, 1, 1, 1, 1, 1, 1, 1, 1, 1, 1, 1, 1, 1, 1, 1, 1, 1, 1, 1, 1, 0, 1, 1, 1, 1, 1, 0, 1, 1, 1, 1, 1, 1, 1, 1, 1, 1, 1, 1, 1, 1, 1, 1, 1, 1, 1, 1, 1, 1, 1, 1, 1, 1, 1, 1, 0, 1, 1, 1, 1, 1, 1, 1, 1, 1, 1, 1, 0, 1, 1, 1, 1, 1, 1, 1, 1, 1, 1, 1, 1, 1, 1, 1, 1, 1, 1, 1, 1, 1, 1, 1, 1, 1, 1, 1, 1, 1, 1, 1, 1, 1, 1, 1, 1, 1, 1, 1, 1, 1, 1, 1, 1, 1, 1, 1, 1, 1, 1, 0, 1, 1, 1, 1, 1, 1, 1, 1, 1, 1, 1, 1, 1, 1, 1, 1, 1, 1, 1, 1, 1, 1, 1, 1, 1, 1, 1, 1, 0, 1, 1, 1, 1, 1, 1, 1, 1, 0, 1, 1, 1, 1, 1, 1, 1, 1, 1, 1, 1, 1, 1, 1, 1, 1, 1, 0, 1, 1, 1, 1, 1, 1, 1, 1, 0, 1, 1, 1, 1, 1, 1, 1, 1, 1, 1, 1, 1, 1, 1, 1, 1, 1, 1, 1, 1, 1, 1, 1, 1, 1, 1, 1, 1, 1, 1, 1, 1, 1, 1, 1, 1, 1, 1, 1, 1, 1, 1, 1, 1, 1, 1, 1, 1, 1, 1, 1, 1, 1, 1, 1, 1, 1, 1, 1, 1, 1, 1, 1, 1, 1, 1, 1, 1, 1, 1, 1, 1, 1, 1, 1, 1, 1, 1, 1, 1, 1, 1, 1, 1, 1, 1, 1, 1, 1, 1, 1, 1, 1, 1, 1, 1, 1, 1, 1, 1, 1, 1, 1, 1, 0, 1, 1, 1, 1, 1, 1, 1, 1, 1, 1, 1, 1, 1, 1, 1, 1, 1, 1, 0, 1, 1, 1, 1, 1, 0, 1, 1, 1, 1, 1, 1, 1, 1, 1, 1, 1, 1, 1, 1, 1, 1, 1, 1, 1, 1, 1, 1, 1, 1, 1, 1, 1, 1, 1, 1, 1, 1, 1, 1, 1, 1, 1, 1, 1, 1, 1, 1, 1, 1, 1, 1, 1, 1, 1, 1, 1, 1, 1, 1, 1, 1, 1, 1, 1]}\n"
     ]
    },
    {
     "name": "stderr",
     "output_type": "stream",
     "text": [
      "100%|██████████| 56792/56792 [00:06<00:00, 9227.99it/s] \n"
     ]
    },
    {
     "name": "stdout",
     "output_type": "stream",
     "text": [
      "max_length 502\n",
      "train dataset size: 51166\n"
     ]
    },
    {
     "name": "stderr",
     "output_type": "stream",
     "text": [
      "/usr/local/lib/python3.8/dist-packages/transformers/optimization.py:411: FutureWarning: This implementation of AdamW is deprecated and will be removed in a future version. Use the PyTorch implementation torch.optim.AdamW instead, or set `no_deprecation_warning=True` to disable this warning\n",
      "  warnings.warn(\n",
      "  0%|          | 0/31980 [00:00<?, ?it/s]You're using a BertTokenizerFast tokenizer. Please note that with a fast tokenizer, using the `__call__` method is faster than using a method to encode the text followed by a call to the `pad` method to get a padded encoding.\n",
      "  5%|▌         | 1599/31980 [10:44<3:29:05,  2.42it/s]"
     ]
    },
    {
     "name": "stdout",
     "output_type": "stream",
     "text": [
      "{'loss': 8.694, 'learning_rate': 2.4937460913070672e-05, 'epoch': 1.0}\n"
     ]
    },
    {
     "name": "stderr",
     "output_type": "stream",
     "text": [
      "  8%|▊         | 2467/31980 [16:36<3:31:27,  2.33it/s] "
     ]
    }
   ],
   "source": [
    "!cd /workspace/persistent/LMKBC-2023/\n",
    "import os\n",
    "command = '''\n",
    "nohup python src/run.py --mode pfm,fm --load_dir bert-base-cased  &\n",
    "'''\n",
    "os.system(command)"
   ]
  },
  {
   "cell_type": "code",
   "execution_count": 9,
   "id": "9819f746-8cc5-40d9-938f-3e904f8de31d",
   "metadata": {
    "tags": []
   },
   "outputs": [
    {
     "name": "stderr",
     "output_type": "stream",
     "text": [
      "100%|█████████▉| 31867/31980 [3:35:12<00:49,  2.27it/s]"
     ]
    },
    {
     "name": "stdout",
     "output_type": "stream",
     "text": [
      "cat: nohup: No such file or directory\n"
     ]
    },
    {
     "name": "stderr",
     "output_type": "stream",
     "text": [
      "100%|██████████| 31980/31980 [3:35:58<00:00,  2.37it/s]"
     ]
    },
    {
     "name": "stdout",
     "output_type": "stream",
     "text": [
      "{'loss': 0.0034, 'learning_rate': 2.2583559168925022e-08, 'epoch': 20.0}\n"
     ]
    },
    {
     "name": "stderr",
     "output_type": "stream",
     "text": [
      "100%|██████████| 31980/31980 [3:36:00<00:00,  2.47it/s]\n"
     ]
    },
    {
     "name": "stdout",
     "output_type": "stream",
     "text": [
      "{'train_runtime': 12960.3824, 'train_samples_per_second': 78.958, 'train_steps_per_second': 2.468, 'train_loss': 1.2884154733230802, 'epoch': 20.0}\n",
      "best_ckpt_dir:  /workspace/persistent/LMKBC-2023/bin/default/pretrain_fill_mask/best_ckpt\n",
      "\n",
      "    \n",
      "   python /workspace/persistent/LMKBC-2023/src/fm_model.py  --test_fn /workspace/persistent/LMKBC-2023/data/val.jsonl --template_fn res/prompts0.csv  --output_fn /workspace/persistent/LMKBC-2023/output/filled-mask-valid.jsonl --train_fn /workspace/persistent/LMKBC-2023/data/train.jsonl --train_batch_size 64 --gpu 0  --top_k 30 --threshold 0.1  --dev_fn  /workspace/persistent/LMKBC-2023/data/train_tiny.jsonl --mode \"train test\" --train_epoch 50 --learning_rate 5e-5 --model_load_dir /workspace/persistent/LMKBC-2023/bin/default/pretrain_fill_mask/best_ckpt --model_save_dir /workspace/persistent/LMKBC-2023/bin/default/fill_mask --model_best_dir  /workspace/persistent/LMKBC-2023/bin/default/fill_mask/best_ckpt\n",
      "    \n",
      "    \n",
      "GPU  True\n",
      "{'labels': [-100, -100, -100, -100, -100, -100, -100, -100, -100, -100, -100, -100, -100, -100, -100, 42129, -100, -100], 'input_ids': [101, 157, 3048, 1162, 2986, 1137, 4157, 35649, 1144, 1151, 2152, 1103, 10412, 3449, 1107, 103, 119, 102], 'attention_mask': [1, 1, 1, 1, 1, 1, 1, 1, 1, 1, 1, 1, 1, 1, 1, 0, 1, 1]}\n"
     ]
    },
    {
     "name": "stderr",
     "output_type": "stream",
     "text": [
      "Traceback (most recent call last):\n",
      "  File \"/workspace/persistent/LMKBC-2023/src/util.py\", line 75, in file_read_json_line\n",
      "    train_data.append(json.loads (line))\n",
      "  File \"/usr/lib/python3.8/json/__init__.py\", line 357, in loads\n",
      "    return _default_decoder.decode(s)\n",
      "  File \"/usr/lib/python3.8/json/decoder.py\", line 340, in decode\n",
      "    raise JSONDecodeError(\"Extra data\", s, end)\n",
      "json.decoder.JSONDecodeError: Extra data: line 1 column 166 (char 165)\n",
      "\n",
      "During handling of the above exception, another exception occurred:\n",
      "\n",
      "Traceback (most recent call last):\n",
      "  File \"/workspace/persistent/LMKBC-2023/src/fm_model.py\", line 912, in <module>\n",
      "    train()\n",
      "  File \"/workspace/persistent/LMKBC-2023/src/fm_model.py\", line 270, in train\n",
      "    dev_dataset = MLMDataset(\n",
      "  File \"/workspace/persistent/LMKBC-2023/src/fm_model.py\", line 43, in __init__\n",
      "    train_data = util.file_read_json_line(data_fn)\n",
      "  File \"/workspace/persistent/LMKBC-2023/src/util.py\", line 77, in file_read_json_line\n",
      "    print(e.with_traceback())\n",
      "TypeError: with_traceback() takes exactly one argument (0 given)\n"
     ]
    },
    {
     "name": "stdout",
     "output_type": "stream",
     "text": [
      "\n",
      "    \n",
      "   python /workspace/persistent/LMKBC-2023/src/fm_model.py  --test_fn /workspace/persistent/LMKBC-2023/data/val.jsonl --template_fn res/prompts0.csv  --output_fn /workspace/persistent/LMKBC-2023/output/filled-mask-valid.jsonl --train_fn /workspace/persistent/LMKBC-2023/data/train.jsonl --train_batch_size 64 --gpu 0  --top_k 30 --threshold 0.1  --dev_fn  /workspace/persistent/LMKBC-2023/data/train_tiny.jsonl --mode \"train test\" --train_epoch 50 --learning_rate 5e-5 --model_load_dir /workspace/persistent/LMKBC-2023/bin/default/pretrain_fill_mask/best_ckpt --model_save_dir /workspace/persistent/LMKBC-2023/bin/default/fill_mask --model_best_dir  /workspace/persistent/LMKBC-2023/bin/default/fill_mask/best_ckpt\n",
      "    \n",
      "    \n",
      "GPU  True\n",
      "{'labels': [-100, -100, -100, -100, -100, -100, -100, -100, -100, -100, -100, 38910, -100, -100], 'input_ids': [101, 1109, 3199, 1137, 1352, 34817, 6641, 1330, 1352, 1137, 3199, 103, 119, 102], 'attention_mask': [1, 1, 1, 1, 1, 1, 1, 1, 1, 1, 1, 0, 1, 1]}\n"
     ]
    },
    {
     "name": "stderr",
     "output_type": "stream",
     "text": [
      "Traceback (most recent call last):\n",
      "  File \"/workspace/persistent/LMKBC-2023/src/util.py\", line 75, in file_read_json_line\n",
      "    train_data.append(json.loads (line))\n",
      "  File \"/usr/lib/python3.8/json/__init__.py\", line 357, in loads\n",
      "    return _default_decoder.decode(s)\n",
      "  File \"/usr/lib/python3.8/json/decoder.py\", line 340, in decode\n",
      "    raise JSONDecodeError(\"Extra data\", s, end)\n",
      "json.decoder.JSONDecodeError: Extra data: line 1 column 166 (char 165)\n",
      "\n",
      "During handling of the above exception, another exception occurred:\n",
      "\n",
      "Traceback (most recent call last):\n",
      "  File \"/workspace/persistent/LMKBC-2023/src/fm_model.py\", line 912, in <module>\n",
      "    train()\n",
      "  File \"/workspace/persistent/LMKBC-2023/src/fm_model.py\", line 270, in train\n",
      "    dev_dataset = MLMDataset(\n",
      "  File \"/workspace/persistent/LMKBC-2023/src/fm_model.py\", line 43, in __init__\n",
      "    train_data = util.file_read_json_line(data_fn)\n",
      "  File \"/workspace/persistent/LMKBC-2023/src/util.py\", line 77, in file_read_json_line\n",
      "    print(e.with_traceback())\n",
      "TypeError: with_traceback() takes exactly one argument (0 given)\n"
     ]
    }
   ],
   "source": [
    "!cat nohup  "
   ]
  },
  {
   "cell_type": "code",
   "execution_count": null,
   "id": "d55d671e-5a61-4545-a2d1-0301cf75dfba",
   "metadata": {
    "tags": []
   },
   "outputs": [
    {
     "name": "stdout",
     "output_type": "stream",
     "text": [
      "GPU  True\n",
      "{'labels': [-100, -100, -100, -100, -100, -100, -100, 3865, -100, -100], 'input_ids': [101, 1103, 1583, 5776, 6641, 1103, 1583, 103, 119, 102], 'attention_mask': [1, 1, 1, 1, 1, 1, 1, 0, 1, 1]}\n",
      "{\"SubjectEntityID\": \"Q16189274\", \"SubjectEntity\": \"Harsh Goenka\", \"ObjectEntitiesID\": [\"Q7277463\"], \"ObjectEntities\": [\"RPG Group\"], \"Relation\": \"PersonHasEmployer\"}{\"SubjectEntityID\": \"Q724465\", \"SubjectEntity\": \"Ket\", \"ObjectEntitiesID\": [\"Q159\"], \"ObjectEntities\": [\"Russia\"], \"Relation\": \"RiverBasinsCountry\"}\n",
      "\n",
      "{'labels': [-100, -100, -100, -100, -100, 38918, -100, -100, -100, -100, -100, -100, -100], 'input_ids': [101, 1109, 1583, 36130, 2075, 103, 1112, 1103, 1352, 1137, 3199, 119, 102], 'attention_mask': [1, 1, 1, 1, 1, 0, 1, 1, 1, 1, 1, 1, 1]}\n",
      "/usr/local/lib/python3.8/dist-packages/transformers/optimization.py:411: FutureWarning: This implementation of AdamW is deprecated and will be removed in a future version. Use the PyTorch implementation torch.optim.AdamW instead, or set `no_deprecation_warning=True` to disable this warning\n",
      "  warnings.warn(\n",
      "  0%|                                                  | 0/3200 [00:00<?, ?it/s]You're using a BertTokenizerFast tokenizer. Please note that with a fast tokenizer, using the `__call__` method is faster than using a method to encode the text followed by a call to the `pad` method to get a padded encoding.\n",
      "{'loss': 10.0707, 'learning_rate': 9.84375e-06, 'epoch': 1.0}                   \n",
      "{'loss': 6.3817, 'learning_rate': 1.96875e-05, 'epoch': 2.0}                    \n",
      "{'loss': 5.5008, 'learning_rate': 2.953125e-05, 'epoch': 3.0}                   \n",
      "{'loss': 4.8014, 'learning_rate': 3.953125e-05, 'epoch': 4.0}                   \n",
      "{'loss': 4.2904, 'learning_rate': 4.953125e-05, 'epoch': 5.0}                   \n",
      "{'loss': 3.8745, 'learning_rate': 4.8940972222222226e-05, 'epoch': 6.0}         \n",
      "{'loss': 3.288, 'learning_rate': 4.782986111111111e-05, 'epoch': 7.0}           \n",
      "{'loss': 2.9222, 'learning_rate': 4.671875e-05, 'epoch': 8.0}                   \n",
      "{'loss': 2.5415, 'learning_rate': 4.5607638888888895e-05, 'epoch': 9.0}         \n",
      "{'loss': 2.3542, 'learning_rate': 4.449652777777778e-05, 'epoch': 10.0}         \n",
      "{'loss': 2.1974, 'learning_rate': 4.338541666666667e-05, 'epoch': 11.0}         \n",
      "{'loss': 2.0052, 'learning_rate': 4.227430555555556e-05, 'epoch': 12.0}         \n",
      "{'loss': 1.9612, 'learning_rate': 4.1163194444444445e-05, 'epoch': 13.0}        \n",
      "{'loss': 1.9119, 'learning_rate': 4.005208333333333e-05, 'epoch': 14.0}         \n",
      "{'loss': 1.7906, 'learning_rate': 3.894097222222222e-05, 'epoch': 15.0}         \n",
      "{'loss': 1.7587, 'learning_rate': 3.7829861111111114e-05, 'epoch': 16.0}        \n",
      "{'loss': 1.7004, 'learning_rate': 3.671875e-05, 'epoch': 17.0}                  \n",
      "{'loss': 1.7179, 'learning_rate': 3.560763888888889e-05, 'epoch': 18.0}         \n",
      "{'loss': 1.6496, 'learning_rate': 3.449652777777778e-05, 'epoch': 19.0}         \n",
      "{'loss': 1.6405, 'learning_rate': 3.338541666666667e-05, 'epoch': 20.0}         \n",
      "{'loss': 1.5944, 'learning_rate': 3.227430555555556e-05, 'epoch': 21.0}         \n",
      "{'loss': 1.5725, 'learning_rate': 3.1163194444444446e-05, 'epoch': 22.0}        \n",
      "{'loss': 1.592, 'learning_rate': 3.0052083333333336e-05, 'epoch': 23.0}         \n",
      "{'loss': 1.5959, 'learning_rate': 2.8940972222222224e-05, 'epoch': 24.0}        \n",
      "{'loss': 1.541, 'learning_rate': 2.782986111111111e-05, 'epoch': 25.0}          \n",
      "{'loss': 1.5156, 'learning_rate': 2.6718750000000002e-05, 'epoch': 26.0}        \n",
      "{'loss': 1.5289, 'learning_rate': 2.560763888888889e-05, 'epoch': 27.0}         \n",
      "{'loss': 1.5271, 'learning_rate': 2.4496527777777777e-05, 'epoch': 28.0}        \n",
      "{'loss': 1.5038, 'learning_rate': 2.3385416666666668e-05, 'epoch': 29.0}        \n",
      "{'loss': 1.4795, 'learning_rate': 2.227430555555556e-05, 'epoch': 30.0}         \n",
      "{'loss': 1.42, 'learning_rate': 2.1163194444444446e-05, 'epoch': 31.0}          \n",
      "{'loss': 1.4025, 'learning_rate': 2.0052083333333334e-05, 'epoch': 32.0}        \n",
      "{'loss': 1.4329, 'learning_rate': 1.894097222222222e-05, 'epoch': 33.0}         \n",
      "{'loss': 1.3864, 'learning_rate': 1.7829861111111112e-05, 'epoch': 34.0}        \n",
      "{'loss': 1.4131, 'learning_rate': 1.671875e-05, 'epoch': 35.0}                  \n",
      "{'loss': 1.366, 'learning_rate': 1.560763888888889e-05, 'epoch': 36.0}          \n",
      "{'loss': 1.3734, 'learning_rate': 1.449652777777778e-05, 'epoch': 37.0}         \n",
      "{'loss': 1.3385, 'learning_rate': 1.3385416666666667e-05, 'epoch': 38.0}        \n",
      "{'loss': 1.3452, 'learning_rate': 1.2291666666666666e-05, 'epoch': 39.0}        \n",
      "{'loss': 1.3581, 'learning_rate': 1.1180555555555557e-05, 'epoch': 40.0}        \n",
      "{'loss': 1.3204, 'learning_rate': 1.0069444444444445e-05, 'epoch': 41.0}        \n",
      "{'loss': 1.3246, 'learning_rate': 8.958333333333334e-06, 'epoch': 42.0}         \n",
      "{'loss': 1.2824, 'learning_rate': 7.847222222222223e-06, 'epoch': 43.0}         \n",
      "{'loss': 1.2581, 'learning_rate': 6.736111111111111e-06, 'epoch': 44.0}         \n",
      "{'loss': 1.2925, 'learning_rate': 5.625e-06, 'epoch': 45.0}                     \n",
      "{'loss': 1.2402, 'learning_rate': 4.513888888888889e-06, 'epoch': 46.0}         \n",
      "{'loss': 1.2612, 'learning_rate': 3.402777777777778e-06, 'epoch': 47.0}         \n",
      "{'loss': 1.2118, 'learning_rate': 2.2916666666666666e-06, 'epoch': 48.0}        \n",
      "{'loss': 1.2238, 'learning_rate': 1.1805555555555556e-06, 'epoch': 49.0}        \n",
      "{'loss': 1.1877, 'learning_rate': 6.944444444444445e-08, 'epoch': 50.0}         \n",
      "100%|███████████████████████████████████████| 3200/3200 [05:26<00:00, 14.12it/s]"
     ]
    }
   ],
   "source": [
    "  !python /workspace/persistent/LMKBC-2023/src/fm_model.py  --test_fn /workspace/persistent/LMKBC-2023/data/val.jsonl --template_fn res/prompts0.csv  --output_fn /workspace/persistent/LMKBC-2023/output/filled-mask-valid.jsonl --train_fn /workspace/persistent/LMKBC-2023/data/train.jsonl --train_batch_size 64 --gpu 0  --top_k 30 --threshold 0.1  --dev_fn  /workspace/persistent/LMKBC-2023/data/train_tiny.jsonl --mode \"train test\" --train_epoch 50 --learning_rate 5e-5 --model_load_dir /workspace/persistent/LMKBC-2023/bin/default/pretrain_fill_mask/best_ckpt --model_save_dir /workspace/persistent/LMKBC-2023/bin/default/fill_mask --model_best_dir  /workspace/persistent/LMKBC-2023/bin/default/fill_mask/best_ckpt"
   ]
  },
  {
   "cell_type": "code",
   "execution_count": null,
   "id": "9e40fbf7-3ac7-4dd2-8bee-9f8ff174e447",
   "metadata": {},
   "outputs": [],
   "source": []
  }
 ],
 "metadata": {
  "kernelspec": {
   "display_name": "Python 3 (ipykernel)",
   "language": "python",
   "name": "python3"
  },
  "language_info": {
   "codemirror_mode": {
    "name": "ipython",
    "version": 3
   },
   "file_extension": ".py",
   "mimetype": "text/x-python",
   "name": "python",
   "nbconvert_exporter": "python",
   "pygments_lexer": "ipython3",
   "version": "3.8.10"
  }
 },
 "nbformat": 4,
 "nbformat_minor": 5
}
