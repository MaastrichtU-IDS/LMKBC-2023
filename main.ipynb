{
 "cells": [
  {
   "cell_type": "code",
   "execution_count": null,
   "id": "0746b7f1-e66a-41d9-bbce-d60c2551cf3c",
   "metadata": {
    "tags": []
   },
   "outputs": [],
   "source": [
    "\n",
    "!git clone https://github.com/MaastrichtU-IDS/LMKBC-2023.git"
   ]
  },
  {
   "cell_type": "code",
   "execution_count": null,
   "id": "5d05e67e-39f7-470c-8c1e-19775707b2db",
   "metadata": {
    "tags": []
   },
   "outputs": [],
   "source": [
    "!git reset --hard\n",
    "!git pull "
   ]
  },
  {
   "cell_type": "code",
   "execution_count": null,
   "id": "af57b4b5-23dc-4a1d-ae8b-0905652f2b37",
   "metadata": {
    "tags": []
   },
   "outputs": [],
   "source": [
    "!pip3 uninstall torch torchvision torchaudio\n",
    "!pip uninstall transformers\n",
    "!pip uninstall accelerate -U\n"
   ]
  },
  {
   "cell_type": "code",
   "execution_count": null,
   "id": "3ef8c3b6-c9dc-495e-b844-fc353dadbaf3",
   "metadata": {
    "tags": []
   },
   "outputs": [],
   "source": [
    "import os\n",
    "os.chdir('LMKBC-2023/')"
   ]
  },
  {
   "cell_type": "code",
   "execution_count": null,
   "id": "d5a2ecd7-70ce-45b1-9250-8b3375b928f6",
   "metadata": {
    "tags": []
   },
   "outputs": [],
   "source": [
    "!pip install transformers\n",
    "!pip install accelerate -U\n"
   ]
  },
  {
   "cell_type": "code",
   "execution_count": null,
   "id": "b789a5e4-ab2b-4301-8b79-a9cb11eb659c",
   "metadata": {
    "scrolled": true,
    "tags": []
   },
   "outputs": [],
   "source": [
    "!python src/run.py --mode \"train_fm\"\n",
    "\n"
   ]
  },
  {
   "cell_type": "code",
   "execution_count": null,
   "id": "6f414398-b041-4bfc-8769-eafe32f05aba",
   "metadata": {
    "tags": []
   },
   "outputs": [],
   "source": [
    "import torch\n",
    "print(torch.cuda.is_available())"
   ]
  },
  {
   "cell_type": "code",
   "execution_count": null,
   "id": "11db8616-7f1c-46aa-8fad-8aaf98a3c643",
   "metadata": {
    "tags": []
   },
   "outputs": [],
   "source": []
  },
  {
   "cell_type": "code",
   "execution_count": null,
   "id": "37ddf76e-10a3-439a-91a8-a941c44250e2",
   "metadata": {
    "tags": []
   },
   "outputs": [],
   "source": [
    "!git add . \n",
    "!git commit -m 'from server' \n",
    "!git push\n"
   ]
  },
  {
   "cell_type": "code",
   "execution_count": null,
   "id": "a13d1898-9f78-4dc1-9e22-13209c33ec48",
   "metadata": {
    "tags": []
   },
   "outputs": [],
   "source": [
    "#!model_load_dir = '/workspace/persistent/LMKBC-2023/bin/pretrain_fill_mask/bert-large-cased/best_ckpt'\n",
    "!model_load_dir ='/workspace/persistent/LMKBC-2023/bin/train_full/fill_mask/bert-large-cased/best_ckpt'\n",
    "\n",
    "!python  /workspace/persistent/LMKBC-2023/src/fm_model.py  --test_fn /workspace/persistent/LMKBC-2023/data/val.jsonl --template_fn res/prompts0.csv   --output_fn /workspace/persistent/LMKBC-2023/output/filled-mask-valid.jsonl --train_fn /workspace/persistent/LMKBC-2023/data/train.jsonl          --train_batch_size 256 --gpu 0  --top_k 30 --threshold 0.1  --dev_fn  /workspace/persistent/LMKBC-2023/data/train_tiny.jsonl         --mode \"tr ain test\"  --train_epoch 50 --learning_rate 5e-5         --model_load_dir   $model_load_dir         --model_save_dir  /workspace/persistent/LMKBC-2023/bin/train_full/fill_mask/bert-large-cased        --model_best_dir  /workspace/persistent/LMKBC-2023/bin/train_full/fill_mask/bert-large-cased/best_ckpt "
   ]
  },
  {
   "cell_type": "code",
   "execution_count": null,
   "id": "e2ea36e8-e98c-42a0-b841-b8a8607508e2",
   "metadata": {},
   "outputs": [],
   "source": [
    "   python {config.SRC_DIR}/fm_model.py  --test_fn {test_fn} --template_fn res/prompts0.csv  --output_fn {OUTPUT_FILE} --train_fn {config.DATA_DIR}/train.jsonl --train_batch_size 64 --gpu {args.gpu}  --top_k 30 --threshold 0.1  --dev_fn  {config.DATA_DIR}/train_tiny.jsonl --mode \"train test\" --train_epoch 50 --learning_rate 5e-5 --model_load_dir {last_best_dir} --model_save_dir {fm_model_save_dir} --model_best_dir  {fm_model_best_dir}"
   ]
  },
  {
   "cell_type": "code",
   "execution_count": null,
   "id": "cc52855d-3ed9-4bc9-b4f6-0137d6fe5053",
   "metadata": {
    "tags": []
   },
   "outputs": [],
   "source": [
    "!nvidia-smi"
   ]
  },
  {
   "cell_type": "code",
   "execution_count": null,
   "id": "9819f746-8cc5-40d9-938f-3e904f8de31d",
   "metadata": {
    "tags": []
   },
   "outputs": [],
   "source": [
    "!cat nohup.out "
   ]
  },
  {
   "cell_type": "code",
   "execution_count": null,
   "id": "d55d671e-5a61-4545-a2d1-0301cf75dfba",
   "metadata": {
    "tags": []
   },
   "outputs": [],
   "source": [
    "  !python /workspace/persistent/LMKBC-2023/src/fm_model.py  --test_fn /workspace/persistent/LMKBC-2023/data/val.jsonl --template_fn res/prompts0.csv  --output_fn /workspace/persistent/LMKBC-2023/output/filled-mask-valid.jsonl --train_fn /workspace/persistent/LMKBC-2023/data/train.jsonl --train_batch_size 64 --gpu 0  --top_k 30 --threshold 0.1  --dev_fn  /workspace/persistent/LMKBC-2023/data/train_tiny.jsonl --mode \"train test\" --train_epoch 50 --learning_rate 5e-5 --model_load_dir /workspace/persistent/LMKBC-2023/bin/default/pretrain_fill_mask/best_ckpt --model_save_dir /workspace/persistent/LMKBC-2023/bin/default/fill_mask --model_best_dir  /workspace/persistent/LMKBC-2023/bin/default/fill_mask/best_ckpt"
   ]
  },
  {
   "cell_type": "code",
   "execution_count": null,
   "id": "9e40fbf7-3ac7-4dd2-8bee-9f8ff174e447",
   "metadata": {},
   "outputs": [],
   "source": [
    "!tail -n 1000  nohup.out| grep loss"
   ]
  },
  {
   "cell_type": "code",
   "execution_count": 1,
   "id": "41572494-a81b-4017-9bb3-73bb12b18208",
   "metadata": {
    "tags": []
   },
   "outputs": [
    {
     "name": "stdout",
     "output_type": "stream",
     "text": [
      "cwd /home/yd/project/LMKBC-2023\n"
     ]
    },
    {
     "name": "stderr",
     "output_type": "stream",
     "text": [
      "/home/yd/app/envs/lmkbc2023/lib/python3.11/site-packages/tqdm/auto.py:21: TqdmWarning: IProgress not found. Please update jupyter and ipywidgets. See https://ipywidgets.readthedocs.io/en/stable/user_install.html\n",
      "  from .autonotebook import tqdm as notebook_tqdm\n"
     ]
    },
    {
     "name": "stdout",
     "output_type": "stream",
     "text": [
      "getcwd /home/yd/project/LMKBC-2023\n",
      "   token_recode label silver_data         pretrain  epoch  CountryBordersCountry  CountryHasOfficialLanguage  CountryHasStates  StateBordersState  Average\n",
      "0          null  null        null             null    5.0                  0.293                       0.460             0.251              0.020    0.300\n",
      "1          null  null        null             null    5.0                  0.293                       0.460             0.251              0.020    0.300\n",
      "2          null  null        null             null    5.0                  0.293                       0.460             0.251              0.020    0.300\n",
      "3          null  null        null             null    5.0                  0.293                       0.460             0.251              0.020    0.300\n",
      "4          null  null        null             null   30.0                  0.977                       0.987             0.968              0.957    0.916\n",
      "5          null  null        null             null   50.0                  0.361                       0.559             0.330              0.070    0.312\n",
      "6          null  null        null             null   50.0                  0.361                       0.559             0.330              0.070    0.312\n",
      "7          null  null        null             null   50.0                  0.361                       0.559             0.330              0.070    0.312\n",
      "8         False  null        null             null   50.0                  0.350                       0.609             0.141              0.140    0.308\n",
      "9         False  null        True  bert-base-cased    5.0                  0.731                       0.788             0.064              0.004    0.360\n",
      "10        False  null        True  bert-base-cased    5.0                  0.792                       0.814             0.332              0.012    0.434\n",
      "11        False  null        True  bert-base-cased    5.0                  0.819                       0.832             0.532              0.013    0.456\n",
      "12         True  null       False  bert-base-cased   20.0                  0.795                       0.832             0.759              0.700    0.746\n",
      "13        False  null       False  bert-base-cased   10.0                  0.615                       0.796             0.180              0.134    0.360\n",
      "14        False  null       False  bert-base-cased   10.0                  0.718                       0.770             0.033              0.021    0.396\n",
      "15        False  null       False  bert-base-cased   20.0                  0.835                       0.836             0.339              0.426    0.638\n",
      "16        False  null       False  bert-base-cased   20.0                  0.394                       0.596             0.029              0.059    0.306\n",
      "17        False  null       False  bert-base-cased   20.0                  0.405                       0.575             0.028              0.065    0.306\n",
      "18        False  null       False  bert-base-cased   20.0                  0.450                       0.676             0.066              0.088    0.328\n",
      "19        False  null       False  bert-base-cased   20.0                  0.456                       0.709             0.069              0.095    0.330\n",
      "20        False  null       False  bert-base-cased   20.0                  0.446                       0.675             0.065              0.098    0.326\n",
      "21        False  null       False  bert-base-cased   10.0                  0.457                       0.710             0.067              0.102    0.330\n",
      "22        False  null       False  bert-base-cased    5.0                  0.432                       0.701             0.087              0.103    0.331\n",
      "23        False  null       False  bert-base-cased    3.0                  0.387                       0.702             0.104              0.100    0.321\n",
      "24        False  null       False  bert-base-cased    5.0                  0.396                       0.694             0.100              0.098    0.323\n",
      "25        False  null       False  bert-base-cased   10.0                  0.416                       0.701             0.093              0.098    0.325\n",
      "26        False  null       False  bert-base-cased    5.0                  0.429                       0.710             0.070              0.099    0.327\n",
      "27        False  null       False  bert-base-cased    5.0                  0.417                       0.735             0.086              0.094    0.331\n",
      "28        False  null       False  bert-base-cased   50.0                  0.458                       0.684             0.065              0.087    0.327\n",
      "29         True  null       False  bert-base-cased   10.0                  0.427                       0.624             0.022              0.018    0.304\n",
      "30         True  null       False  bert-base-cased   10.0                  0.450                       0.568             0.022              0.007    0.304\n",
      "31         True  null       False  bert-base-cased   10.0                  0.440                       0.551             0.027              0.014    0.305\n",
      "32         True  null       False  bert-base-cased   20.0                  0.452                       0.632             0.041              0.013    0.317\n",
      "33         True  null       False  bert-base-cased   20.0                  0.449                       0.643             0.034              0.020    0.310\n",
      "34         True  null       False  bert-base-cased   50.0                  0.423                       0.647             0.031              0.026    0.309\n",
      "35         True  null       False  bert-base-cased   10.0                  0.423                       0.647             0.031              0.026    0.309\n",
      "36         True  null       False  bert-base-cased   10.0                  0.386                       0.607             0.053              0.010    0.306\n",
      "37         True  null       False  bert-base-cased   10.0                  0.373                       0.599             0.050              0.012    0.303\n",
      "38         True  null       False  bert-base-cased   10.0                  0.366                       0.586             0.033              0.013    0.307\n",
      "39         True  null       False  bert-base-cased   10.0                  0.431                       0.625             0.021              0.018    0.306\n",
      "40         True  null       False  bert-base-cased   20.0                  0.440                       0.629             0.034              0.019    0.304\n",
      "41         True  null       False  bert-base-cased   20.0                  0.433                       0.629             0.026              0.016    0.310\n",
      "42         True  null       False  bert-base-cased   20.0                  0.420                       0.639             0.017              0.015    0.305\n",
      "43         True  null       False  bert-base-cased   20.0                  0.427                       0.620             0.024              0.015    0.304\n",
      "44         True  null       False  bert-base-cased   20.0                  0.365                       0.585             0.052              0.019    0.302\n",
      "45         True  null       False  bert-base-cased   20.0                  0.432                       0.641             0.022              0.017    0.307\n",
      "46         True  null       False  bert-base-cased   20.0                  0.434                       0.637             0.024              0.018    0.307\n",
      "47         True  null       False  bert-base-cased   20.0                  0.442                       0.615             0.029              0.016    0.307\n",
      "48        False  null       False  bert-base-cased   20.0                  0.442                       0.615             0.029              0.016    0.307\n"
     ]
    }
   ],
   "source": [
    "import os\n",
    "import json \n",
    "import sys\n",
    "print('cwd', os.getcwd())\n",
    "import pandas as pd\n",
    "sys.path.append('src')\n",
    "import src.util\n",
    "\n",
    "\n",
    "result_fp = 'res/results.jsonl'\n",
    "sentence_list =  open(result_fp).readlines()\n",
    "json_list = [json.loads(s) for s in sentence_list]\n",
    "result_list=[]\n",
    "for json_dict in json_list:\n",
    "    args_dict = json_dict['args']\n",
    "    result = dict()\n",
    "    model_load_dir = json_dict['args']['model_load_dir']\n",
    "    if len(model_load_dir) < 20:\n",
    "        label = model_load_dir\n",
    "    else:\n",
    "        label = model_load_dir\n",
    "    if \"token_recode\" in args_dict:\n",
    "        result['token_recode'] = args_dict['token_recode']\n",
    "    else:\n",
    "        result['token_recode'] = 'null'\n",
    "    if \"label\" in args_dict:\n",
    "        result['label'] = args_dict['label']\n",
    "    else:\n",
    "        result['label'] = 'null'\n",
    "    result['silver_data'] =  args_dict.get('silver_data','null') \n",
    "    result['pretrain'] =  args_dict.get('pretrain_model','null') \n",
    "    # result['save_dir'] =  args_dict.get('model_save_dir','null') \n",
    "    epoch = json_dict['args']['train_epoch']\n",
    "    if epoch < 3:\n",
    "        continue\n",
    "\n",
    "\n",
    "    #print(label, epoch )\n",
    "    need_keys = ['CountryBordersCountry','CountryHasOfficialLanguage',\n",
    "                 'CountryHasStates',\"StateBordersState\",'Average']\n",
    "    metric = json_dict['metric']\n",
    "  \n",
    "    result['epoch'] = epoch\n",
    "    #print(result.keys())\n",
    "    for k in need_keys:\n",
    "        result[k] = metric[k]['best_f1']\n",
    "    if result['Average'] < 0.3:\n",
    "        continue\n",
    "    result_list.append(result)\n",
    "    \n",
    "scores_per_relation_pd = pd.DataFrame(result_list)\n",
    "print(scores_per_relation_pd.round(3).to_string(max_cols=12))\n",
    "#print(scores_per_relation_pd.transpose().round(2).to_string(max_cols=12))\n"
   ]
  },
  {
   "cell_type": "code",
   "execution_count": 2,
   "id": "c400ee63-f70d-4cb7-8655-4dce3886e39c",
   "metadata": {},
   "outputs": [
    {
     "name": "stdout",
     "output_type": "stream",
     "text": [
      "cwd /home/yd/project/LMKBC-2023\n",
      "   token_recode            label  epoch  Average\n",
      "0         False             null   20.0    0.287\n",
      "1         False             null   20.0    0.340\n",
      "2         False             null   20.0    0.340\n",
      "3         False             null   20.0    0.340\n",
      "4          True             null   20.0    0.341\n",
      "5          True             null   20.0    0.341\n",
      "6          True             null   20.0    0.284\n",
      "7          True             null   20.0    0.278\n",
      "8          True  token_recode_fm   20.0    0.246\n",
      "9         False         baseline   20.0    0.300\n"
     ]
    }
   ],
   "source": [
    "import os\n",
    "import json \n",
    "import sys\n",
    "print('cwd', os.getcwd())\n",
    "import pandas as pd\n",
    "sys.path.append('src')\n",
    "import src.util\n",
    "\n",
    "\n",
    "result_fp = 'res/results.jsonl'\n",
    "sentence_list =  open(result_fp).readlines()[-10:]\n",
    "json_list = [json.loads(s) for s in sentence_list]\n",
    "result_list=[]\n",
    "for json_dict in json_list:\n",
    "    args_dict = json_dict['args']\n",
    "    result = dict()\n",
    "\n",
    "    result['token_recode'] = args_dict.get('token_recode', 'null')\n",
    "    result['label'] = args_dict.get('label','null')\n",
    "\n",
    "    # result['save_dir'] =  args_dict.get('model_save_dir','null') \n",
    "    epoch = json_dict['args']['train_epoch']\n",
    "    if epoch < 3:\n",
    "        continue\n",
    "\n",
    "\n",
    "    #print(label, epoch )\n",
    "    need_keys = ['Average']\n",
    "    metric = json_dict['metric']\n",
    "  \n",
    "    result['epoch'] = epoch\n",
    "    #print(result.keys())\n",
    "    for k in need_keys:\n",
    "        result[k] = metric[k]['best_f1']\n",
    "    if result['Average'] < 0.2:\n",
    "        continue\n",
    "    result_list.append(result)\n",
    "    \n",
    "scores_per_relation_pd = pd.DataFrame(result_list)\n",
    "print(scores_per_relation_pd.round(3).to_string(max_cols=12))\n",
    "#print(scores_per_relation_pd.transpose().round(2).to_string(max_cols=12))\n"
   ]
  },
  {
   "cell_type": "code",
   "execution_count": null,
   "id": "75b393df-8a48-4951-ab1f-13a92d1a3cc6",
   "metadata": {},
   "outputs": [],
   "source": []
  },
  {
   "cell_type": "code",
   "execution_count": null,
   "id": "b5a14aec-9f06-48f5-845c-654c82dc7cff",
   "metadata": {},
   "outputs": [],
   "source": []
  }
 ],
 "metadata": {
  "kernelspec": {
   "display_name": "Python 3 (ipykernel)",
   "language": "python",
   "name": "python3"
  },
  "language_info": {
   "codemirror_mode": {
    "name": "ipython",
    "version": 3
   },
   "file_extension": ".py",
   "mimetype": "text/x-python",
   "name": "python",
   "nbconvert_exporter": "python",
   "pygments_lexer": "ipython3",
   "version": "3.11.3"
  }
 },
 "nbformat": 4,
 "nbformat_minor": 5
}
