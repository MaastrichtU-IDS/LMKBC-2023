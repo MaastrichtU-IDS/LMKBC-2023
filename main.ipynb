{
 "cells": [
  {
   "cell_type": "code",
   "execution_count": null,
   "id": "0746b7f1-e66a-41d9-bbce-d60c2551cf3c",
   "metadata": {
    "tags": []
   },
   "outputs": [],
   "source": [
    "\n",
    "!git clone https://github.com/MaastrichtU-IDS/LMKBC-2023.git"
   ]
  },
  {
   "cell_type": "code",
   "execution_count": 17,
   "id": "5d05e67e-39f7-470c-8c1e-19775707b2db",
   "metadata": {
    "tags": []
   },
   "outputs": [
    {
     "name": "stdout",
     "output_type": "stream",
     "text": [
      "HEAD is now at add7cc1 adaptive threshold\n",
      "Updating add7cc1..c6affbf\n",
      "Fast-forward\n",
      " .gitignore                                 |      3 \u001b[32m+\u001b[m\u001b[31m-\u001b[m\n",
      " output/filled-mask-valid.jsonl             |   3880 \u001b[32m+\u001b[m\u001b[31m-\u001b[m\n",
      " output/filled-mask/filled-mask-valid.jsonl |   3880 \u001b[32m+\u001b[m\u001b[31m-\u001b[m\n",
      " res/results.jsonl                          |      2 \u001b[32m+\u001b[m\u001b[31m-\u001b[m\n",
      " res/token_mapping.json                     |  33119 \u001b[32m+++++\u001b[m\n",
      " res/tokenizer/bert/added_tokens.json       |  19154 \u001b[32m++\u001b[m\u001b[31m-\u001b[m\n",
      " res/tokenizer/bert/tokenizer.json          |  61586 \u001b[32m++++++++\u001b[m\u001b[31m-\u001b[m\n",
      " res/wikidata/origin/dataset_dict.json      |      1 \u001b[32m+\u001b[m\n",
      " res/wikidata/shrink/dataset_dict.json      |      1 \u001b[32m+\u001b[m\n",
      " res/wikidata/shrink_0/dataset_dict.json    |      1 \u001b[32m+\u001b[m\n",
      " res/wikidata/shrink_1/dataset_dict.json    |      1 \u001b[32m+\u001b[m\n",
      " res/word_frequency.json                    | 177436 \u001b[32m++++++++++++++++++++++++++\u001b[m\n",
      " src/config.py                              |      1 \u001b[32m+\u001b[m\n",
      " src/fm_model.py                            |    328 \u001b[32m+\u001b[m\u001b[31m-\u001b[m\n",
      " src/fm_run.py                              |      6 \u001b[32m+\u001b[m\u001b[31m-\u001b[m\n",
      " src/pre_model.py                           |     99 \u001b[32m+\u001b[m\u001b[31m-\u001b[m\n",
      " src/pre_run.py                             |      5 \u001b[32m+\u001b[m\u001b[31m-\u001b[m\n",
      " src/run.py                                 |      4 \u001b[32m+\u001b[m\u001b[31m-\u001b[m\n",
      " src/script/additional_corpus.py            |    264 \u001b[32m+\u001b[m\u001b[31m-\u001b[m\n",
      " src/script/additional_data.py              |    501 \u001b[32m+\u001b[m\u001b[31m-\u001b[m\n",
      " src/script/corpus.sh                       |     12 \u001b[32m+\u001b[m\u001b[31m-\u001b[m\n",
      " src/tr_model.py                            |     19 \u001b[32m+\u001b[m\u001b[31m-\u001b[m\n",
      " src/util.py                                |      5 \u001b[32m+\u001b[m\n",
      " test/test_pipeline.py                      |      8 \u001b[32m+\u001b[m\n",
      " test/test_topk.py                          |     21 \u001b[32m+\u001b[m\u001b[31m-\u001b[m\n",
      " 25 files changed, 282513 insertions(+), 17824 deletions(-)\n",
      " create mode 100644 res/token_mapping.json\n",
      " create mode 100644 res/wikidata/origin/dataset_dict.json\n",
      " create mode 100644 res/wikidata/shrink/dataset_dict.json\n",
      " create mode 100644 res/wikidata/shrink_0/dataset_dict.json\n",
      " create mode 100644 res/wikidata/shrink_1/dataset_dict.json\n",
      " create mode 100644 res/word_frequency.json\n",
      " create mode 100644 test/test_pipeline.py\n"
     ]
    }
   ],
   "source": [
    "!git reset --hard\n",
    "!git pull "
   ]
  },
  {
   "cell_type": "code",
   "execution_count": 16,
   "id": "af57b4b5-23dc-4a1d-ae8b-0905652f2b37",
   "metadata": {
    "tags": []
   },
   "outputs": [
    {
     "name": "stdout",
     "output_type": "stream",
     "text": [
      "remote: Enumerating objects: 42, done.\u001b[K\n",
      "remote: Counting objects: 100% (42/42), done.\u001b[K\n",
      "remote: Compressing objects: 100% (18/18), done.\u001b[K\n",
      "remote: Total 42 (delta 21), reused 42 (delta 21), pack-reused 0\u001b[K\n",
      "Unpacking objects: 100% (42/42), 1.86 MiB | 1.38 MiB/s, done.\n",
      "From https://github.com/MaastrichtU-IDS/LMKBC-2023\n",
      "   add7cc1..c6affbf  main       -> origin/main\n",
      "Updating add7cc1..c6affbf\n",
      "error: Your local changes to the following files would be overwritten by merge:\n",
      "\toutput/filled-mask-valid.jsonl\n",
      "\tres/results.jsonl\n",
      "\tsrc/fm_model.py\n",
      "\tsrc/run.py\n",
      "Please commit your changes or stash them before you merge.\n",
      "Aborting\n"
     ]
    }
   ],
   "source": [
    "!git pull"
   ]
  },
  {
   "cell_type": "code",
   "execution_count": null,
   "id": "3ef8c3b6-c9dc-495e-b844-fc353dadbaf3",
   "metadata": {
    "tags": []
   },
   "outputs": [],
   "source": [
    "import os\n",
    "os.chdir('LMKBC-2023/')"
   ]
  },
  {
   "cell_type": "code",
   "execution_count": 2,
   "id": "d5a2ecd7-70ce-45b1-9250-8b3375b928f6",
   "metadata": {
    "tags": []
   },
   "outputs": [
    {
     "name": "stdout",
     "output_type": "stream",
     "text": [
      "Looking in indexes: https://pypi.org/simple, https://pypi.ngc.nvidia.com\n",
      "Collecting accelerate\n",
      "  Downloading accelerate-0.21.0-py3-none-any.whl (244 kB)\n",
      "\u001b[2K     \u001b[90m━━━━━━━━━━━━━━━━━━━━━━━━━━━━━━━━━━━━━━\u001b[0m \u001b[32m244.2/244.2 kB\u001b[0m \u001b[31m15.9 MB/s\u001b[0m eta \u001b[36m0:00:00\u001b[0m\n",
      "\u001b[?25hRequirement already satisfied: packaging>=20.0 in /usr/local/lib/python3.8/dist-packages (from accelerate) (23.0)\n",
      "Requirement already satisfied: psutil in /usr/local/lib/python3.8/dist-packages (from accelerate) (5.9.4)\n",
      "Requirement already satisfied: torch>=1.10.0 in /usr/local/lib/python3.8/dist-packages (from accelerate) (2.0.0a0+1767026)\n",
      "Requirement already satisfied: pyyaml in /usr/local/lib/python3.8/dist-packages (from accelerate) (6.0)\n",
      "Requirement already satisfied: numpy>=1.17 in /usr/local/lib/python3.8/dist-packages (from accelerate) (1.22.2)\n",
      "Requirement already satisfied: filelock in /usr/local/lib/python3.8/dist-packages (from torch>=1.10.0->accelerate) (3.10.0)\n",
      "Requirement already satisfied: typing_extensions in /usr/local/lib/python3.8/dist-packages (from torch>=1.10.0->accelerate) (4.5.0)\n",
      "Requirement already satisfied: sympy in /usr/local/lib/python3.8/dist-packages (from torch>=1.10.0->accelerate) (1.11.1)\n",
      "Requirement already satisfied: networkx in /usr/local/lib/python3.8/dist-packages (from torch>=1.10.0->accelerate) (2.6.3)\n",
      "Requirement already satisfied: mpmath>=0.19 in /usr/local/lib/python3.8/dist-packages (from sympy->torch>=1.10.0->accelerate) (1.3.0)\n",
      "Installing collected packages: accelerate\n",
      "Successfully installed accelerate-0.21.0\n",
      "\u001b[33mWARNING: Running pip as the 'root' user can result in broken permissions and conflicting behaviour with the system package manager. It is recommended to use a virtual environment instead: https://pip.pypa.io/warnings/venv\u001b[0m\u001b[33m\n",
      "\u001b[0m\n",
      "\u001b[1m[\u001b[0m\u001b[34;49mnotice\u001b[0m\u001b[1;39;49m]\u001b[0m\u001b[39;49m A new release of pip is available: \u001b[0m\u001b[31;49m23.0.1\u001b[0m\u001b[39;49m -> \u001b[0m\u001b[32;49m23.2.1\u001b[0m\n",
      "\u001b[1m[\u001b[0m\u001b[34;49mnotice\u001b[0m\u001b[1;39;49m]\u001b[0m\u001b[39;49m To update, run: \u001b[0m\u001b[32;49mpython -m pip install --upgrade pip\u001b[0m\n",
      "Looking in indexes: https://pypi.org/simple, https://pypi.ngc.nvidia.com\n",
      "Collecting transformers\n",
      "  Downloading transformers-4.31.0-py3-none-any.whl (7.4 MB)\n",
      "\u001b[2K     \u001b[90m━━━━━━━━━━━━━━━━━━━━━━━━━━━━━━━━━━━━━━━━\u001b[0m \u001b[32m7.4/7.4 MB\u001b[0m \u001b[31m99.3 MB/s\u001b[0m eta \u001b[36m0:00:00\u001b[0ma \u001b[36m0:00:01\u001b[0m\n",
      "\u001b[?25hCollecting tokenizers!=0.11.3,<0.14,>=0.11.1\n",
      "  Downloading tokenizers-0.13.3-cp38-cp38-manylinux_2_17_x86_64.manylinux2014_x86_64.whl (7.8 MB)\n",
      "\u001b[2K     \u001b[90m━━━━━━━━━━━━━━━━━━━━━━━━━━━━━━━━━━━━━━━━\u001b[0m \u001b[32m7.8/7.8 MB\u001b[0m \u001b[31m124.5 MB/s\u001b[0m eta \u001b[36m0:00:00\u001b[0ma \u001b[36m0:00:01\u001b[0m\n",
      "\u001b[?25hRequirement already satisfied: filelock in /usr/local/lib/python3.8/dist-packages (from transformers) (3.10.0)\n",
      "Collecting safetensors>=0.3.1\n",
      "  Downloading safetensors-0.3.1-cp38-cp38-manylinux_2_17_x86_64.manylinux2014_x86_64.whl (1.3 MB)\n",
      "\u001b[2K     \u001b[90m━━━━━━━━━━━━━━━━━━━━━━━━━━━━━━━━━━━━━━━━\u001b[0m \u001b[32m1.3/1.3 MB\u001b[0m \u001b[31m183.3 MB/s\u001b[0m eta \u001b[36m0:00:00\u001b[0m\n",
      "\u001b[?25hRequirement already satisfied: pyyaml>=5.1 in /usr/local/lib/python3.8/dist-packages (from transformers) (6.0)\n",
      "Requirement already satisfied: numpy>=1.17 in /usr/local/lib/python3.8/dist-packages (from transformers) (1.22.2)\n",
      "Requirement already satisfied: packaging>=20.0 in /usr/local/lib/python3.8/dist-packages (from transformers) (23.0)\n",
      "Requirement already satisfied: regex!=2019.12.17 in /usr/local/lib/python3.8/dist-packages (from transformers) (2022.10.31)\n",
      "Collecting huggingface-hub<1.0,>=0.14.1\n",
      "  Downloading huggingface_hub-0.16.4-py3-none-any.whl (268 kB)\n",
      "\u001b[2K     \u001b[90m━━━━━━━━━━━━━━━━━━━━━━━━━━━━━━━━━━━━━\u001b[0m \u001b[32m268.8/268.8 kB\u001b[0m \u001b[31m246.8 MB/s\u001b[0m eta \u001b[36m0:00:00\u001b[0m\n",
      "\u001b[?25hRequirement already satisfied: tqdm>=4.27 in /usr/local/lib/python3.8/dist-packages (from transformers) (4.65.0)\n",
      "Requirement already satisfied: requests in /usr/local/lib/python3.8/dist-packages (from transformers) (2.28.2)\n",
      "Requirement already satisfied: fsspec in /usr/local/lib/python3.8/dist-packages (from huggingface-hub<1.0,>=0.14.1->transformers) (2023.1.0)\n",
      "Requirement already satisfied: typing-extensions>=3.7.4.3 in /usr/local/lib/python3.8/dist-packages (from huggingface-hub<1.0,>=0.14.1->transformers) (4.5.0)\n",
      "Requirement already satisfied: certifi>=2017.4.17 in /usr/local/lib/python3.8/dist-packages (from requests->transformers) (2022.12.7)\n",
      "Requirement already satisfied: idna<4,>=2.5 in /usr/local/lib/python3.8/dist-packages (from requests->transformers) (3.4)\n",
      "Requirement already satisfied: urllib3<1.27,>=1.21.1 in /usr/local/lib/python3.8/dist-packages (from requests->transformers) (1.26.14)\n",
      "Requirement already satisfied: charset-normalizer<4,>=2 in /usr/local/lib/python3.8/dist-packages (from requests->transformers) (3.1.0)\n",
      "Installing collected packages: tokenizers, safetensors, huggingface-hub, transformers\n",
      "Successfully installed huggingface-hub-0.16.4 safetensors-0.3.1 tokenizers-0.13.3 transformers-4.31.0\n",
      "\u001b[33mWARNING: Running pip as the 'root' user can result in broken permissions and conflicting behaviour with the system package manager. It is recommended to use a virtual environment instead: https://pip.pypa.io/warnings/venv\u001b[0m\u001b[33m\n",
      "\u001b[0m\n",
      "\u001b[1m[\u001b[0m\u001b[34;49mnotice\u001b[0m\u001b[1;39;49m]\u001b[0m\u001b[39;49m A new release of pip is available: \u001b[0m\u001b[31;49m23.0.1\u001b[0m\u001b[39;49m -> \u001b[0m\u001b[32;49m23.2.1\u001b[0m\n",
      "\u001b[1m[\u001b[0m\u001b[34;49mnotice\u001b[0m\u001b[1;39;49m]\u001b[0m\u001b[39;49m To update, run: \u001b[0m\u001b[32;49mpython -m pip install --upgrade pip\u001b[0m\n"
     ]
    }
   ],
   "source": [
    "!pip install accelerate -U\n",
    "!pip install transformers"
   ]
  },
  {
   "cell_type": "code",
   "execution_count": 1,
   "id": "b789a5e4-ab2b-4301-8b79-a9cb11eb659c",
   "metadata": {
    "scrolled": true,
    "tags": []
   },
   "outputs": [
    {
     "name": "stdout",
     "output_type": "stream",
     "text": [
      "\n",
      "    \n",
      "   python /workspace/persistent/LMKBC-2023/src/fm_model.py  --test_fn /workspace/persistent/LMKBC-2023/data/val.jsonl --template_fn res/prompts0.csv  --output_fn /workspace/persistent/LMKBC-2023/output/filled-mask-valid.jsonl --train_fn /workspace/persistent/LMKBC-2023/data/train.jsonl --train_batch_size 256 --gpu 0  --top_k 30 --threshold 0.1  --dev_fn  /workspace/persistent/LMKBC-2023/data/train_tiny.jsonl --mode \"train test\" --train_epoch 50 --learning_rate 5e-5 --model_load_dir bert-large-cased --model_save_dir /workspace/persistent/LMKBC-2023/bin/train_full/fill_mask/bert-large-cased --model_best_dir  /workspace/persistent/LMKBC-2023/bin/train_full/fill_mask/bert-large-cased/best_ckpt\n",
      "    \n",
      "    \n",
      "Traceback (most recent call last):\n",
      "  File \"/workspace/persistent/LMKBC-2023/src/fm_model.py\", line 11, in <module>\n",
      "    import transformers\n",
      "ModuleNotFoundError: No module named 'transformers'\n"
     ]
    }
   ],
   "source": [
    "!python src/run.py --mode \"train_fm\"\n",
    "\n"
   ]
  },
  {
   "cell_type": "code",
   "execution_count": null,
   "id": "6f414398-b041-4bfc-8769-eafe32f05aba",
   "metadata": {
    "tags": []
   },
   "outputs": [],
   "source": [
    "import torch\n",
    "\n",
    "print(torch.cuda.is_available())"
   ]
  },
  {
   "cell_type": "code",
   "execution_count": null,
   "id": "11db8616-7f1c-46aa-8fad-8aaf98a3c643",
   "metadata": {
    "tags": []
   },
   "outputs": [],
   "source": []
  },
  {
   "cell_type": "code",
   "execution_count": null,
   "id": "37ddf76e-10a3-439a-91a8-a941c44250e2",
   "metadata": {},
   "outputs": [],
   "source": [
    "!git add . \n",
    "!git commit -m 'from server' \n"
   ]
  },
  {
   "cell_type": "code",
   "execution_count": 21,
   "id": "a13d1898-9f78-4dc1-9e22-13209c33ec48",
   "metadata": {
    "tags": []
   },
   "outputs": [
    {
     "name": "stdout",
     "output_type": "stream",
     "text": [
      "zsh:1: /workspace/persistent/LMKBC-2023/bin/train_full/fill_mask/bert-large-cased/best_ckpt not found\n",
      "GPU  True\n",
      "07/30/2023 22:47:13 - INFO - __main__ -  Running the model...\n",
      "07/30/2023 22:48:02 - INFO - __main__ -  End the model...\n",
      "100%|████████████████████████████████████| 1940/1940 [00:00<00:00, 57284.71it/s]\n",
      "07/30/2023 22:48:02 - INFO - __main__ -  Saving the results to \"/workspace/persistent/LMKBC-2023/output/filled-mask-valid.jsonl\"...\n",
      "07/30/2023 22:48:02 - INFO - __main__ -  Start Evaluate ...\n",
      "                                  p      r     f1\n",
      "BandHasMember                 0.046  0.291  0.077\n",
      "CityLocatedAtRiver            0.020  0.440  0.037\n",
      "CompanyHasParentOrganisation  0.023  0.678  0.045\n",
      "CompoundHasParts              0.102  0.952  0.183\n",
      "CountryBordersCountry         0.109  0.803  0.187\n",
      "CountryHasOfficialLanguage    0.048  0.909  0.089\n",
      "CountryHasStates              0.198  0.504  0.275\n",
      "FootballerPlaysPosition       0.037  0.990  0.071\n",
      "PersonCauseOfDeath            0.027  0.783  0.052\n",
      "PersonHasAutobiography        0.013  0.352  0.025\n",
      "PersonHasEmployer             0.010  0.172  0.019\n",
      "PersonHasNoblePrize           0.034  0.990  0.065\n",
      "PersonHasNumberOfChildren     0.034  0.990  0.065\n",
      "PersonHasPlaceOfDeath         0.018  0.525  0.034\n",
      "PersonHasProfession           0.031  0.402  0.055\n",
      "PersonHasSpouse               0.002  0.060  0.004\n",
      "PersonPlaysInstrument         0.062  0.949  0.114\n",
      "PersonSpeaksLanguage          0.048  0.880  0.090\n",
      "RiverBasinsCountry            0.037  0.798  0.070\n",
      "SeriesHasNumberOfEpisodes     0.031  0.930  0.060\n",
      "StateBordersState             0.030  0.207  0.051\n",
      "Average                       0.046  0.648  0.079\n",
      "                                  p      r     f1\n",
      "BandHasMember                 0.046  0.291  0.077\n",
      "CityLocatedAtRiver            0.020  0.440  0.037\n",
      "CompanyHasParentOrganisation  0.023  0.678  0.045\n",
      "CompoundHasParts              0.102  0.952  0.183\n",
      "CountryBordersCountry         0.109  0.803  0.187\n",
      "CountryHasOfficialLanguage    0.048  0.909  0.089\n",
      "CountryHasStates              0.198  0.504  0.275\n",
      "FootballerPlaysPosition       0.037  0.990  0.071\n",
      "PersonCauseOfDeath            0.027  0.783  0.052\n",
      "PersonHasAutobiography        0.013  0.352  0.025\n",
      "PersonHasEmployer             0.010  0.172  0.019\n",
      "PersonHasNoblePrize           0.034  0.990  0.065\n",
      "PersonHasNumberOfChildren     0.034  0.990  0.065\n",
      "PersonHasPlaceOfDeath         0.018  0.525  0.034\n",
      "PersonHasProfession           0.031  0.402  0.055\n",
      "PersonHasSpouse               0.002  0.060  0.004\n",
      "PersonPlaysInstrument         0.062  0.949  0.114\n",
      "PersonSpeaksLanguage          0.048  0.880  0.090\n",
      "RiverBasinsCountry            0.037  0.798  0.070\n",
      "SeriesHasNumberOfEpisodes     0.031  0.930  0.060\n",
      "StateBordersState             0.030  0.207  0.051\n",
      "Average                       0.046  0.648  0.079\n",
      "100%|███████████████████████████████████████████| 21/21 [00:00<00:00, 32.87it/s]\n",
      "                                 p     r    f1  best_threshold  best_f1\n",
      "BandHasMember                 0.05  0.29  0.08            0.02     0.17\n",
      "CityLocatedAtRiver            0.02  0.44  0.04            0.08     0.18\n",
      "CompanyHasParentOrganisation  0.02  0.68  0.04            0.11     0.46\n",
      "CompoundHasParts              0.10  0.95  0.18            0.05     0.72\n",
      "CountryBordersCountry         0.11  0.80  0.19            0.03     0.36\n",
      "CountryHasOfficialLanguage    0.05  0.91  0.09            0.07     0.56\n",
      "CountryHasStates              0.20  0.50  0.27            0.01     0.33\n",
      "FootballerPlaysPosition       0.04  0.99  0.07            0.02     0.29\n",
      "PersonCauseOfDeath            0.03  0.78  0.05            0.13     0.65\n",
      "PersonHasAutobiography        0.01  0.35  0.02            0.05     0.16\n",
      "PersonHasEmployer             0.01  0.17  0.02            0.04     0.05\n",
      "PersonHasNoblePrize           0.03  0.99  0.07            0.13     0.56\n",
      "PersonHasNumberOfChildren     0.03  0.99  0.07            0.03     0.32\n",
      "PersonHasPlaceOfDeath         0.02  0.53  0.03            0.18     0.32\n",
      "PersonHasProfession           0.03  0.40  0.05            0.02     0.10\n",
      "PersonHasSpouse               0.00  0.06  0.00            0.07     0.02\n",
      "PersonPlaysInstrument         0.06  0.95  0.11            0.13     0.54\n",
      "PersonSpeaksLanguage          0.05  0.88  0.09            0.14     0.35\n",
      "RiverBasinsCountry            0.04  0.80  0.07            0.09     0.20\n",
      "SeriesHasNumberOfEpisodes     0.03  0.93  0.06            0.14     0.14\n",
      "StateBordersState             0.03  0.21  0.05            0.01     0.07\n",
      "Average                       0.05  0.65  0.08             NaN     0.31\n"
     ]
    }
   ],
   "source": [
    "#!model_load_dir = '/workspace/persistent/LMKBC-2023/bin/pretrain_fill_mask/bert-large-cased/best_ckpt'\n",
    "!model_load_dir ='/workspace/persistent/LMKBC-2023/bin/train_full/fill_mask/bert-large-cased/best_ckpt'\n",
    "\n",
    "!python  /workspace/persistent/LMKBC-2023/src/fm_model.py  --test_fn /workspace/persistent/LMKBC-2023/data/val.jsonl --template_fn res/prompts0.csv   --output_fn /workspace/persistent/LMKBC-2023/output/filled-mask-valid.jsonl --train_fn /workspace/persistent/LMKBC-2023/data/train.jsonl          --train_batch_size 256 --gpu 0  --top_k 30 --threshold 0.1  --dev_fn  /workspace/persistent/LMKBC-2023/data/train_tiny.jsonl         --mode \"tr ain test\"  --train_epoch 50 --learning_rate 5e-5         --model_load_dir   $model_load_dir         --model_save_dir  /workspace/persistent/LMKBC-2023/bin/train_full/fill_mask/bert-large-cased        --model_best_dir  /workspace/persistent/LMKBC-2023/bin/train_full/fill_mask/bert-large-cased/best_ckpt "
   ]
  },
  {
   "cell_type": "code",
   "execution_count": null,
   "id": "e2ea36e8-e98c-42a0-b841-b8a8607508e2",
   "metadata": {},
   "outputs": [],
   "source": [
    "   python {config.SRC_DIR}/fm_model.py  --test_fn {test_fn} --template_fn res/prompts0.csv  --output_fn {OUTPUT_FILE} --train_fn {config.DATA_DIR}/train.jsonl --train_batch_size 64 --gpu {args.gpu}  --top_k 30 --threshold 0.1  --dev_fn  {config.DATA_DIR}/train_tiny.jsonl --mode \"train test\" --train_epoch 50 --learning_rate 5e-5 --model_load_dir {last_best_dir} --model_save_dir {fm_model_save_dir} --model_best_dir  {fm_model_best_dir}"
   ]
  },
  {
   "cell_type": "code",
   "execution_count": null,
   "id": "08120826-d088-46da-97d2-507bd58c7d5e",
   "metadata": {},
   "outputs": [],
   "source": []
  },
  {
   "cell_type": "code",
   "execution_count": null,
   "id": "cc52855d-3ed9-4bc9-b4f6-0137d6fe5053",
   "metadata": {},
   "outputs": [],
   "source": []
  }
 ],
 "metadata": {
  "kernelspec": {
   "display_name": "Python 3 (ipykernel)",
   "language": "python",
   "name": "python3"
  },
  "language_info": {
   "codemirror_mode": {
    "name": "ipython",
    "version": 3
   },
   "file_extension": ".py",
   "mimetype": "text/x-python",
   "name": "python",
   "nbconvert_exporter": "python",
   "pygments_lexer": "ipython3",
   "version": "3.8.10"
  }
 },
 "nbformat": 4,
 "nbformat_minor": 5
}
