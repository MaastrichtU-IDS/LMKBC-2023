{
 "cells": [
  {
   "cell_type": "code",
   "execution_count": null,
   "id": "0746b7f1-e66a-41d9-bbce-d60c2551cf3c",
   "metadata": {
    "tags": []
   },
   "outputs": [],
   "source": [
    "\n",
    "!git clone https://github.com/MaastrichtU-IDS/LMKBC-2023.git"
   ]
  },
  {
   "cell_type": "code",
   "execution_count": null,
   "id": "5d05e67e-39f7-470c-8c1e-19775707b2db",
   "metadata": {
    "tags": []
   },
   "outputs": [],
   "source": [
    "!git reset --hard\n",
    "!git pull -f https://github.com/MaastrichtU-IDS/LMKBC-2023.git"
   ]
  },
  {
   "cell_type": "code",
   "execution_count": null,
   "id": "3ef8c3b6-c9dc-495e-b844-fc353dadbaf3",
   "metadata": {
    "tags": []
   },
   "outputs": [],
   "source": [
    "import os\n",
    "os.chdir('LMKBC-2023/')"
   ]
  },
  {
   "cell_type": "code",
   "execution_count": null,
   "id": "d5a2ecd7-70ce-45b1-9250-8b3375b928f6",
   "metadata": {
    "tags": []
   },
   "outputs": [],
   "source": [
    "!pip install accelerate -U\n",
    "#!pip install transformers"
   ]
  },
  {
   "cell_type": "code",
   "execution_count": null,
   "id": "b789a5e4-ab2b-4301-8b79-a9cb11eb659c",
   "metadata": {
    "scrolled": true,
    "tags": []
   },
   "outputs": [],
   "source": [
    "!python src/run.py\n"
   ]
  },
  {
   "cell_type": "code",
   "execution_count": null,
   "id": "6f414398-b041-4bfc-8769-eafe32f05aba",
   "metadata": {
    "tags": []
   },
   "outputs": [],
   "source": [
    "import torch\n",
    "\n",
    "print(torch.cuda.is_available())"
   ]
  },
  {
   "cell_type": "code",
   "execution_count": null,
   "id": "11db8616-7f1c-46aa-8fad-8aaf98a3c643",
   "metadata": {
    "tags": []
   },
   "outputs": [],
   "source": []
  },
  {
   "cell_type": "code",
   "execution_count": null,
   "id": "37ddf76e-10a3-439a-91a8-a941c44250e2",
   "metadata": {},
   "outputs": [],
   "source": [
    "dongyang-cs\n"
   ]
  }
 ],
 "metadata": {
  "kernelspec": {
   "display_name": "Python 3 (ipykernel)",
   "language": "python",
   "name": "python3"
  },
  "language_info": {
   "codemirror_mode": {
    "name": "ipython",
    "version": 3
   },
   "file_extension": ".py",
   "mimetype": "text/x-python",
   "name": "python",
   "nbconvert_exporter": "python",
   "pygments_lexer": "ipython3",
   "version": "3.8.10"
  }
 },
 "nbformat": 4,
 "nbformat_minor": 5
}
