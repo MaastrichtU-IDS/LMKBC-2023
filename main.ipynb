{
 "cells": [
  {
   "cell_type": "code",
   "execution_count": null,
   "id": "0746b7f1-e66a-41d9-bbce-d60c2551cf3c",
   "metadata": {
    "tags": []
   },
   "outputs": [],
   "source": [
    "\n",
    "!git clone https://github.com/MaastrichtU-IDS/LMKBC-2023.git"
   ]
  },
  {
   "cell_type": "code",
   "execution_count": null,
   "id": "5d05e67e-39f7-470c-8c1e-19775707b2db",
   "metadata": {
    "tags": []
   },
   "outputs": [],
   "source": [
    "!git reset --hard\n",
    "!git pull "
   ]
  },
  {
   "cell_type": "code",
   "execution_count": null,
   "id": "af57b4b5-23dc-4a1d-ae8b-0905652f2b37",
   "metadata": {
    "tags": []
   },
   "outputs": [],
   "source": [
    "!pip3 uninstall torch torchvision torchaudio\n",
    "!pip uninstall transformers\n",
    "!pip uninstall accelerate -U\n"
   ]
  },
  {
   "cell_type": "code",
   "execution_count": null,
   "id": "3ef8c3b6-c9dc-495e-b844-fc353dadbaf3",
   "metadata": {
    "tags": []
   },
   "outputs": [],
   "source": [
    "import os\n",
    "os.chdir('LMKBC-2023/')"
   ]
  },
  {
   "cell_type": "code",
   "execution_count": null,
   "id": "d5a2ecd7-70ce-45b1-9250-8b3375b928f6",
   "metadata": {
    "tags": []
   },
   "outputs": [],
   "source": [
    "!pip install transformers\n",
    "!pip install accelerate -U\n"
   ]
  },
  {
   "cell_type": "code",
   "execution_count": null,
   "id": "b789a5e4-ab2b-4301-8b79-a9cb11eb659c",
   "metadata": {
    "scrolled": true,
    "tags": []
   },
   "outputs": [],
   "source": [
    "!python src/run.py --mode \"train_fm\"\n",
    "\n"
   ]
  },
  {
   "cell_type": "code",
   "execution_count": null,
   "id": "6f414398-b041-4bfc-8769-eafe32f05aba",
   "metadata": {
    "tags": []
   },
   "outputs": [],
   "source": [
    "import torch\n",
    "print(torch.cuda.is_available())"
   ]
  },
  {
   "cell_type": "code",
   "execution_count": null,
   "id": "11db8616-7f1c-46aa-8fad-8aaf98a3c643",
   "metadata": {
    "tags": []
   },
   "outputs": [],
   "source": []
  },
  {
   "cell_type": "code",
   "execution_count": null,
   "id": "37ddf76e-10a3-439a-91a8-a941c44250e2",
   "metadata": {
    "tags": []
   },
   "outputs": [],
   "source": [
    "!git add . \n",
    "!git commit -m 'from server' \n",
    "!git push\n"
   ]
  },
  {
   "cell_type": "code",
   "execution_count": null,
   "id": "a13d1898-9f78-4dc1-9e22-13209c33ec48",
   "metadata": {
    "tags": []
   },
   "outputs": [],
   "source": [
    "#!model_load_dir = '/workspace/persistent/LMKBC-2023/bin/pretrain_fill_mask/bert-large-cased/best_ckpt'\n",
    "!model_load_dir ='/workspace/persistent/LMKBC-2023/bin/train_full/fill_mask/bert-large-cased/best_ckpt'\n",
    "\n",
    "!python  /workspace/persistent/LMKBC-2023/src/fm_model.py  --test_fn /workspace/persistent/LMKBC-2023/data/val.jsonl --template_fn res/prompts0.csv   --output_fn /workspace/persistent/LMKBC-2023/output/filled-mask-valid.jsonl --train_fn /workspace/persistent/LMKBC-2023/data/train.jsonl          --train_batch_size 256 --gpu 0  --top_k 30 --threshold 0.1  --dev_fn  /workspace/persistent/LMKBC-2023/data/train_tiny.jsonl         --mode \"tr ain test\"  --train_epoch 50 --learning_rate 5e-5         --model_load_dir   $model_load_dir         --model_save_dir  /workspace/persistent/LMKBC-2023/bin/train_full/fill_mask/bert-large-cased        --model_best_dir  /workspace/persistent/LMKBC-2023/bin/train_full/fill_mask/bert-large-cased/best_ckpt "
   ]
  },
  {
   "cell_type": "code",
   "execution_count": null,
   "id": "e2ea36e8-e98c-42a0-b841-b8a8607508e2",
   "metadata": {},
   "outputs": [],
   "source": [
    "   python {config.SRC_DIR}/fm_model.py  --test_fn {test_fn} --template_fn res/prompts0.csv  --output_fn {OUTPUT_FILE} --train_fn {config.DATA_DIR}/train.jsonl --train_batch_size 64 --gpu {args.gpu}  --top_k 30 --threshold 0.1  --dev_fn  {config.DATA_DIR}/train_tiny.jsonl --mode \"train test\" --train_epoch 50 --learning_rate 5e-5 --model_load_dir {last_best_dir} --model_save_dir {fm_model_save_dir} --model_best_dir  {fm_model_best_dir}"
   ]
  },
  {
   "cell_type": "code",
   "execution_count": null,
   "id": "cc52855d-3ed9-4bc9-b4f6-0137d6fe5053",
   "metadata": {
    "tags": []
   },
   "outputs": [],
   "source": [
    "!nvidia-smi"
   ]
  },
  {
   "cell_type": "code",
   "execution_count": null,
   "id": "9819f746-8cc5-40d9-938f-3e904f8de31d",
   "metadata": {
    "tags": []
   },
   "outputs": [],
   "source": [
    "!cat nohup.out "
   ]
  },
  {
   "cell_type": "code",
   "execution_count": null,
   "id": "d55d671e-5a61-4545-a2d1-0301cf75dfba",
   "metadata": {
    "tags": []
   },
   "outputs": [],
   "source": [
    "  !python /workspace/persistent/LMKBC-2023/src/fm_model.py  --test_fn /workspace/persistent/LMKBC-2023/data/val.jsonl --template_fn res/prompts0.csv  --output_fn /workspace/persistent/LMKBC-2023/output/filled-mask-valid.jsonl --train_fn /workspace/persistent/LMKBC-2023/data/train.jsonl --train_batch_size 64 --gpu 0  --top_k 30 --threshold 0.1  --dev_fn  /workspace/persistent/LMKBC-2023/data/train_tiny.jsonl --mode \"train test\" --train_epoch 50 --learning_rate 5e-5 --model_load_dir /workspace/persistent/LMKBC-2023/bin/default/pretrain_fill_mask/best_ckpt --model_save_dir /workspace/persistent/LMKBC-2023/bin/default/fill_mask --model_best_dir  /workspace/persistent/LMKBC-2023/bin/default/fill_mask/best_ckpt"
   ]
  },
  {
   "cell_type": "code",
   "execution_count": null,
   "id": "9e40fbf7-3ac7-4dd2-8bee-9f8ff174e447",
   "metadata": {},
   "outputs": [],
   "source": [
    "!tail -n 1000  nohup.out| grep loss"
   ]
  },
  {
   "cell_type": "code",
   "execution_count": 21,
   "id": "41572494-a81b-4017-9bb3-73bb12b18208",
   "metadata": {
    "tags": []
   },
   "outputs": [
    {
     "name": "stdout",
     "output_type": "stream",
     "text": [
      "cwd /workspace/project/LMKBC-2023\n",
      "   token_recode  epoch  CountryBordersCountry  CountryHasOfficialLanguage  CountryHasStates  StateBordersState  Average\n",
      "0          null    5.0                  0.270                       0.444             0.146              0.010    0.287\n",
      "1          null   50.0                  0.000                       0.000             0.000              0.000    0.000\n",
      "2          null   50.0                  0.357                       0.568             0.028              0.013    0.246\n",
      "3          null   50.0                  0.358                       0.585             0.022              0.012    0.248\n",
      "4          null   50.0                  0.380                       0.506             0.097              0.013    0.252\n",
      "5          null    5.0                  0.293                       0.460             0.251              0.020    0.300\n",
      "6          null    5.0                  0.293                       0.460             0.251              0.020    0.300\n",
      "7          null    5.0                  0.293                       0.460             0.251              0.020    0.300\n",
      "8          null    5.0                  0.293                       0.460             0.251              0.020    0.300\n",
      "9          null   50.0                  0.370                       0.587             0.007              0.017    0.247\n",
      "10         null   50.0                  0.365                       0.581             0.019              0.014    0.247\n",
      "11         null   30.0                  0.000                       0.000             0.000              0.000    0.000\n",
      "12         null   30.0                  0.000                       0.000             0.000              0.000    0.000\n",
      "13         null   30.0                  0.977                       0.987             0.968              0.957    0.916\n",
      "14         null   30.0                  0.360                       0.589             0.015              0.012    0.244\n",
      "15         null   50.0                  0.361                       0.559             0.330              0.070    0.312\n",
      "16         null   50.0                  0.361                       0.559             0.330              0.070    0.312\n",
      "17         null   50.0                  0.361                       0.559             0.330              0.070    0.312\n",
      "18         null   50.0                  0.267                       0.489             0.004              0.022    0.242\n",
      "19         null   50.0                  0.328                       0.595             0.109              0.052    0.282\n",
      "20        False   50.0                  0.390                       0.656             0.057              0.066    0.289\n",
      "21        False   50.0                  0.321                       0.576             0.086              0.066    0.287\n",
      "22        False   50.0                  0.350                       0.609             0.141              0.140    0.308\n",
      "23        False   50.0                  0.397                       0.670             0.091              0.113    0.284\n",
      "24        False   50.0                  0.379                       0.586             0.117              0.114    0.280\n",
      "25         null   50.0                  0.328                       0.595             0.109              0.052    0.282\n",
      "26        False   50.0                  0.391                       0.670             0.077              0.093    0.284\n",
      "27        False   50.0                  0.339                       0.550             0.013              0.034    0.261\n",
      "28        False   50.0                  0.180                       0.392             0.000              0.010    0.239\n",
      "29        False   30.0                  0.348                       0.563             0.008              0.015    0.250\n",
      "30        False   20.0                  0.366                       0.550             0.007              0.017    0.253\n",
      "31        False   10.0                  0.363                       0.566             0.000              0.006    0.282\n",
      "32        False    5.0                  0.342                       0.576             0.003              0.004    0.285\n",
      "33        False    3.0                  0.351                       0.553             0.003              0.002    0.282\n",
      "34        False    5.0                  0.345                       0.584             0.000              0.003    0.277\n",
      "35         True    5.0                  0.355                       0.599             0.054              0.009    0.293\n",
      "36         True    5.0                  0.355                       0.593             0.048              0.008    0.290\n",
      "37         True    5.0                  0.338                       0.544             0.184              0.096    0.281\n",
      "38         True    5.0                  0.446                       0.628             0.134              0.081    0.295\n",
      "39        False    5.0                  0.731                       0.788             0.064              0.004    0.360\n",
      "40        False    5.0                  0.792                       0.814             0.332              0.012    0.434\n",
      "41        False    5.0                  0.819                       0.832             0.532              0.013    0.456\n",
      "42        False    5.0                  0.153                       0.103             0.592              0.023    0.075\n",
      "43        False    5.0                  0.153                       0.103             0.592              0.023    0.075\n",
      "44        False    5.0                  0.153                       0.103             0.592              0.023    0.075\n",
      "45        False    5.0                  0.153                       0.103             0.592              0.023    0.075\n",
      "46        False    5.0                  0.313                       0.226             0.601              0.022    0.127\n",
      "47        False    5.0                  0.313                       0.226             0.601              0.022    0.127\n",
      "48        False    5.0                  0.313                       0.226             0.601              0.022    0.127\n",
      "49        False    5.0                  0.313                       0.226             0.601              0.022    0.127\n",
      "50        False    5.0                  0.313                       0.226             0.601              0.022    0.127\n",
      "51        False    5.0                  0.313                       0.226             0.601              0.022    0.127\n"
     ]
    }
   ],
   "source": [
    "import os\n",
    "import json \n",
    "import sys\n",
    "print('cwd', os.getcwd())\n",
    "import pandas as pd\n",
    "sys.path.append('src')\n",
    "import src.util\n",
    "\n",
    "\n",
    "result_fp = 'res/results.jsonl'\n",
    "sentence_list =  open(result_fp).readlines()\n",
    "json_list = [json.loads(s) for s in sentence_list]\n",
    "result_list=[]\n",
    "for json_dict in json_list:\n",
    "    args_dict = json_dict['args']\n",
    "    result = dict()\n",
    "    model_load_dir = json_dict['args']['model_load_dir']\n",
    "    if len(model_load_dir) < 20:\n",
    "        label = model_load_dir\n",
    "    else:\n",
    "        label = model_load_dir\n",
    "    if \"token_recode\" in args_dict:\n",
    "        result['token_recode'] = args_dict['token_recode']\n",
    "    else:\n",
    "        result['token_recode'] = 'null'\n",
    "    epoch = json_dict['args']['train_epoch']\n",
    "    if epoch < 3:\n",
    "        continue\n",
    "    #print(label, epoch )\n",
    "    need_keys = ['CountryBordersCountry','CountryHasOfficialLanguage',\n",
    "                 'CountryHasStates',\"StateBordersState\",'Average']\n",
    "    metric = json_dict['metric']\n",
    "  \n",
    "    result['epoch'] = epoch\n",
    "    #print(result.keys())\n",
    "    for k in need_keys:\n",
    "        result[k] = metric[k]['best_f1']\n",
    "    result_list.append(result)\n",
    "    \n",
    "scores_per_relation_pd = pd.DataFrame(result_list)\n",
    "print(scores_per_relation_pd.round(3).to_string(max_cols=12))\n",
    "#print(scores_per_relation_pd.transpose().round(2).to_string(max_cols=12))\n"
   ]
  },
  {
   "cell_type": "code",
   "execution_count": null,
   "id": "c400ee63-f70d-4cb7-8655-4dce3886e39c",
   "metadata": {},
   "outputs": [],
   "source": []
  },
  {
   "cell_type": "code",
   "execution_count": null,
   "id": "75b393df-8a48-4951-ab1f-13a92d1a3cc6",
   "metadata": {},
   "outputs": [],
   "source": []
  },
  {
   "cell_type": "code",
   "execution_count": null,
   "id": "b5a14aec-9f06-48f5-845c-654c82dc7cff",
   "metadata": {},
   "outputs": [],
   "source": []
  }
 ],
 "metadata": {
  "kernelspec": {
   "display_name": "Python 3 (ipykernel)",
   "language": "python",
   "name": "python3"
  },
  "language_info": {
   "codemirror_mode": {
    "name": "ipython",
    "version": 3
   },
   "file_extension": ".py",
   "mimetype": "text/x-python",
   "name": "python",
   "nbconvert_exporter": "python",
   "pygments_lexer": "ipython3",
   "version": "3.8.10"
  }
 },
 "nbformat": 4,
 "nbformat_minor": 5
}
