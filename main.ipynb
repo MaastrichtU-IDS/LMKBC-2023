{
 "cells": [
  {
   "cell_type": "code",
   "execution_count": null,
   "id": "0746b7f1-e66a-41d9-bbce-d60c2551cf3c",
   "metadata": {
    "tags": []
   },
   "outputs": [],
   "source": [
    "\n",
    "!git clone https://github.com/MaastrichtU-IDS/LMKBC-2023.git"
   ]
  },
  {
   "cell_type": "code",
   "execution_count": null,
   "id": "5d05e67e-39f7-470c-8c1e-19775707b2db",
   "metadata": {
    "tags": []
   },
   "outputs": [],
   "source": [
    "!git reset --hard\n",
    "!git pull "
   ]
  },
  {
   "cell_type": "code",
   "execution_count": null,
   "id": "af57b4b5-23dc-4a1d-ae8b-0905652f2b37",
   "metadata": {
    "tags": []
   },
   "outputs": [],
   "source": [
    "!git pull"
   ]
  },
  {
   "cell_type": "code",
   "execution_count": null,
   "id": "3ef8c3b6-c9dc-495e-b844-fc353dadbaf3",
   "metadata": {
    "tags": []
   },
   "outputs": [],
   "source": [
    "import os\n",
    "os.chdir('LMKBC-2023/')"
   ]
  },
  {
   "cell_type": "code",
   "execution_count": null,
   "id": "d5a2ecd7-70ce-45b1-9250-8b3375b928f6",
   "metadata": {
    "tags": []
   },
   "outputs": [],
   "source": [
    "!pip install accelerate -U\n",
    "!pip install transformers"
   ]
  },
  {
   "cell_type": "code",
   "execution_count": null,
   "id": "b789a5e4-ab2b-4301-8b79-a9cb11eb659c",
   "metadata": {
    "scrolled": true,
    "tags": []
   },
   "outputs": [],
   "source": [
    "!python src/run.py --mode \"train_fm\"\n",
    "\n"
   ]
  },
  {
   "cell_type": "code",
   "execution_count": null,
   "id": "6f414398-b041-4bfc-8769-eafe32f05aba",
   "metadata": {
    "tags": []
   },
   "outputs": [],
   "source": [
    "import torch\n",
    "print(torch.cuda.is_available())"
   ]
  },
  {
   "cell_type": "code",
   "execution_count": null,
   "id": "11db8616-7f1c-46aa-8fad-8aaf98a3c643",
   "metadata": {
    "tags": []
   },
   "outputs": [],
   "source": []
  },
  {
   "cell_type": "code",
   "execution_count": null,
   "id": "37ddf76e-10a3-439a-91a8-a941c44250e2",
   "metadata": {
    "tags": []
   },
   "outputs": [],
   "source": [
    "!git add . \n",
    "!git commit -m 'from server' \n",
    "!git push\n"
   ]
  },
  {
   "cell_type": "code",
   "execution_count": null,
   "id": "a13d1898-9f78-4dc1-9e22-13209c33ec48",
   "metadata": {
    "tags": []
   },
   "outputs": [],
   "source": [
    "#!model_load_dir = '/workspace/persistent/LMKBC-2023/bin/pretrain_fill_mask/bert-large-cased/best_ckpt'\n",
    "!model_load_dir ='/workspace/persistent/LMKBC-2023/bin/train_full/fill_mask/bert-large-cased/best_ckpt'\n",
    "\n",
    "!python  /workspace/persistent/LMKBC-2023/src/fm_model.py  --test_fn /workspace/persistent/LMKBC-2023/data/val.jsonl --template_fn res/prompts0.csv   --output_fn /workspace/persistent/LMKBC-2023/output/filled-mask-valid.jsonl --train_fn /workspace/persistent/LMKBC-2023/data/train.jsonl          --train_batch_size 256 --gpu 0  --top_k 30 --threshold 0.1  --dev_fn  /workspace/persistent/LMKBC-2023/data/train_tiny.jsonl         --mode \"tr ain test\"  --train_epoch 50 --learning_rate 5e-5         --model_load_dir   $model_load_dir         --model_save_dir  /workspace/persistent/LMKBC-2023/bin/train_full/fill_mask/bert-large-cased        --model_best_dir  /workspace/persistent/LMKBC-2023/bin/train_full/fill_mask/bert-large-cased/best_ckpt "
   ]
  },
  {
   "cell_type": "code",
   "execution_count": null,
   "id": "e2ea36e8-e98c-42a0-b841-b8a8607508e2",
   "metadata": {},
   "outputs": [],
   "source": [
    "   python {config.SRC_DIR}/fm_model.py  --test_fn {test_fn} --template_fn res/prompts0.csv  --output_fn {OUTPUT_FILE} --train_fn {config.DATA_DIR}/train.jsonl --train_batch_size 64 --gpu {args.gpu}  --top_k 30 --threshold 0.1  --dev_fn  {config.DATA_DIR}/train_tiny.jsonl --mode \"train test\" --train_epoch 50 --learning_rate 5e-5 --model_load_dir {last_best_dir} --model_save_dir {fm_model_save_dir} --model_best_dir  {fm_model_best_dir}"
   ]
  },
  {
   "cell_type": "code",
   "execution_count": null,
   "id": "cc52855d-3ed9-4bc9-b4f6-0137d6fe5053",
   "metadata": {
    "tags": []
   },
   "outputs": [],
   "source": [
    "!nvidia-smi"
   ]
  },
  {
   "cell_type": "code",
   "execution_count": null,
   "id": "af17287f-6598-4aa4-9a0f-a83b56b4fc93",
   "metadata": {
    "tags": []
   },
   "outputs": [],
   "source": [
    "!cd /workspace/persistent/LMKBC-2023/\n",
    "import os\n",
    "\n",
    "command = '''\n",
    "nohup python src/run.py --label 'mask-random' --task pfm,fm --load_dir bert-base-cased --epoch 20,50 --mode 'random,' &\n",
    "'''\n",
    "os.system(command)\n",
    "\n",
    "command = '''\n",
    "nohup python src/run.py --label 'mask-single' --task pfm,fm --load_dir bert-base-cased --epoch 20,50 --mode 'single,' &\n",
    "'''\n",
    "os.system(command)\n",
    "\n",
    "command = '''\n",
    "nohup python src/run.py --label 'mask-fold' --task pfm,fm --load_dir bert-base-cased --epoch 20,50 --mode 'fold,' &\n",
    "'''\n",
    "os.system(command)"
   ]
  },
  {
   "cell_type": "code",
   "execution_count": null,
   "id": "a8c521b5-a33c-4ddf-ae9c-4a835a07df3a",
   "metadata": {},
   "outputs": [],
   "source": [
    "import src.config \n",
    "\n",
    "label = 'mask-random'\n",
    "pfm_model_save_dir =f\"bin/{label}/pfm\"\n",
    "pfm_model_best_dir = pfm_model_save_dir + \"/best_ckpt\"\n",
    "input_fp = f\"{config.RES_DIR}/wikidata/Country-Language-State/filter.json\"\n",
    "model_load_dir = config.bert_base_cased\n",
    "p\n",
    "\n",
    "cmd_pretrain_filled_mask = f\"\"\"\n",
    "\n",
    "python src/pre_model.py   --train_fn {input_fp}  --train_batch_size 32 --gpu 0  --train_epoch 32 --learning_rate 5e-5  --mask_strategy random \n",
    " --model_load_dir {model_load_dir} --model_save_dir {pfm_model_save_dir} --model_best_dir  {pfm_model_best_dir}\n",
    "\n",
    "\"\"\"\n",
    "\n",
    "os.system(cmd_pretrain_filled_mask)\n",
    "\n",
    "\n",
    "OUTPUT_FILE = f'output/filled-mask-valid.jsonl'\n",
    "\n",
    "fm_model_save_dir =f\"bin/label/fm\"\n",
    "fm_model_best_dir = fm_model_save_dir + \"/best_ckpt\"\n",
    "test_fn = config.VAL_FN\n",
    "\n",
    "cmd_run_fillmask = f\"\"\"\n",
    "\n",
    "python src/fm_model.py  --test_fn data/val.jsonl --template_fn res/prompts0.csv  --output_fn {OUTPUT_FILE} --train_fn data/train.jsonl \n",
    "  --train_batch_size 64 --gpu 0  --top_k 30 --threshold 0.1  --dev_fn  data/train_tiny.jsonl --mode \"train test\"   \n",
    "  --train_epoch 50 --learning_rate 5e-5 --model_load_dir {pfm_model_best_dir} --model_save_dir {fm_model_save_dir} \n",
    "  --model_best_dir  {fm_model_best_dir}\n",
    "\n",
    "\"\"\"\n",
    "\n",
    "os.system(cmd_run_fillmask)\n",
    "\n",
    "    "
   ]
  },
  {
   "cell_type": "code",
   "execution_count": null,
   "id": "9819f746-8cc5-40d9-938f-3e904f8de31d",
   "metadata": {
    "tags": []
   },
   "outputs": [],
   "source": [
    "!cat nohup.out "
   ]
  },
  {
   "cell_type": "code",
   "execution_count": null,
   "id": "d55d671e-5a61-4545-a2d1-0301cf75dfba",
   "metadata": {
    "tags": []
   },
   "outputs": [],
   "source": [
    "  !python /workspace/persistent/LMKBC-2023/src/fm_model.py  --test_fn /workspace/persistent/LMKBC-2023/data/val.jsonl --template_fn res/prompts0.csv  --output_fn /workspace/persistent/LMKBC-2023/output/filled-mask-valid.jsonl --train_fn /workspace/persistent/LMKBC-2023/data/train.jsonl --train_batch_size 64 --gpu 0  --top_k 30 --threshold 0.1  --dev_fn  /workspace/persistent/LMKBC-2023/data/train_tiny.jsonl --mode \"train test\" --train_epoch 50 --learning_rate 5e-5 --model_load_dir /workspace/persistent/LMKBC-2023/bin/default/pretrain_fill_mask/best_ckpt --model_save_dir /workspace/persistent/LMKBC-2023/bin/default/fill_mask --model_best_dir  /workspace/persistent/LMKBC-2023/bin/default/fill_mask/best_ckpt"
   ]
  },
  {
   "cell_type": "code",
   "execution_count": 60,
   "id": "9e40fbf7-3ac7-4dd2-8bee-9f8ff174e447",
   "metadata": {},
   "outputs": [
    {
     "name": "stdout",
     "output_type": "stream",
     "text": [
      "{'loss': 7.3641, 'learning_rate': 2.9909404659188957e-05, 'epoch': 1.0}\n",
      "{'loss': 4.3889, 'learning_rate': 2.6678170836928386e-05, 'epoch': 2.0}\n",
      "{'loss': 2.5687, 'learning_rate': 2.334627552487777e-05, 'epoch': 3.0}\n",
      "{'loss': 1.5024, 'learning_rate': 2.0012942191544437e-05, 'epoch': 4.0}\n",
      "{'loss': 0.8552, 'learning_rate': 1.66796088582111e-05, 'epoch': 5.0}\n",
      "{'loss': 0.4638, 'learning_rate': 1.3347713546160483e-05, 'epoch': 6.0}\n",
      "{'loss': 0.2462, 'learning_rate': 1.001438021282715e-05, 'epoch': 7.0}\n",
      "{'loss': 0.1276, 'learning_rate': 6.681046879493816e-06, 'epoch': 8.0}\n",
      "{'loss': 0.0654, 'learning_rate': 3.3491515674431984e-06, 'epoch': 9.0}\n",
      "{'loss': 0.0367, 'learning_rate': 1.5818234109864827e-08, 'epoch': 10.0}\n",
      "{'train_runtime': 9001.6863, 'train_samples_per_second': 41.199, 'train_steps_per_second': 2.575, 'train_loss': 1.7618949900010827, 'epoch': 10.0}\n",
      "{'loss': 7.5764, 'learning_rate': 3.329048843187661e-05, 'epoch': 1.0}\n",
      "{'loss': 4.8136, 'learning_rate': 4.8154514756740766e-05, 'epoch': 2.0}\n",
      "{'loss': 3.3586, 'learning_rate': 4.445283249849526e-05, 'epoch': 3.0}\n",
      "{'loss': 2.4891, 'learning_rate': 4.075013007151383e-05, 'epoch': 4.0}\n",
      "{'loss': 1.818, 'learning_rate': 3.704742764453241e-05, 'epoch': 5.0}\n",
      "{'loss': 1.2564, 'learning_rate': 3.3345235301918934e-05, 'epoch': 6.0}\n",
      "{'loss': 0.8156, 'learning_rate': 2.9642022790569564e-05, 'epoch': 7.0}\n",
      "{'loss': 0.5152, 'learning_rate': 2.5940340532324048e-05, 'epoch': 8.0}\n",
      "{'loss': 0.3285, 'learning_rate': 2.223712802097467e-05, 'epoch': 9.0}\n",
      "{'loss': 0.2212, 'learning_rate': 1.853442559399325e-05, 'epoch': 10.0}\n",
      "{'loss': 0.1571, 'learning_rate': 1.4831723167011824e-05, 'epoch': 11.0}\n",
      "{'loss': 0.1136, 'learning_rate': 1.1129530824398356e-05, 'epoch': 12.0}\n",
      "{'loss': 0.0863, 'learning_rate': 7.426318313048978e-06, 'epoch': 13.0}\n",
      "{'loss': 0.0687, 'learning_rate': 3.72412597043551e-06, 'epoch': 14.0}\n",
      "{'loss': 0.0551, 'learning_rate': 2.2443712189996226e-08, 'epoch': 15.0}\n",
      "{'train_runtime': 53322.7999, 'train_samples_per_second': 32.679, 'train_steps_per_second': 2.043, 'train_loss': 1.578228391027317, 'epoch': 15.0}\n",
      "{'loss': 12.1646, 'learning_rate': 9.53125e-06, 'epoch': 1.0}\n",
      "{'loss': 8.1531, 'learning_rate': 1.953125e-05, 'epoch': 2.0}\n",
      "{'loss': 6.8697, 'learning_rate': 2.953125e-05, 'epoch': 3.0}\n",
      "{'loss': 6.0358, 'learning_rate': 3.953125e-05, 'epoch': 4.0}\n",
      "{'loss': 5.447, 'learning_rate': 4.953125e-05, 'epoch': 5.0}\n",
      "{'loss': 4.7649, 'learning_rate': 4.8940972222222226e-05, 'epoch': 6.0}\n",
      "{'loss': 3.943, 'learning_rate': 4.782986111111111e-05, 'epoch': 7.0}\n",
      "{'loss': 3.3662, 'learning_rate': 4.671875e-05, 'epoch': 8.0}\n",
      "{'loss': 2.8807, 'learning_rate': 4.5607638888888895e-05, 'epoch': 9.0}\n",
      "{'loss': 2.5212, 'learning_rate': 4.449652777777778e-05, 'epoch': 10.0}\n",
      "{'loss': 2.381, 'learning_rate': 4.338541666666667e-05, 'epoch': 11.0}\n",
      "{'loss': 2.2699, 'learning_rate': 4.227430555555556e-05, 'epoch': 12.0}\n",
      "{'loss': 2.0741, 'learning_rate': 4.1163194444444445e-05, 'epoch': 13.0}\n",
      "{'loss': 2.0291, 'learning_rate': 4.005208333333333e-05, 'epoch': 14.0}\n",
      "{'loss': 1.9845, 'learning_rate': 3.894097222222222e-05, 'epoch': 15.0}\n",
      "{'loss': 1.9384, 'learning_rate': 3.7829861111111114e-05, 'epoch': 16.0}\n",
      "{'loss': 1.8965, 'learning_rate': 3.671875e-05, 'epoch': 17.0}\n",
      "{'loss': 1.8515, 'learning_rate': 3.560763888888889e-05, 'epoch': 18.0}\n",
      "{'loss': 1.778, 'learning_rate': 3.449652777777778e-05, 'epoch': 19.0}\n",
      "{'loss': 1.7919, 'learning_rate': 3.338541666666667e-05, 'epoch': 20.0}\n",
      "{'loss': 1.7042, 'learning_rate': 3.227430555555556e-05, 'epoch': 21.0}\n",
      "{'loss': 1.7132, 'learning_rate': 3.1163194444444446e-05, 'epoch': 22.0}\n",
      "{'loss': 1.6932, 'learning_rate': 3.0052083333333336e-05, 'epoch': 23.0}\n",
      "{'loss': 1.6212, 'learning_rate': 2.8940972222222224e-05, 'epoch': 24.0}\n",
      "{'loss': 1.6137, 'learning_rate': 2.782986111111111e-05, 'epoch': 25.0}\n",
      "{'loss': 1.5833, 'learning_rate': 2.6718750000000002e-05, 'epoch': 26.0}\n",
      "{'loss': 1.5722, 'learning_rate': 2.560763888888889e-05, 'epoch': 27.0}\n",
      "{'loss': 1.6064, 'learning_rate': 2.451388888888889e-05, 'epoch': 28.0}\n",
      "{'loss': 1.5446, 'learning_rate': 2.3402777777777778e-05, 'epoch': 29.0}\n",
      "{'loss': 1.5401, 'learning_rate': 2.229166666666667e-05, 'epoch': 30.0}\n",
      "{'loss': 1.4983, 'learning_rate': 2.1180555555555556e-05, 'epoch': 31.0}\n",
      "{'loss': 1.5065, 'learning_rate': 2.0069444444444447e-05, 'epoch': 32.0}\n",
      "{'loss': 1.4907, 'learning_rate': 1.8975694444444444e-05, 'epoch': 33.0}\n",
      "{'loss': 1.5128, 'learning_rate': 1.7864583333333335e-05, 'epoch': 34.0}\n",
      "{'loss': 1.4161, 'learning_rate': 1.6753472222222222e-05, 'epoch': 35.0}\n",
      "{'loss': 1.3988, 'learning_rate': 1.5642361111111113e-05, 'epoch': 36.0}\n",
      "{'loss': 1.4185, 'learning_rate': 1.4531250000000003e-05, 'epoch': 37.0}\n",
      "{'loss': 1.385, 'learning_rate': 1.3420138888888888e-05, 'epoch': 38.0}\n",
      "{'loss': 1.356, 'learning_rate': 1.230902777777778e-05, 'epoch': 39.0}\n",
      "{'loss': 1.3877, 'learning_rate': 1.1197916666666668e-05, 'epoch': 40.0}\n",
      "{'loss': 1.3121, 'learning_rate': 1.0086805555555556e-05, 'epoch': 41.0}\n",
      "{'loss': 1.3526, 'learning_rate': 8.975694444444445e-06, 'epoch': 42.0}\n",
      "{'loss': 1.2891, 'learning_rate': 7.864583333333334e-06, 'epoch': 43.0}\n",
      "{'loss': 1.3225, 'learning_rate': 6.7534722222222225e-06, 'epoch': 44.0}\n",
      "{'loss': 1.3059, 'learning_rate': 5.642361111111112e-06, 'epoch': 45.0}\n",
      "{'loss': 1.2376, 'learning_rate': 4.53125e-06, 'epoch': 46.0}\n",
      "{'loss': 1.2402, 'learning_rate': 3.420138888888889e-06, 'epoch': 47.0}\n",
      "{'loss': 1.2473, 'learning_rate': 2.309027777777778e-06, 'epoch': 48.0}\n",
      "{'loss': 1.2127, 'learning_rate': 1.1979166666666667e-06, 'epoch': 49.0}\n",
      "{'loss': 1.2357, 'learning_rate': 8.680555555555556e-08, 'epoch': 50.0}\n",
      "{'train_runtime': 803.1891, 'train_samples_per_second': 251.062, 'train_steps_per_second': 3.984, 'train_loss': 2.3891858434677125, 'epoch': 50.0}\n",
      "{'loss': 4.6608, 'learning_rate': 0.0, 'epoch': 0.0}\n",
      "{'train_runtime': 3.6687, 'train_samples_per_second': 13.947, 'train_steps_per_second': 0.545, 'train_loss': 4.6607561111450195, 'epoch': 0.0}\n",
      "{'loss': 10.2356, 'learning_rate': 0.0, 'epoch': 0.02}\n",
      "{'train_runtime': 1.9892, 'train_samples_per_second': 2.027, 'train_steps_per_second': 0.503, 'train_loss': 10.235565185546875, 'epoch': 0.02}\n",
      "{'loss': 3.1928, 'learning_rate': 3.328470195914964e-05, 'epoch': 1.0}\n",
      "{'loss': 2.5382, 'learning_rate': 4.815621235986288e-05, 'epoch': 2.0}\n",
      "{'loss': 2.0127, 'learning_rate': 4.4452422866672844e-05, 'epoch': 3.0}\n",
      "{'loss': 1.5918, 'learning_rate': 4.075094968961364e-05, 'epoch': 4.0}\n",
      "{'loss': 1.2666, 'learning_rate': 3.7049476512554435e-05, 'epoch': 5.0}\n",
      "{'loss': 1.008, 'learning_rate': 3.33456870193644e-05, 'epoch': 6.0}\n",
      "{'loss': 0.8041, 'learning_rate': 2.9641897526174373e-05, 'epoch': 7.0}\n",
      "{'loss': 0.6438, 'learning_rate': 2.5940424349115165e-05, 'epoch': 8.0}\n",
      "{'loss': 0.5177, 'learning_rate': 2.2236634855925136e-05, 'epoch': 9.0}\n",
      "{'loss': 0.419, 'learning_rate': 1.8535161678865935e-05, 'epoch': 10.0}\n",
      "{'loss': 0.3428, 'learning_rate': 1.4831372185675902e-05, 'epoch': 11.0}\n",
      "{'loss': 0.2865, 'learning_rate': 1.1129899008616697e-05, 'epoch': 12.0}\n",
      "{'loss': 0.2428, 'learning_rate': 7.4261095154266656e-06, 'epoch': 13.0}\n",
      "{'loss': 0.2119, 'learning_rate': 3.7223200222366347e-06, 'epoch': 14.0}\n",
      "{'loss': 0.1929, 'learning_rate': 2.316316130825535e-08, 'epoch': 15.0}\n",
      "{'train_runtime': 9644.2182, 'train_samples_per_second': 79.58, 'train_steps_per_second': 2.487, 'train_loss': 1.018110060955252, 'epoch': 15.0}\n",
      "{'loss': 9.5454, 'learning_rate': 9.6875e-06, 'epoch': 1.0}\n",
      "{'loss': 6.2804, 'learning_rate': 1.96875e-05, 'epoch': 2.0}\n",
      "{'loss': 5.4365, 'learning_rate': 2.953125e-05, 'epoch': 3.0}\n",
      "{'loss': 4.8205, 'learning_rate': 3.953125e-05, 'epoch': 4.0}\n",
      "{'loss': 4.4132, 'learning_rate': 4.953125e-05, 'epoch': 5.0}\n",
      "{'loss': 3.8991, 'learning_rate': 4.8940972222222226e-05, 'epoch': 6.0}\n",
      "{'loss': 3.4474, 'learning_rate': 4.782986111111111e-05, 'epoch': 7.0}\n",
      "{'loss': 3.0223, 'learning_rate': 4.671875e-05, 'epoch': 8.0}\n",
      "{'loss': 2.668, 'learning_rate': 4.5607638888888895e-05, 'epoch': 9.0}\n",
      "{'loss': 2.4089, 'learning_rate': 4.449652777777778e-05, 'epoch': 10.0}\n",
      "{'loss': 2.1795, 'learning_rate': 4.338541666666667e-05, 'epoch': 11.0}\n",
      "{'loss': 2.1101, 'learning_rate': 4.227430555555556e-05, 'epoch': 12.0}\n",
      "{'loss': 1.9454, 'learning_rate': 4.1163194444444445e-05, 'epoch': 13.0}\n",
      "{'loss': 1.9414, 'learning_rate': 4.005208333333333e-05, 'epoch': 14.0}\n",
      "{'loss': 1.8165, 'learning_rate': 3.894097222222222e-05, 'epoch': 15.0}\n",
      "{'loss': 1.7863, 'learning_rate': 3.7829861111111114e-05, 'epoch': 16.0}\n",
      "{'loss': 1.7308, 'learning_rate': 3.671875e-05, 'epoch': 17.0}\n",
      "{'loss': 1.7552, 'learning_rate': 3.560763888888889e-05, 'epoch': 18.0}\n",
      "{'loss': 1.6709, 'learning_rate': 3.449652777777778e-05, 'epoch': 19.0}\n",
      "{'loss': 1.6619, 'learning_rate': 3.338541666666667e-05, 'epoch': 20.0}\n",
      "{'loss': 1.66, 'learning_rate': 3.227430555555556e-05, 'epoch': 21.0}\n",
      "{'loss': 1.6535, 'learning_rate': 3.1163194444444446e-05, 'epoch': 22.0}\n",
      "{'loss': 1.5743, 'learning_rate': 3.0052083333333336e-05, 'epoch': 23.0}\n",
      "{'loss': 1.5926, 'learning_rate': 2.8940972222222224e-05, 'epoch': 24.0}\n",
      "{'loss': 1.5311, 'learning_rate': 2.782986111111111e-05, 'epoch': 25.0}\n",
      "{'loss': 1.5207, 'learning_rate': 2.6718750000000002e-05, 'epoch': 26.0}\n",
      "{'loss': 1.5273, 'learning_rate': 2.560763888888889e-05, 'epoch': 27.0}\n",
      "{'loss': 1.4749, 'learning_rate': 2.4496527777777777e-05, 'epoch': 28.0}\n",
      "{'loss': 1.4478, 'learning_rate': 2.3385416666666668e-05, 'epoch': 29.0}\n",
      "{'loss': 1.4848, 'learning_rate': 2.227430555555556e-05, 'epoch': 30.0}\n",
      "{'loss': 1.43, 'learning_rate': 2.1163194444444446e-05, 'epoch': 31.0}\n",
      "{'loss': 1.4599, 'learning_rate': 2.0052083333333334e-05, 'epoch': 32.0}\n",
      "{'loss': 1.4367, 'learning_rate': 1.894097222222222e-05, 'epoch': 33.0}\n",
      "{'loss': 1.3853, 'learning_rate': 1.7829861111111112e-05, 'epoch': 34.0}\n",
      "{'loss': 1.3823, 'learning_rate': 1.671875e-05, 'epoch': 35.0}\n",
      "{'loss': 1.3864, 'learning_rate': 1.560763888888889e-05, 'epoch': 36.0}\n",
      "{'loss': 1.3847, 'learning_rate': 1.4513888888888891e-05, 'epoch': 37.0}\n",
      "{'loss': 1.3268, 'learning_rate': 1.3402777777777779e-05, 'epoch': 38.0}\n",
      "{'loss': 1.3597, 'learning_rate': 1.2291666666666666e-05, 'epoch': 39.0}\n",
      "{'loss': 1.3149, 'learning_rate': 1.1180555555555557e-05, 'epoch': 40.0}\n",
      "{'loss': 1.3473, 'learning_rate': 1.0069444444444445e-05, 'epoch': 41.0}\n",
      "{'loss': 1.2898, 'learning_rate': 8.958333333333334e-06, 'epoch': 42.0}\n",
      "{'loss': 1.288, 'learning_rate': 7.847222222222223e-06, 'epoch': 43.0}\n",
      "{'loss': 1.2894, 'learning_rate': 6.736111111111111e-06, 'epoch': 44.0}\n",
      "{'loss': 1.2692, 'learning_rate': 5.625e-06, 'epoch': 45.0}\n",
      "{'loss': 1.2344, 'learning_rate': 4.513888888888889e-06, 'epoch': 46.0}\n",
      "{'loss': 1.2705, 'learning_rate': 3.402777777777778e-06, 'epoch': 47.0}\n",
      "{'loss': 1.2223, 'learning_rate': 2.2916666666666666e-06, 'epoch': 48.0}\n",
      "{'loss': 1.2084, 'learning_rate': 1.1805555555555556e-06, 'epoch': 49.0}\n",
      "{'loss': 1.2027, 'learning_rate': 6.944444444444445e-08, 'epoch': 50.0}\n",
      "{'train_runtime': 397.338, 'train_samples_per_second': 507.502, 'train_steps_per_second': 8.054, 'train_loss': 2.129914889335632, 'epoch': 50.0}\n",
      "{'loss': 8.5005, 'learning_rate': 3.326385994164235e-05, 'epoch': 1.0}\n",
      "{'loss': 6.1169, 'learning_rate': 4.816084499212453e-05, 'epoch': 2.0}\n",
      "{'loss': 3.8586, 'learning_rate': 4.4457055498934493e-05, 'epoch': 3.0}\n",
      "{'loss': 2.3221, 'learning_rate': 4.0753266005744464e-05, 'epoch': 4.0}\n",
      "{'loss': 1.3141, 'learning_rate': 3.7049476512554435e-05, 'epoch': 5.0}\n",
      "{'loss': 0.6677, 'learning_rate': 3.33456870193644e-05, 'epoch': 6.0}\n",
      "{'loss': 0.3253, 'learning_rate': 2.9641897526174373e-05, 'epoch': 7.0}\n",
      "{'loss': 0.1703, 'learning_rate': 2.5938108032984344e-05, 'epoch': 8.0}\n",
      "{'loss': 0.0978, 'learning_rate': 2.2238951172055964e-05, 'epoch': 9.0}\n",
      "{'loss': 0.0607, 'learning_rate': 1.8535161678865935e-05, 'epoch': 10.0}\n",
      "{'loss': 0.0379, 'learning_rate': 1.4833688501806728e-05, 'epoch': 11.0}\n",
      "{'loss': 0.0242, 'learning_rate': 1.1132215324747522e-05, 'epoch': 12.0}\n",
      "{'loss': 0.0165, 'learning_rate': 7.428425831557491e-06, 'epoch': 13.0}\n",
      "{'loss': 0.0113, 'learning_rate': 3.7246363383674605e-06, 'epoch': 14.0}\n",
      "{'loss': 0.0083, 'learning_rate': 2.0846845177429816e-08, 'epoch': 15.0}\n",
      "{'train_runtime': 9641.3104, 'train_samples_per_second': 79.604, 'train_steps_per_second': 2.488, 'train_loss': 1.568810563507939, 'epoch': 15.0}\n",
      "{'loss': 9.7675, 'learning_rate': 9.6875e-06, 'epoch': 1.0}\n",
      "{'loss': 6.4434, 'learning_rate': 1.953125e-05, 'epoch': 2.0}\n",
      "{'loss': 5.4837, 'learning_rate': 2.953125e-05, 'epoch': 3.0}\n",
      "{'loss': 4.7713, 'learning_rate': 3.953125e-05, 'epoch': 4.0}\n",
      "{'loss': 4.3135, 'learning_rate': 4.953125e-05, 'epoch': 5.0}\n",
      "{'loss': 3.8411, 'learning_rate': 4.8940972222222226e-05, 'epoch': 6.0}\n",
      "{'loss': 3.345, 'learning_rate': 4.782986111111111e-05, 'epoch': 7.0}\n",
      "{'loss': 2.8953, 'learning_rate': 4.671875e-05, 'epoch': 8.0}\n",
      "{'loss': 2.6023, 'learning_rate': 4.5607638888888895e-05, 'epoch': 9.0}\n",
      "{'loss': 2.3056, 'learning_rate': 4.449652777777778e-05, 'epoch': 10.0}\n",
      "{'loss': 2.1658, 'learning_rate': 4.338541666666667e-05, 'epoch': 11.0}\n",
      "{'loss': 2.0146, 'learning_rate': 4.227430555555556e-05, 'epoch': 12.0}\n",
      "{'loss': 1.9105, 'learning_rate': 4.1163194444444445e-05, 'epoch': 13.0}\n",
      "{'loss': 1.8981, 'learning_rate': 4.005208333333333e-05, 'epoch': 14.0}\n",
      "{'loss': 1.7942, 'learning_rate': 3.894097222222222e-05, 'epoch': 15.0}\n",
      "{'loss': 1.7875, 'learning_rate': 3.7829861111111114e-05, 'epoch': 16.0}\n",
      "{'loss': 1.7351, 'learning_rate': 3.671875e-05, 'epoch': 17.0}\n",
      "{'loss': 1.6855, 'learning_rate': 3.560763888888889e-05, 'epoch': 18.0}\n",
      "{'loss': 1.656, 'learning_rate': 3.449652777777778e-05, 'epoch': 19.0}\n",
      "{'loss': 1.6578, 'learning_rate': 3.338541666666667e-05, 'epoch': 20.0}\n",
      "{'loss': 1.5923, 'learning_rate': 3.227430555555556e-05, 'epoch': 21.0}\n",
      "{'loss': 1.5923, 'learning_rate': 3.1163194444444446e-05, 'epoch': 22.0}\n",
      "{'loss': 1.5707, 'learning_rate': 3.0052083333333336e-05, 'epoch': 23.0}\n",
      "{'loss': 1.5289, 'learning_rate': 2.8940972222222224e-05, 'epoch': 24.0}\n",
      "{'loss': 1.5372, 'learning_rate': 2.782986111111111e-05, 'epoch': 25.0}\n",
      "{'loss': 1.5387, 'learning_rate': 2.6718750000000002e-05, 'epoch': 26.0}\n",
      "{'loss': 1.5367, 'learning_rate': 2.560763888888889e-05, 'epoch': 27.0}\n",
      "{'loss': 1.4611, 'learning_rate': 2.4496527777777777e-05, 'epoch': 28.0}\n",
      "{'loss': 1.4896, 'learning_rate': 2.3385416666666668e-05, 'epoch': 29.0}\n",
      "{'loss': 1.4472, 'learning_rate': 2.227430555555556e-05, 'epoch': 30.0}\n",
      "{'loss': 1.417, 'learning_rate': 2.1163194444444446e-05, 'epoch': 31.0}\n",
      "{'loss': 1.4092, 'learning_rate': 2.0052083333333334e-05, 'epoch': 32.0}\n",
      "{'loss': 1.4224, 'learning_rate': 1.894097222222222e-05, 'epoch': 33.0}\n",
      "{'loss': 1.4405, 'learning_rate': 1.7847222222222222e-05, 'epoch': 34.0}\n",
      "{'loss': 1.3979, 'learning_rate': 1.673611111111111e-05, 'epoch': 35.0}\n",
      "{'loss': 1.3893, 'learning_rate': 1.5625e-05, 'epoch': 36.0}\n",
      "{'loss': 1.3799, 'learning_rate': 1.4513888888888891e-05, 'epoch': 37.0}\n",
      "{'loss': 1.3582, 'learning_rate': 1.3402777777777779e-05, 'epoch': 38.0}\n",
      "{'loss': 1.3122, 'learning_rate': 1.2291666666666666e-05, 'epoch': 39.0}\n",
      "{'loss': 1.3058, 'learning_rate': 1.1180555555555557e-05, 'epoch': 40.0}\n",
      "{'loss': 1.2932, 'learning_rate': 1.0069444444444445e-05, 'epoch': 41.0}\n",
      "{'loss': 1.2817, 'learning_rate': 8.958333333333334e-06, 'epoch': 42.0}\n",
      "{'loss': 1.2888, 'learning_rate': 7.847222222222223e-06, 'epoch': 43.0}\n",
      "{'loss': 1.3073, 'learning_rate': 6.736111111111111e-06, 'epoch': 44.0}\n",
      "{'loss': 1.238, 'learning_rate': 5.625e-06, 'epoch': 45.0}\n",
      "{'loss': 1.2581, 'learning_rate': 4.513888888888889e-06, 'epoch': 46.0}\n",
      "{'loss': 1.2426, 'learning_rate': 3.402777777777778e-06, 'epoch': 47.0}\n",
      "{'loss': 1.2494, 'learning_rate': 2.2916666666666666e-06, 'epoch': 48.0}\n",
      "{'loss': 1.2629, 'learning_rate': 1.1805555555555556e-06, 'epoch': 49.0}\n",
      "{'loss': 1.1915, 'learning_rate': 6.944444444444445e-08, 'epoch': 50.0}\n",
      "{'train_runtime': 393.1219, 'train_samples_per_second': 512.945, 'train_steps_per_second': 8.14, 'train_loss': 2.1162885570526124, 'epoch': 50.0}\n"
     ]
    }
   ],
   "source": [
    "!tail -n 1000  nohup.out| grep loss"
   ]
  },
  {
   "cell_type": "code",
   "execution_count": 70,
   "id": "41572494-a81b-4017-9bb3-73bb12b18208",
   "metadata": {
    "tags": []
   },
   "outputs": [
    {
     "name": "stdout",
     "output_type": "stream",
     "text": [
      "/workspace/persistent/LMKBC-2023/bin/fill_mask/bert-large-cased\n",
      "CountryBordersCountry {\n",
      "  \"p\": 0.08783068783068781,\n",
      "  \"r\": 0.6477891156462586,\n",
      "  \"f1\": 0.15071464504439727,\n",
      "  \"best_threshold\": 0.03,\n",
      "  \"best_f1\": 0.26672353219972267\n",
      "}\n",
      "CountryHasOfficialLanguage {\n",
      "  \"p\": 0.03540229885057473,\n",
      "  \"r\": 0.7412587412587412,\n",
      "  \"f1\": 0.06654891825287991,\n",
      "  \"best_threshold\": 0.13,\n",
      "  \"best_f1\": 0.48923076923076936\n",
      "}\n",
      "CountryHasStates {\n",
      "  \"p\": 0.0014492753623188406,\n",
      "  \"r\": 0.004693675889328063,\n",
      "  \"f1\": 0.002204610146787967,\n",
      "  \"best_threshold\": 0.01,\n",
      "  \"best_f1\": 0.00380952380952381\n",
      "}\n",
      "StateBordersState {\n",
      "  \"p\": 0.006356321839080459,\n",
      "  \"r\": 0.04651298701298701,\n",
      "  \"f1\": 0.01072487564061384,\n",
      "  \"best_threshold\": 0.01,\n",
      "  \"best_f1\": 0.022188375350140063\n",
      "}\n",
      "Average {\n",
      "  \"p\": 0.028341648371169318,\n",
      "  \"r\": 0.5173254574470191,\n",
      "  \"f1\": 0.052348897664377544,\n",
      "  \"best_f1\": 0.24164248119666945\n",
      "}\n"
     ]
    }
   ],
   "source": [
    "import json \n",
    "import src.util\n",
    "result_fp = 'res/results.jsonl'\n",
    "sentence_list =  open(result_fp).readlines()\n",
    "json_list = [json.loads(s) for s in sentence_list] \n",
    "\n",
    "result_json = json.loads(open(result_fp).readlines()[-10])\n",
    "label = result_json['args']['model_save_dir']\n",
    "print(label)\n",
    "need_keys = ['CountryBordersCountry','CountryHasOfficialLanguage',\n",
    "             'CountryHasStates',\"StateBordersState\",'Average']\n",
    "result = result_json['metric']\n",
    "#print(result.keys())\n",
    "for k in need_keys:\n",
    "    print(k, json.dumps(result[k],indent = 2))\n"
   ]
  },
  {
   "cell_type": "code",
   "execution_count": null,
   "id": "c400ee63-f70d-4cb7-8655-4dce3886e39c",
   "metadata": {},
   "outputs": [],
   "source": []
  },
  {
   "cell_type": "code",
   "execution_count": null,
   "id": "75b393df-8a48-4951-ab1f-13a92d1a3cc6",
   "metadata": {},
   "outputs": [],
   "source": []
  },
  {
   "cell_type": "code",
   "execution_count": null,
   "id": "b5a14aec-9f06-48f5-845c-654c82dc7cff",
   "metadata": {},
   "outputs": [],
   "source": []
  }
 ],
 "metadata": {
  "kernelspec": {
   "display_name": "Python 3 (ipykernel)",
   "language": "python",
   "name": "python3"
  },
  "language_info": {
   "codemirror_mode": {
    "name": "ipython",
    "version": 3
   },
   "file_extension": ".py",
   "mimetype": "text/x-python",
   "name": "python",
   "nbconvert_exporter": "python",
   "pygments_lexer": "ipython3",
   "version": "3.8.10"
  }
 },
 "nbformat": 4,
 "nbformat_minor": 5
}
