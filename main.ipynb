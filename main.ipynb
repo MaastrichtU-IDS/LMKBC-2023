{
 "cells": [
  {
   "cell_type": "code",
   "execution_count": null,
   "id": "0746b7f1-e66a-41d9-bbce-d60c2551cf3c",
   "metadata": {
    "tags": []
   },
   "outputs": [],
   "source": [
    "\n",
    "!git clone https://github.com/MaastrichtU-IDS/LMKBC-2023.git"
   ]
  },
  {
   "cell_type": "code",
   "execution_count": null,
   "id": "5d05e67e-39f7-470c-8c1e-19775707b2db",
   "metadata": {
    "tags": []
   },
   "outputs": [],
   "source": [
    "!git reset --hard\n",
    "!git pull "
   ]
  },
  {
   "cell_type": "code",
   "execution_count": null,
   "id": "af57b4b5-23dc-4a1d-ae8b-0905652f2b37",
   "metadata": {
    "tags": []
   },
   "outputs": [],
   "source": [
    "!pip3 uninstall torch torchvision torchaudio\n",
    "!pip uninstall transformers\n",
    "!pip uninstall accelerate -U\n"
   ]
  },
  {
   "cell_type": "code",
   "execution_count": null,
   "id": "3ef8c3b6-c9dc-495e-b844-fc353dadbaf3",
   "metadata": {
    "tags": []
   },
   "outputs": [],
   "source": [
    "import os\n",
    "os.chdir('LMKBC-2023/')"
   ]
  },
  {
   "cell_type": "code",
   "execution_count": 1,
   "id": "d5a2ecd7-70ce-45b1-9250-8b3375b928f6",
   "metadata": {
    "tags": []
   },
   "outputs": [
    {
     "name": "stdout",
     "output_type": "stream",
     "text": [
      "Looking in indexes: https://pypi.org/simple, https://pypi.ngc.nvidia.com\n",
      "Collecting transformers\n",
      "  Downloading transformers-4.31.0-py3-none-any.whl (7.4 MB)\n",
      "\u001b[2K     \u001b[90m━━━━━━━━━━━━━━━━━━━━━━━━━━━━━━━━━━━━━━━━\u001b[0m \u001b[32m7.4/7.4 MB\u001b[0m \u001b[31m77.1 MB/s\u001b[0m eta \u001b[36m0:00:00\u001b[0ma \u001b[36m0:00:01\u001b[0m\n",
      "\u001b[?25hRequirement already satisfied: numpy>=1.17 in /usr/local/lib/python3.8/dist-packages (from transformers) (1.22.2)\n",
      "Requirement already satisfied: requests in /usr/local/lib/python3.8/dist-packages (from transformers) (2.28.2)\n",
      "Collecting tokenizers!=0.11.3,<0.14,>=0.11.1\n",
      "  Downloading tokenizers-0.13.3-cp38-cp38-manylinux_2_17_x86_64.manylinux2014_x86_64.whl (7.8 MB)\n",
      "\u001b[2K     \u001b[90m━━━━━━━━━━━━━━━━━━━━━━━━━━━━━━━━━━━━━━━━\u001b[0m \u001b[32m7.8/7.8 MB\u001b[0m \u001b[31m123.6 MB/s\u001b[0m eta \u001b[36m0:00:00\u001b[0ma \u001b[36m0:00:01\u001b[0m\n",
      "\u001b[?25hRequirement already satisfied: packaging>=20.0 in /usr/local/lib/python3.8/dist-packages (from transformers) (23.0)\n",
      "Collecting huggingface-hub<1.0,>=0.14.1\n",
      "  Downloading huggingface_hub-0.16.4-py3-none-any.whl (268 kB)\n",
      "\u001b[2K     \u001b[90m━━━━━━━━━━━━━━━━━━━━━━━━━━━━━━━━━━━━━\u001b[0m \u001b[32m268.8/268.8 kB\u001b[0m \u001b[31m217.4 MB/s\u001b[0m eta \u001b[36m0:00:00\u001b[0m\n",
      "\u001b[?25hRequirement already satisfied: pyyaml>=5.1 in /usr/local/lib/python3.8/dist-packages (from transformers) (6.0)\n",
      "Requirement already satisfied: tqdm>=4.27 in /usr/local/lib/python3.8/dist-packages (from transformers) (4.65.0)\n",
      "Requirement already satisfied: regex!=2019.12.17 in /usr/local/lib/python3.8/dist-packages (from transformers) (2022.10.31)\n",
      "Collecting safetensors>=0.3.1\n",
      "  Downloading safetensors-0.3.1-cp38-cp38-manylinux_2_17_x86_64.manylinux2014_x86_64.whl (1.3 MB)\n",
      "\u001b[2K     \u001b[90m━━━━━━━━━━━━━━━━━━━━━━━━━━━━━━━━━━━━━━━━\u001b[0m \u001b[32m1.3/1.3 MB\u001b[0m \u001b[31m221.1 MB/s\u001b[0m eta \u001b[36m0:00:00\u001b[0m\n",
      "\u001b[?25hRequirement already satisfied: filelock in /usr/local/lib/python3.8/dist-packages (from transformers) (3.10.0)\n",
      "Requirement already satisfied: typing-extensions>=3.7.4.3 in /usr/local/lib/python3.8/dist-packages (from huggingface-hub<1.0,>=0.14.1->transformers) (4.5.0)\n",
      "Requirement already satisfied: fsspec in /usr/local/lib/python3.8/dist-packages (from huggingface-hub<1.0,>=0.14.1->transformers) (2023.1.0)\n",
      "Requirement already satisfied: certifi>=2017.4.17 in /usr/local/lib/python3.8/dist-packages (from requests->transformers) (2022.12.7)\n",
      "Requirement already satisfied: urllib3<1.27,>=1.21.1 in /usr/local/lib/python3.8/dist-packages (from requests->transformers) (1.26.14)\n",
      "Requirement already satisfied: idna<4,>=2.5 in /usr/local/lib/python3.8/dist-packages (from requests->transformers) (3.4)\n",
      "Requirement already satisfied: charset-normalizer<4,>=2 in /usr/local/lib/python3.8/dist-packages (from requests->transformers) (3.1.0)\n",
      "Installing collected packages: tokenizers, safetensors, huggingface-hub, transformers\n",
      "Successfully installed huggingface-hub-0.16.4 safetensors-0.3.1 tokenizers-0.13.3 transformers-4.31.0\n",
      "\u001b[33mWARNING: Running pip as the 'root' user can result in broken permissions and conflicting behaviour with the system package manager. It is recommended to use a virtual environment instead: https://pip.pypa.io/warnings/venv\u001b[0m\u001b[33m\n",
      "\u001b[0m\n",
      "\u001b[1m[\u001b[0m\u001b[34;49mnotice\u001b[0m\u001b[1;39;49m]\u001b[0m\u001b[39;49m A new release of pip is available: \u001b[0m\u001b[31;49m23.0.1\u001b[0m\u001b[39;49m -> \u001b[0m\u001b[32;49m23.2.1\u001b[0m\n",
      "\u001b[1m[\u001b[0m\u001b[34;49mnotice\u001b[0m\u001b[1;39;49m]\u001b[0m\u001b[39;49m To update, run: \u001b[0m\u001b[32;49mpython -m pip install --upgrade pip\u001b[0m\n",
      "Looking in indexes: https://pypi.org/simple, https://pypi.ngc.nvidia.com\n",
      "Collecting accelerate\n",
      "  Downloading accelerate-0.21.0-py3-none-any.whl (244 kB)\n",
      "\u001b[2K     \u001b[90m━━━━━━━━━━━━━━━━━━━━━━━━━━━━━━━━━━━━━━\u001b[0m \u001b[32m244.2/244.2 kB\u001b[0m \u001b[31m16.7 MB/s\u001b[0m eta \u001b[36m0:00:00\u001b[0m\n",
      "\u001b[?25hRequirement already satisfied: torch>=1.10.0 in /usr/local/lib/python3.8/dist-packages (from accelerate) (2.0.0a0+1767026)\n",
      "Requirement already satisfied: numpy>=1.17 in /usr/local/lib/python3.8/dist-packages (from accelerate) (1.22.2)\n",
      "Requirement already satisfied: packaging>=20.0 in /usr/local/lib/python3.8/dist-packages (from accelerate) (23.0)\n",
      "Requirement already satisfied: pyyaml in /usr/local/lib/python3.8/dist-packages (from accelerate) (6.0)\n",
      "Requirement already satisfied: psutil in /usr/local/lib/python3.8/dist-packages (from accelerate) (5.9.4)\n",
      "Requirement already satisfied: filelock in /usr/local/lib/python3.8/dist-packages (from torch>=1.10.0->accelerate) (3.10.0)\n",
      "Requirement already satisfied: typing_extensions in /usr/local/lib/python3.8/dist-packages (from torch>=1.10.0->accelerate) (4.5.0)\n",
      "Requirement already satisfied: sympy in /usr/local/lib/python3.8/dist-packages (from torch>=1.10.0->accelerate) (1.11.1)\n",
      "Requirement already satisfied: networkx in /usr/local/lib/python3.8/dist-packages (from torch>=1.10.0->accelerate) (2.6.3)\n",
      "Requirement already satisfied: mpmath>=0.19 in /usr/local/lib/python3.8/dist-packages (from sympy->torch>=1.10.0->accelerate) (1.3.0)\n",
      "Installing collected packages: accelerate\n",
      "Successfully installed accelerate-0.21.0\n",
      "\u001b[33mWARNING: Running pip as the 'root' user can result in broken permissions and conflicting behaviour with the system package manager. It is recommended to use a virtual environment instead: https://pip.pypa.io/warnings/venv\u001b[0m\u001b[33m\n",
      "\u001b[0m\n",
      "\u001b[1m[\u001b[0m\u001b[34;49mnotice\u001b[0m\u001b[1;39;49m]\u001b[0m\u001b[39;49m A new release of pip is available: \u001b[0m\u001b[31;49m23.0.1\u001b[0m\u001b[39;49m -> \u001b[0m\u001b[32;49m23.2.1\u001b[0m\n",
      "\u001b[1m[\u001b[0m\u001b[34;49mnotice\u001b[0m\u001b[1;39;49m]\u001b[0m\u001b[39;49m To update, run: \u001b[0m\u001b[32;49mpython -m pip install --upgrade pip\u001b[0m\n"
     ]
    }
   ],
   "source": [
    "!pip install transformers\n",
    "!pip install accelerate -U\n"
   ]
  },
  {
   "cell_type": "code",
   "execution_count": null,
   "id": "b789a5e4-ab2b-4301-8b79-a9cb11eb659c",
   "metadata": {
    "scrolled": true,
    "tags": []
   },
   "outputs": [],
   "source": [
    "!python src/run.py --mode \"train_fm\"\n",
    "\n"
   ]
  },
  {
   "cell_type": "code",
   "execution_count": null,
   "id": "6f414398-b041-4bfc-8769-eafe32f05aba",
   "metadata": {
    "tags": []
   },
   "outputs": [],
   "source": [
    "import torch\n",
    "print(torch.cuda.is_available())"
   ]
  },
  {
   "cell_type": "code",
   "execution_count": null,
   "id": "11db8616-7f1c-46aa-8fad-8aaf98a3c643",
   "metadata": {
    "tags": []
   },
   "outputs": [],
   "source": []
  },
  {
   "cell_type": "code",
   "execution_count": null,
   "id": "37ddf76e-10a3-439a-91a8-a941c44250e2",
   "metadata": {
    "tags": []
   },
   "outputs": [],
   "source": [
    "!git add . \n",
    "!git commit -m 'from server' \n",
    "!git push\n"
   ]
  },
  {
   "cell_type": "code",
   "execution_count": null,
   "id": "a13d1898-9f78-4dc1-9e22-13209c33ec48",
   "metadata": {
    "tags": []
   },
   "outputs": [],
   "source": [
    "#!model_load_dir = '/workspace/persistent/LMKBC-2023/bin/pretrain_fill_mask/bert-large-cased/best_ckpt'\n",
    "!model_load_dir ='/workspace/persistent/LMKBC-2023/bin/train_full/fill_mask/bert-large-cased/best_ckpt'\n",
    "\n",
    "!python  /workspace/persistent/LMKBC-2023/src/fm_model.py  --test_fn /workspace/persistent/LMKBC-2023/data/val.jsonl --template_fn res/prompts0.csv   --output_fn /workspace/persistent/LMKBC-2023/output/filled-mask-valid.jsonl --train_fn /workspace/persistent/LMKBC-2023/data/train.jsonl          --train_batch_size 256 --gpu 0  --top_k 30 --threshold 0.1  --dev_fn  /workspace/persistent/LMKBC-2023/data/train_tiny.jsonl         --mode \"tr ain test\"  --train_epoch 50 --learning_rate 5e-5         --model_load_dir   $model_load_dir         --model_save_dir  /workspace/persistent/LMKBC-2023/bin/train_full/fill_mask/bert-large-cased        --model_best_dir  /workspace/persistent/LMKBC-2023/bin/train_full/fill_mask/bert-large-cased/best_ckpt "
   ]
  },
  {
   "cell_type": "code",
   "execution_count": null,
   "id": "e2ea36e8-e98c-42a0-b841-b8a8607508e2",
   "metadata": {},
   "outputs": [],
   "source": [
    "   python {config.SRC_DIR}/fm_model.py  --test_fn {test_fn} --template_fn res/prompts0.csv  --output_fn {OUTPUT_FILE} --train_fn {config.DATA_DIR}/train.jsonl --train_batch_size 64 --gpu {args.gpu}  --top_k 30 --threshold 0.1  --dev_fn  {config.DATA_DIR}/train_tiny.jsonl --mode \"train test\" --train_epoch 50 --learning_rate 5e-5 --model_load_dir {last_best_dir} --model_save_dir {fm_model_save_dir} --model_best_dir  {fm_model_best_dir}"
   ]
  },
  {
   "cell_type": "code",
   "execution_count": null,
   "id": "cc52855d-3ed9-4bc9-b4f6-0137d6fe5053",
   "metadata": {
    "tags": []
   },
   "outputs": [],
   "source": [
    "!nvidia-smi"
   ]
  },
  {
   "cell_type": "code",
   "execution_count": null,
   "id": "af17287f-6598-4aa4-9a0f-a83b56b4fc93",
   "metadata": {
    "tags": []
   },
   "outputs": [],
   "source": [
    "!cd /workspace/persistent/LMKBC-2023/\n",
    "import os\n",
    "\n",
    "command = '''\n",
    "nohup python src/run.py --label 'mask-random' --task pfm,fm --load_dir bert-base-cased --epoch 20,50 --mode 'random,' &\n",
    "'''\n",
    "os.system(command)\n",
    "\n",
    "command = '''\n",
    "nohup python src/run.py --label 'mask-single' --task pfm,fm --load_dir bert-base-cased --epoch 20,50 --mode 'single,' &\n",
    "'''\n",
    "os.system(command)\n",
    "\n",
    "command = '''\n",
    "nohup python src/run.py --label 'mask-fold' --task pfm,fm --load_dir bert-base-cased --epoch 20,50 --mode 'fold,' &\n",
    "'''\n",
    "os.system(command)"
   ]
  },
  {
   "cell_type": "code",
   "execution_count": null,
   "id": "a8c521b5-a33c-4ddf-ae9c-4a835a07df3a",
   "metadata": {},
   "outputs": [],
   "source": [
    "import src.config \n",
    "\n",
    "label = 'mask-random'\n",
    "pfm_model_save_dir =f\"bin/{label}/pfm\"\n",
    "pfm_model_best_dir = pfm_model_save_dir + \"/best_ckpt\"\n",
    "input_fp = f\"{config.RES_DIR}/wikidata/Country-Language-State/filter.json\"\n",
    "model_load_dir = config.bert_base_cased\n",
    "p\n",
    "\n",
    "cmd_pretrain_filled_mask = f\"\"\"\n",
    "\n",
    "python src/pre_model.py   --train_fn {input_fp}  --train_batch_size 32 --gpu 0  --train_epoch 32 --learning_rate 5e-5  --mask_strategy random \n",
    " --model_load_dir {model_load_dir} --model_save_dir {pfm_model_save_dir} --model_best_dir  {pfm_model_best_dir}\n",
    "\n",
    "\"\"\"\n",
    "\n",
    "os.system(cmd_pretrain_filled_mask)\n",
    "\n",
    "\n",
    "OUTPUT_FILE = f'output/filled-mask-valid.jsonl'\n",
    "\n",
    "fm_model_save_dir =f\"bin/label/fm\"\n",
    "fm_model_best_dir = fm_model_save_dir + \"/best_ckpt\"\n",
    "test_fn = config.VAL_FN\n",
    "\n",
    "cmd_run_fillmask = f\"\"\"\n",
    "\n",
    "python src/fm_model.py  --test_fn data/val.jsonl --template_fn res/prompts0.csv  --output_fn {OUTPUT_FILE} --train_fn data/train.jsonl \n",
    "  --train_batch_size 64 --gpu 0  --top_k 30 --threshold 0.1  --dev_fn  data/train_tiny.jsonl --mode \"train test\"   \n",
    "  --train_epoch 50 --learning_rate 5e-5 --model_load_dir {pfm_model_best_dir} --model_save_dir {fm_model_save_dir} \n",
    "  --model_best_dir  {fm_model_best_dir}\n",
    "\n",
    "\"\"\"\n",
    "\n",
    "os.system(cmd_run_fillmask)\n",
    "\n",
    "    "
   ]
  },
  {
   "cell_type": "code",
   "execution_count": null,
   "id": "9819f746-8cc5-40d9-938f-3e904f8de31d",
   "metadata": {
    "tags": []
   },
   "outputs": [],
   "source": [
    "!cat nohup.out "
   ]
  },
  {
   "cell_type": "code",
   "execution_count": null,
   "id": "d55d671e-5a61-4545-a2d1-0301cf75dfba",
   "metadata": {
    "tags": []
   },
   "outputs": [],
   "source": [
    "  !python /workspace/persistent/LMKBC-2023/src/fm_model.py  --test_fn /workspace/persistent/LMKBC-2023/data/val.jsonl --template_fn res/prompts0.csv  --output_fn /workspace/persistent/LMKBC-2023/output/filled-mask-valid.jsonl --train_fn /workspace/persistent/LMKBC-2023/data/train.jsonl --train_batch_size 64 --gpu 0  --top_k 30 --threshold 0.1  --dev_fn  /workspace/persistent/LMKBC-2023/data/train_tiny.jsonl --mode \"train test\" --train_epoch 50 --learning_rate 5e-5 --model_load_dir /workspace/persistent/LMKBC-2023/bin/default/pretrain_fill_mask/best_ckpt --model_save_dir /workspace/persistent/LMKBC-2023/bin/default/fill_mask --model_best_dir  /workspace/persistent/LMKBC-2023/bin/default/fill_mask/best_ckpt"
   ]
  },
  {
   "cell_type": "code",
   "execution_count": null,
   "id": "9e40fbf7-3ac7-4dd2-8bee-9f8ff174e447",
   "metadata": {},
   "outputs": [],
   "source": [
    "!tail -n 1000  nohup.out| grep loss"
   ]
  },
  {
   "cell_type": "code",
   "execution_count": 4,
   "id": "41572494-a81b-4017-9bb3-73bb12b18208",
   "metadata": {
    "tags": []
   },
   "outputs": [
    {
     "name": "stdout",
     "output_type": "stream",
     "text": [
      "cwd /workspace/project/LMKBC-2023\n",
      "getcwd /workspace/project/LMKBC-2023\n",
      "               label  CountryBordersCountry  CountryHasOfficialLanguage  CountryHasStates  StateBordersState  Average\n",
      "0          workspace                  0.000                       0.000             0.000              0.000    0.000\n",
      "1          workspace                  0.357                       0.568             0.028              0.013    0.246\n",
      "2   bert-large-cased                  0.358                       0.585             0.022              0.012    0.248\n",
      "3          workspace                  0.380                       0.506             0.097              0.013    0.252\n",
      "4               home                  0.370                       0.587             0.007              0.017    0.247\n",
      "5    bert-base-cased                  0.365                       0.581             0.019              0.014    0.247\n",
      "6    bert-base-cased                  0.000                       0.000             0.000              0.000    0.000\n",
      "7    bert-base-cased                  0.000                       0.000             0.000              0.000    0.000\n",
      "8    bert-base-cased                  0.977                       0.987             0.968              0.957    0.916\n",
      "9    bert-base-cased                  0.360                       0.589             0.015              0.012    0.244\n",
      "10         workspace                  0.361                       0.559             0.330              0.070    0.312\n",
      "11         workspace                  0.361                       0.559             0.330              0.070    0.312\n",
      "12         workspace                  0.361                       0.559             0.330              0.070    0.312\n",
      "13         workspace                  0.267                       0.489             0.004              0.022    0.242\n",
      "14         workspace                  0.328                       0.595             0.109              0.052    0.282\n",
      "15            random                  0.390                       0.656             0.057              0.066    0.289\n",
      "16            single                  0.321                       0.576             0.086              0.066    0.287\n",
      "17              fold                  0.350                       0.609             0.141              0.140    0.308\n",
      "18            random                  0.397                       0.670             0.091              0.113    0.284\n",
      "19            single                  0.379                       0.586             0.117              0.114    0.280\n",
      "20         workspace                  0.328                       0.595             0.109              0.052    0.282\n",
      "21            random                  0.391                       0.670             0.077              0.093    0.284\n",
      "22            single                  0.339                       0.550             0.013              0.034    0.261\n"
     ]
    }
   ],
   "source": [
    "import os\n",
    "import json \n",
    "import sys\n",
    "print('cwd', os.getcwd())\n",
    "import pandas as pd\n",
    "sys.path.append('src')\n",
    "import src.util\n",
    "\n",
    "\n",
    "result_fp = 'res/results.jsonl'\n",
    "sentence_list =  open(result_fp).readlines()\n",
    "json_list = [json.loads(s) for s in sentence_list]\n",
    "result_list=[]\n",
    "for json_dict in json_list:\n",
    "    model_load_dir = json_dict['args']['model_load_dir']\n",
    "    if len(model_load_dir) < 20:\n",
    "        label = model_load_dir\n",
    "    else:\n",
    "        label = model_load_dir.split('/')[1]\n",
    "    epoch = json_dict['args']['train_epoch']\n",
    "    if epoch <30:\n",
    "        continue\n",
    "    #print(label, epoch )\n",
    "    need_keys = ['CountryBordersCountry','CountryHasOfficialLanguage',\n",
    "                 'CountryHasStates',\"StateBordersState\",'Average']\n",
    "    metric = json_dict['metric']\n",
    "    result = dict()\n",
    "    result['label'] = label\n",
    "    #print(result.keys())\n",
    "    for k in need_keys:\n",
    "        result[k] = metric[k]['best_f1']\n",
    "    result_list.append(result)\n",
    "    \n",
    "scores_per_relation_pd = pd.DataFrame(result_list)\n",
    "print(scores_per_relation_pd.round(3).to_string(max_cols=12))\n",
    "#print(scores_per_relation_pd.transpose().round(2).to_string(max_cols=12))\n"
   ]
  },
  {
   "cell_type": "code",
   "execution_count": null,
   "id": "c400ee63-f70d-4cb7-8655-4dce3886e39c",
   "metadata": {},
   "outputs": [],
   "source": []
  },
  {
   "cell_type": "code",
   "execution_count": null,
   "id": "75b393df-8a48-4951-ab1f-13a92d1a3cc6",
   "metadata": {},
   "outputs": [],
   "source": []
  },
  {
   "cell_type": "code",
   "execution_count": null,
   "id": "b5a14aec-9f06-48f5-845c-654c82dc7cff",
   "metadata": {},
   "outputs": [],
   "source": []
  }
 ],
 "metadata": {
  "kernelspec": {
   "display_name": "Python 3 (ipykernel)",
   "language": "python",
   "name": "python3"
  },
  "language_info": {
   "codemirror_mode": {
    "name": "ipython",
    "version": 3
   },
   "file_extension": ".py",
   "mimetype": "text/x-python",
   "name": "python",
   "nbconvert_exporter": "python",
   "pygments_lexer": "ipython3",
   "version": "3.8.10"
  }
 },
 "nbformat": 4,
 "nbformat_minor": 5
}
